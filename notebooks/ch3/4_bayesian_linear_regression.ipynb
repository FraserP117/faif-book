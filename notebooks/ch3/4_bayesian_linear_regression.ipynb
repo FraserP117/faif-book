{
 "cells": [
  {
   "cell_type": "markdown",
   "metadata": {},
   "source": [
    "# Bayesian linear regression\n",
    "\n",
    "Demonstration of an agent performing Bayesian linear regression.\n",
    "\n",
    "==========================================================================\n",
    "\n",
    "* **Notebook dependencies**:\n",
    "    * ...\n",
    "\n",
    "* **Content**: Jupyter notebook accompanying Chapter 3 of the textbook \"Fundamentals of Active Inference\"\n",
    "\n",
    "* **Author**: Sanjeev Namjoshi (sanjeev.namjoshi@gmail.com)\n",
    "\n",
    "* **Version**: 0.1"
   ]
  },
  {
   "cell_type": "code",
   "execution_count": 1,
   "metadata": {},
   "outputs": [],
   "source": [
    "import matplotlib.pyplot as plt\n",
    "import matplotlib as mpl\n",
    "import numpy as np\n",
    "\n",
    "from numpy.linalg import inv\n",
    "from pylab import colorbar\n",
    "from scipy.stats import multivariate_normal\n",
    "from types import SimpleNamespace\n",
    "\n",
    "mpl.style.use(\"seaborn-deep\")"
   ]
  },
  {
   "cell_type": "markdown",
   "metadata": {},
   "source": [
    "We now turn to a Bayesian linear regression agent. In Bayesian linear regression, we are interested in solving the following inference problem:\n",
    "\n",
    "$$\n",
    "p_{\\Sigma_{\\theta \\mid y}, \\mu_{\\theta \\mid y}}(\\boldsymbol{\\theta} \\mid \\boldsymbol{y}) = \\frac{p_{\\sigma^2_y, X}(\\boldsymbol{y} \\mid \\boldsymbol{\\theta}) p_{\\mu_{\\theta}, \\sigma^2_{\\theta}}(\\boldsymbol{\\theta})}{p(\\boldsymbol{y})}\n",
    "$$\n",
    "\n",
    "This tells us that we are interested in the posterior distribution over parameters. However, we are not just interested in deterministic values for $\\beta_0$ and $\\beta_1$. Rather we want to collect them into a vector $\\boldsymbol{\\theta} = \\begin{bmatrix} \\beta_0 & \\beta_1 \\end{bmatrix}^\\top$ which we can represent with a multivariate normal distribution. This distribution is the posterior: Given what we have observed of the data, what is the distribution of the parameter vector? The variables of interest are represented as follows:\n",
    "\n",
    "| Variable | Status     | Data type     |\n",
    "|----------|------------|---------------|\n",
    "| $x$      | observed   | deterministic |\n",
    "| $y$      | observed   | probabilistic |\n",
    "| $\\theta$ | unobserved | **probabilistic** |\n",
    "| $\\phi$   | known      | deterministic |\n",
    "\n",
    "We will the following specification for the generative process:\n",
    "\n",
    "\n",
    "$$\n",
    "    \\mathscr{E} \\triangleq\n",
    "    \\begin{cases}\n",
    "        y^{(i)} = g_{\\mathscr{E}}({{\\boldsymbol{x}^*}^{(i)}}; \\boldsymbol{\\theta}^*) + \\omega_y^*    & \\text{Outcome generation} \\\\\n",
    "        g_{\\mathscr{E}}({{\\boldsymbol{x}^*}^{(i)}}; \\boldsymbol{\\theta}^*) = {{\\boldsymbol{x}^*}^{(i)}}^\\top \\boldsymbol{\\theta^*} & \\text{Linear generating function} \\\\\n",
    "        \\boldsymbol{\\omega}_y^* \\sim \\mathcal{N}(\\mu = 0, \\sigma^2 = 1) & \\text{Gaussian noise} \\\\\n",
    "        \\boldsymbol{\\theta}^* = \\left [{\\beta^*}^{(0)} = 3, {\\beta^*}^{(1)} = 2 \\right ]^\\top & \\text{Linear parameters}\n",
    "    \\end{cases}\n",
    "$$\n",
    "\n",
    "and the corresponding generative model:\n",
    "\n",
    "$$\n",
    "    \\mathcal{M} \\triangleq\n",
    "    \\begin{cases}\n",
    "        p_{\\sigma^2_y, X}(\\boldsymbol{y} \\mid \\boldsymbol{\\theta}, \\boldsymbol{X}) = \\mathcal{N}(\\boldsymbol{y}; \\boldsymbol{X} \\boldsymbol{\\theta}, \\boldsymbol{\\Sigma}_y = \\sigma^2_y \\boldsymbol{I}) & \\text{Likelihood} \\\\\n",
    "        p_{\\mu_\\theta, \\sigma^2_\\theta}(\\boldsymbol{\\theta}) = \\mathcal{N}(\\boldsymbol{x}; \\boldsymbol{\\mu}_\\theta, \\boldsymbol{\\Sigma}_\\theta = \\sigma^2_\\theta \\boldsymbol{I}) & \\text{Prior on } \\theta \\\\\n",
    "        \\boldsymbol{\\theta} = \\left [\\beta^{(0)}, \\beta^{(1)} \\right ]^\\top  & \\text{Linear parameters} \\\\ \n",
    "        \\phi = \\left \\{\\mu_{\\theta}, \\sigma^2_{\\theta}, \\sigma^2_{y} \\right \\}  & \\text{Other parameters}\n",
    "    \\end{cases}\n",
    "$$\n",
    "\n",
    "\n",
    "Note that the likelihood takes in the data matrix $\\boldsymbol{X}$ multiplied by $\\boldsymbol{\\theta}$. The output of this is a vector which means the likelihood is represented by a multivariate normal distribution. Likewise, the prior and posterior are also multivariate normal distributions.\n",
    "\n",
    "We will use the environment defined in Notebook 3.3."
   ]
  },
  {
   "cell_type": "code",
   "execution_count": 2,
   "metadata": {},
   "outputs": [],
   "source": [
    "class StaticEnvironment:\n",
    "    def __init__(self, params: dict) -> None:\n",
    "        self.params = SimpleNamespace(**params)\n",
    "        \n",
    "    def _noise(self):\n",
    "        return np.random.normal(loc=0, scale=self.params.y_star_std)\n",
    "    \n",
    "    def _generating_function(self, x_star: np.array) -> float:\n",
    "        return x_star.T @ self.params.theta_star\n",
    "    \n",
    "    def generate(self, x_star: float) -> float:\n",
    "        x_star = np.insert(x_star, 0, 1)\n",
    "        return self._generating_function(x_star) + self._noise()"
   ]
  },
  {
   "cell_type": "code",
   "execution_count": 3,
   "metadata": {},
   "outputs": [],
   "source": [
    "# Environment parameters\n",
    "env_params = {\n",
    "    \"theta_star\"  : np.array([3., 2.]),   # Linear slope and intercept\n",
    "    \"y_star_std\"  : 1,                  # Standard deviation of sensory data\n",
    "    \"C\"           : 2                     # Number of parameters\n",
    "}\n",
    "\n",
    "# Initialize environment with parameters\n",
    "env = StaticEnvironment(params=env_params)\n",
    "\n",
    "# Generate data\n",
    "N       = 500                                         # Number of samples\n",
    "C       = env_params[\"theta_star\"].shape[0]          # Number of parameters\n",
    "x_range = np.linspace(start=0.01, stop=5, num=500)   # Support of x\n",
    "X_star  = np.random.choice(x_range, size=(N, C-1))   # N random external states\n",
    "y       = np.zeros(N)                                # Empty array for N data samples\n",
    "\n",
    "# Generate N samples\n",
    "for idx, x in enumerate(X_star):\n",
    "    y[idx] = env.generate(x)"
   ]
  },
  {
   "cell_type": "markdown",
   "metadata": {},
   "source": [
    "Unlike the univariate examples used previously, we are interested in the range of two variables instead of one. Since $\\theta$ consists of two parameters in this simple example, we need a range over both values. We use a `create_grid()` function to assemble the grid for us."
   ]
  },
  {
   "cell_type": "code",
   "execution_count": 4,
   "metadata": {},
   "outputs": [],
   "source": [
    "def create_grid(theta_min: int, theta_max: int):\n",
    "    X_grid, y_grid = np.mgrid[theta_min:theta_max:.01, theta_min:theta_max:.01]\n",
    "    grid = np.dstack((X_grid, y_grid))\n",
    "    return grid\n",
    "\n",
    "# Create grid\n",
    "theta_min, theta_max = -4, 4\n",
    "theta_grid  = create_grid(theta_min, theta_max)"
   ]
  },
  {
   "cell_type": "markdown",
   "metadata": {},
   "source": [
    "Next we create the prior and visualize it. We are choosing a prior here centered on $\\mu_\\theta = \\begin{bmatrix} 0 & 0 \\end{bmatrix}^\\top$."
   ]
  },
  {
   "cell_type": "code",
   "execution_count": 5,
   "metadata": {},
   "outputs": [],
   "source": [
    "def get_prior_probs(mu_theta, cov_theta, theta_grid):\n",
    "    return multivariate_normal.pdf(theta_grid, mu_theta, cov_theta)\n",
    "\n",
    "mu_theta  = np.array([0., 0.])   # Theta prior [1 x P]\n",
    "cov_theta = 0.5 * np.eye(2)      # Theta covariance matrix [P x P]\n",
    "\n",
    "prior_probs = get_prior_probs(mu_theta, cov_theta, theta_grid)"
   ]
  },
  {
   "cell_type": "code",
   "execution_count": 6,
   "metadata": {},
   "outputs": [
    {
     "data": {
      "image/png": "[encoded data removed]",
      "text/plain": [
       "<Figure size 432x288 with 2 Axes>"
      ]
     },
     "metadata": {
      "needs_background": "light"
     },
     "output_type": "display_data"
    }
   ],
   "source": [
    "fig, ax = plt.subplots()\n",
    "im = ax.imshow(prior_probs, origin=\"lower\", cmap=\"viridis\", extent=[theta_min, theta_max, theta_min, theta_max])\n",
    "colorbar(im)\n",
    "\n",
    "plt.xlabel(\"beta_1\", fontsize=16)\n",
    "plt.ylabel(\"beta_0\", fontsize=16)\n",
    "plt.grid(False)"
   ]
  },
  {
   "cell_type": "markdown",
   "metadata": {},
   "source": [
    "It turns out that we do not have to rely on inverting the model with Bayesian inference directly. There exists an analytic update for the posterior distribution mean and covariance matrix. The equations are\n",
    "\n",
    "$$\n",
    "\\begin{aligned}\n",
    "    \\boldsymbol{\\Sigma}_{\\theta \\mid y} &=  (\\sigma^{-2}_y \\boldsymbol{X}^\\top \\boldsymbol{X} + \\boldsymbol{\\Sigma}^{-1}_{\\theta} )^{-1} \\\\\n",
    "    \\boldsymbol{\\mu}_{\\theta \\mid y} &= \\boldsymbol{\\Sigma}_{\\theta \\mid y}(\\sigma^{-2}_y \\boldsymbol{X}^\\top \\boldsymbol{y} + \\boldsymbol{\\Sigma}^{-1}_{\\theta} \\boldsymbol{\\mu}_{\\theta})\n",
    "\\end{aligned}\n",
    "$$\n",
    "\n",
    "We can easily implement these updates. To demonstrate this we create an agent class for Bayesian linear regression."
   ]
  },
  {
   "cell_type": "code",
   "execution_count": 7,
   "metadata": {},
   "outputs": [],
   "source": [
    "class BayesianLinearRegressionAgent:\n",
    "    def __init__(self, params: dict) -> None:\n",
    "        self.params = SimpleNamespace(**params)\n",
    "    \n",
    "    def build_data_matrix(self, X_star: np.ndarray) -> np.ndarray:\n",
    "        return np.insert(X_star, 0, 1, axis=1)\n",
    "    \n",
    "    def infer_parameters(self, X_star: np.ndarray, y: np.ndarray):\n",
    "        \n",
    "        X = self.build_data_matrix(X_star)   # Turn X_star into a data matrix\n",
    "        p_y = 1 / (self.params.std_y ** 2)   # Compute precision on y\n",
    "        \n",
    "        # Compute posterior mean and covariance matrix\n",
    "        cov_posterior = inv(p_y * X.T @ X + inv(self.params.cov_theta))\n",
    "        mean_posterior = cov_posterior @ (p_y * X.T @ y + inv(self.params.cov_theta) @ self.params.mu_theta)\n",
    "        \n",
    "        # Create posterior\n",
    "        self.posterior = multivariate_normal.pdf(self.params.grid, mean_posterior, cov_posterior)"
   ]
  },
  {
   "cell_type": "markdown",
   "metadata": {},
   "source": [
    "Next we will use the agent to infer parameters for different numbers of samples and plot the results."
   ]
  },
  {
   "cell_type": "code",
   "execution_count": 8,
   "metadata": {},
   "outputs": [],
   "source": [
    "# Agent parameters\n",
    "agent_params = {\n",
    "    \"std_y\"     : 1,                  # Standard deviation of sensory data\n",
    "    \"cov_theta\" : 0.5 * np.eye(2),      # Theta covariance matrix [P x P]\n",
    "    \"mu_theta\"  : np.array([0., 0.]),   # Theta prior [1 x P]\n",
    "    \"grid\"      : create_grid(-4, 4)    # Theta grid\n",
    "}\n",
    "\n",
    "agent = BayesianLinearRegressionAgent(params=agent_params)\n",
    "\n",
    "probs_list = [prior_probs]\n",
    "samples = [1, 5, 10, 15, 50]\n",
    "\n",
    "for s in samples:\n",
    "    agent.infer_parameters(X_star[:s], y[:s])\n",
    "    probs_list.append(agent.posterior)"
   ]
  },
  {
   "cell_type": "code",
   "execution_count": 11,
   "metadata": {},
   "outputs": [
    {
     "data": {
      "text/plain": [
       "<Figure size 432x288 with 0 Axes>"
      ]
     },
     "metadata": {},
     "output_type": "display_data"
    },
    {
     "data": {
      "image/png": "[encoded data removed]",
      "text/plain": [
       "<Figure size 432x288 with 6 Axes>"
      ]
     },
     "metadata": {},
     "output_type": "display_data"
    }
   ],
   "source": [
    "fig = plt.figure()\n",
    "fig, axes = plt.subplots(2,3, facecolor=(1,1,1))\n",
    "\n",
    "# Plot the distributions\n",
    "for ax, data in zip(axes.reshape(-1), probs_list): \n",
    "    ax.imshow(data, origin=\"lower\", cmap=\"viridis\", extent=[theta_min, theta_max,theta_min, theta_max])\n",
    "    ax.plot(2, 3, marker=\"+\", color=\"red\", markersize=5)\n",
    "    ax.grid(False)\n",
    "\n",
    "# Titles\n",
    "axes[0,0].set_title(\"Prior (no samples)\", fontsize=8)\n",
    "axes[0,1].set_title(\"Posterior (1 sample)\", fontsize=8)\n",
    "axes[0,2].set_title(\"Posterior (5 samples)\", fontsize=8)\n",
    "axes[1,0].set_title(\"Posterior (10 samples)\", fontsize=8)\n",
    "axes[1,1].set_title(\"Posterior (15 samples)\", fontsize=8)\n",
    "axes[1,2].set_title(\"Posterior (50 samples)\", fontsize=8)\n",
    "    \n",
    "fig.supxlabel(\"beta_1\", fontsize=14)\n",
    "fig.supylabel(\"beta_0\", fontsize=14)   \n",
    "\n",
    "fig.tight_layout()"
   ]
  },
  {
   "cell_type": "markdown",
   "metadata": {},
   "source": [
    "As we can see, as we obtain more samples our distribution narrows and becomes more confident about the true values. "
   ]
  }
 ],
 "metadata": {
  "kernelspec": {
   "display_name": "base",
   "language": "python",
   "name": "python3"
  },
  "language_info": {
   "codemirror_mode": {
    "name": "ipython",
    "version": 3
   },
   "file_extension": ".py",
   "mimetype": "text/x-python",
   "name": "python",
   "nbconvert_exporter": "python",
   "pygments_lexer": "ipython3",
   "version": "3.9.7"
  }
 },
 "nbformat": 4,
 "nbformat_minor": 2
}
