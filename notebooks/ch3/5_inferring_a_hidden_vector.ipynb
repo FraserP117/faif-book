{
 "cells": [
  {
   "cell_type": "markdown",
   "metadata": {},
   "source": [
    "# Inferring an unknown vector\n",
    "\n",
    "This notebook shows the multivariate extension of hidden state estimation from Chapter 2.\n",
    "\n",
    "==========================================================================\n",
    "\n",
    "* **Notebook dependencies**:\n",
    "    * ...\n",
    "\n",
    "* **Content**: Jupyter notebook accompanying Chapter 3 of the textbook \"Fundamentals of Active Inference\"\n",
    "\n",
    "* **Author**: Sanjeev Namjoshi (sanjeev.namjoshi@gmail.com)\n",
    "\n",
    "* **Version**: 0.1"
   ]
  },
  {
   "cell_type": "code",
   "execution_count": 1,
   "metadata": {},
   "outputs": [],
   "source": [
    "import matplotlib.pyplot as plt\n",
    "import matplotlib as mpl\n",
    "import numpy as np\n",
    "\n",
    "from numpy.linalg import inv\n",
    "from scipy.stats import multivariate_normal\n",
    "from types import SimpleNamespace\n",
    "\n",
    "mpl.style.use(\"seaborn-deep\")"
   ]
  },
  {
   "cell_type": "markdown",
   "metadata": {},
   "source": [
    "Imagine that we have an agent located at the origin on a 2D grid. Somewhere on this grid is a food source that it wishes to get to. We define the states of the enviroment by the vector $\\boldsymbol{x} \\in \\mathbb{R}^{C=2}$ which is composed of two elements defining the true position of the food in an $(x, y)$ coordinate pair. Let's suppose that the food itself is obscured by some grass so the agent is not able to determine the exact location of the food. The agent's goal is to take (noisy) samples of the food's position to locate where the food is. \n",
    "\n",
    "In this example, we will have no mixing matrix, $\\boldsymbol{\\Theta} = \\boldsymbol{I}$, and no offset $\\boldsymbol{b}$, which means that $\\boldsymbol{x}$ is related to $\\boldsymbol{y}$ purely through noise. This simple scenario will help us get a handle on the linear Gaussian system (LGS) so we can use it in more complex examples.\n",
    "\n",
    "First, we set up the environment. The environment consists of a true state vector $\\boldsymbol{x} = [0.4 \\; 0.6]^\\top$ and 20 noisy samples of this vector. This means that each time we sample the environment, the sample is a vector of dimension $C=2$. In this example, the output observation vector will have the same dimensions as $\\boldsymbol{x}$ so $\\boldsymbol{y} \\in \\mathbb{R}^{D=2=C}$."
   ]
  },
  {
   "cell_type": "code",
   "execution_count": 2,
   "metadata": {},
   "outputs": [],
   "source": [
    "class StaticEnvironment:\n",
    "    def __init__(self, params: dict) -> None:\n",
    "        self.params = SimpleNamespace(**params)\n",
    "        \n",
    "    def _noise(self, cov: float, dim: int):\n",
    "        return multivariate_normal.rvs(mean=np.zeros(dim), cov=cov)\n",
    "    \n",
    "    def _generating_function(self, x_star: np.ndarray) -> float:\n",
    "        return self.params.Theta_star @ x_star + self.params.b_star\n",
    "    \n",
    "    def generate(self, x_star: float) -> float:\n",
    "        x_noise = self._noise(cov=self.params.cov_x_star, dim=self.params.C)\n",
    "        y_noise = self._noise(cov=self.params.cov_y_star, dim=self.params.D)\n",
    "        \n",
    "        # Noise-ify external states and generate noisy y\n",
    "        x_star_noise = x_star + x_noise\n",
    "        return self._generating_function(x_star_noise) + y_noise"
   ]
  },
  {
   "cell_type": "code",
   "execution_count": 3,
   "metadata": {},
   "outputs": [],
   "source": [
    "\"\"\" Environment parameters \"\"\"\n",
    "C = 2    # External state dimension\n",
    "D = 2    # Data dimension\n",
    "N = 30  # Number of samples\n",
    "\n",
    "env_params = {\n",
    "    \"Theta_star\"  : np.eye(2),                            # Mixing matrix [D X C]\n",
    "    \"cov_x_star\"  : 0.1 * np.eye(2),                      # Cov matrix of external states\n",
    "    \"cov_y_star\"  : np.array([0.001, 0.001]) * np.eye(2) / N, # Cov matrix of sensory data\n",
    "    \"C\"           : C,                                    # External state dimension\n",
    "    \"D\"           : D,                                    # Data dimension\n",
    "    \"b_star\"      : 0,                                    # Offset [1 x D]\n",
    "}\n",
    "\n",
    "# Initialize environment with parameters\n",
    "env = StaticEnvironment(params=env_params)\n",
    "\n",
    "# Generate N samples of data data\n",
    "x_star  = np.array([0.4, 0.6])    # External state\n",
    "y       = np.zeros((N, D))        # Empty array for N data samples [D x 1]\n",
    "\n",
    "for idx in range(N):\n",
    "    y[idx] = env.generate(x_star)"
   ]
  },
  {
   "cell_type": "markdown",
   "metadata": {},
   "source": [
    "Next, we need to create the agent's model. We will assume that as a prior, the agent assumes that the food is at the position $(0.5, 0.5)$. In the last few hours, the food has rolled away from here so it is no longer in this location. However, since it has not moved far, this is a good assumption for the starting position of where the food might be that will help the agent constrain the space it has to search over. Thus, the prior distribution will have a mean of $\\boldsymbol{\\mu}_x = [0.5 \\; 0.5]^\\top$. We will use a spherical covariance matrix of $\\boldsymbol{\\Sigma} = 0.5 \\boldsymbol{I}$. \n",
    "\n",
    "To calculate the mean and covariance matrix of the conditional distribution of $p(\\boldsymbol{x} \\mid \\boldsymbol{y})$ we can use the following two equations:\n",
    "\n",
    "$$\n",
    "\\begin{aligned}\n",
    "    \\boldsymbol{\\Sigma}_{x \\mid y} &= \\left (\\boldsymbol{\\Sigma}_x^{-1} + n \\boldsymbol{\\Sigma}_y^{-1} \\right )^{-1} \\\\\n",
    "    \\boldsymbol{\\mu}_{x \\mid y} &= \\boldsymbol{\\Sigma}_{x \\mid y} \\left (\\boldsymbol{\\Sigma}^{-1}_y (n \\bar{\\boldsymbol{y}}) + \\boldsymbol{\\Sigma}_x^{-1} \\boldsymbol{\\mu}_x \\right )\n",
    "\\end{aligned}\n",
    "$$\n",
    "\n",
    "These equations directly follow from the mean and covariance matrix of the conditional distribution of a linear Gaussian system."
   ]
  },
  {
   "cell_type": "code",
   "execution_count": 4,
   "metadata": {},
   "outputs": [],
   "source": [
    "def create_grid(x_min, x_max):\n",
    "    X_grid, y_grid = np.mgrid[x_min:x_max:.001, x_min:x_max:.001]\n",
    "    grid = np.dstack((X_grid, y_grid))\n",
    "    return grid"
   ]
  },
  {
   "cell_type": "code",
   "execution_count": 5,
   "metadata": {},
   "outputs": [],
   "source": [
    "class FactorAnalysisAgent:\n",
    "    def __init__(self, params: dict) -> None:\n",
    "        self.params = SimpleNamespace(**params)\n",
    "        \n",
    "    def infer_states(self, y: np.ndarray):\n",
    "        Pi_x = inv(self.params.cov_x)\n",
    "        Pi_y = inv(self.params.cov_y)\n",
    "        \n",
    "        self.cov_posterior = inv(Pi_x + self.params.N * Pi_y)\n",
    "        self.mean_posterior = self.cov_posterior @ (Pi_y @ (self.params.N * np.mean(y, axis=0)) + Pi_x @ self.params.mu_x)\n",
    "        \n",
    "        self.posterior = multivariate_normal.pdf(self.params.grid, self.mean_posterior, self.cov_posterior)"
   ]
  },
  {
   "cell_type": "code",
   "execution_count": 6,
   "metadata": {},
   "outputs": [],
   "source": [
    "x_min, x_max = 0, 1\n",
    "\n",
    "agent_params = {\n",
    "    \"cov_x\" : 0.5 * np.eye(C),                        # Cov matrix of x [D x D]\n",
    "    \"cov_y\" : np.array([0.7, 0.6]) * np.eye(2) / N,   # Cov matrix of y [C x C]\n",
    "    \"mu_x\"  : np.array([0.5, 0.5]),                   # Mean of x       [D x 1]\n",
    "    \"grid\"  : create_grid(x_min, x_max),              # 2D-grid of support of x\n",
    "    \"N\"     : N                                       # Number of samples\n",
    "}\n",
    "\n",
    "agent = FactorAnalysisAgent(params=agent_params)\n",
    "agent.infer_states(y)\n",
    "posterior_probs = agent.posterior"
   ]
  },
  {
   "cell_type": "code",
   "execution_count": 7,
   "metadata": {},
   "outputs": [
    {
     "data": {
      "text/plain": [
       "Text(0, 0.5, 'Vertical position')"
      ]
     },
     "execution_count": 7,
     "metadata": {},
     "output_type": "execute_result"
    },
    {
     "data": {
      "text/plain": [
       "<Figure size 432x288 with 0 Axes>"
      ]
     },
     "metadata": {},
     "output_type": "display_data"
    },
    {
     "data": {
      "image/png": "[encoded data removed]",
      "text/plain": [
       "<Figure size 432x288 with 1 Axes>"
      ]
     },
     "metadata": {},
     "output_type": "display_data"
    }
   ],
   "source": [
    "# Plot\n",
    "fig = plt.figure()\n",
    "fig, ax = plt.subplots(1,1, facecolor=(1,1,1))\n",
    "\n",
    "# Distribution\n",
    "ax.imshow(posterior_probs.T, origin=\"lower\", cmap=\"viridis\", extent=[x_min, x_max, x_min, x_max])\n",
    "\n",
    "# External state\n",
    "ax.plot(x_star[0], x_star[1], marker=\"+\", color=\"red\", markersize=5)\n",
    "\n",
    "# Samples\n",
    "ax.scatter(y[:, 0], y[:, 1], s=4, color=\"white\")\n",
    "ax.autoscale(False)\n",
    "ax.set_xlabel(\"Horizontal position\", fontsize=12)\n",
    "ax.set_ylabel(\"Vertical position\", fontsize=12)"
   ]
  },
  {
   "cell_type": "markdown",
   "metadata": {},
   "source": [
    "The distribution itself is quite tightly centered near the true position which we can see is a result of the covariance matrix which has a fairly small variance along the diagonal: "
   ]
  },
  {
   "cell_type": "code",
   "execution_count": 8,
   "metadata": {},
   "outputs": [
    {
     "data": {
      "text/plain": [
       "array([[0.00077657, 0.        ],\n",
       "       [0.        , 0.00066578]])"
      ]
     },
     "execution_count": 8,
     "metadata": {},
     "output_type": "execute_result"
    }
   ],
   "source": [
    "agent.cov_posterior"
   ]
  }
 ],
 "metadata": {
  "kernelspec": {
   "display_name": "base",
   "language": "python",
   "name": "python3"
  },
  "language_info": {
   "codemirror_mode": {
    "name": "ipython",
    "version": 3
   },
   "file_extension": ".py",
   "mimetype": "text/x-python",
   "name": "python",
   "nbconvert_exporter": "python",
   "pygments_lexer": "ipython3",
   "version": "3.9.7"
  }
 },
 "nbformat": 4,
 "nbformat_minor": 2
}
