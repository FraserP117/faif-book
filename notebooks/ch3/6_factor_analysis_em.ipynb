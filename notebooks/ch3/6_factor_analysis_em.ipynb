{
 "cells": [
  {
   "cell_type": "markdown",
   "metadata": {},
   "source": [
    "# Factor Analysis EM\n",
    "\n",
    "This notebook shows the multivariate extension of hidden state estimation from Chapter 2.\n",
    "\n",
    "==========================================================================\n",
    "\n",
    "* **Notebook dependencies**:\n",
    "    * ...\n",
    "\n",
    "* **Content**: Jupyter notebook accompanying Chapter 3 of the textbook \"Fundamentals of Active Inference\"\n",
    "\n",
    "* **Author**: Sanjeev Namjoshi (sanjeev.namjoshi@gmail.com)\n",
    "\n",
    "* **Version**: 0.1"
   ]
  },
  {
   "cell_type": "code",
   "execution_count": 1,
   "metadata": {},
   "outputs": [],
   "source": [
    "import matplotlib.pyplot as plt\n",
    "import matplotlib as mpl\n",
    "import numpy as np\n",
    "\n",
    "from numpy.linalg import inv\n",
    "from numpy import diag\n",
    "from pylab import colorbar\n",
    "from scipy.stats import multivariate_normal, zscore\n",
    "from types import SimpleNamespace\n",
    "\n",
    "mpl.style.use(\"seaborn-deep\")"
   ]
  },
  {
   "cell_type": "markdown",
   "metadata": {},
   "source": [
    "In the final piece of this chapter we combine (multivariate) learning and inference together. Namely, we are interested in the following relationship among variables:\n",
    "\n",
    "| Variable | Status     | Data type     |\n",
    "|----------|------------|---------------|\n",
    "| $x$      | unobserved | probabilistic |\n",
    "| $y$      | observed   | probabilistic |\n",
    "| $\\Theta$ | unobserved | deterministic |\n",
    "| $\\phi$   | unobserved | deterministic |\n",
    "\n",
    "Although for this example, the only unknown in $\\phi$ will be the covariance matrix on $y$. This setup presents a problem. If everything is unknown how do we ever \"get off the ground\"? If $x$ is unobserved we can't perform inference because we don't know the parameters. But if we want to learn the parameters we cannot do that either because we have not yet observed $x$. The expectation maximization algorithm provides a way around this problem and is explained in much more detail in the text. The problem description is given in the text and copied directly here:\n",
    "\n",
    "> For this experiment, consider an agent located at the origin of a grid that is trying to determine the 2D coordinates of a piece of food, similar to Experiment 3G. An agent, in position $(-0.5 , 0.5)$, has just heard a rival conspecific kill a prey, located at the origin. The agent decides it wants to steal the food but unfortunately, cannot see where the rival and dead prey are. Meanwhile, the rival is prowling around the dead prey at the origin trying to find the agent. Every so often it stops for a moment. Consider these stopping coordinates $\\boldsymbol{x}_i \\in \\mathbb{R}^2$ which is a 2-dimensional vector denoting the position of the rival on the grid. When the rival moves to and from the stop locations it rustles the grass and makes a sound. At this position, the combination of states interacts within the environment in such a way that various observations $\\boldsymbol{y}_i \\in \\mathbb{R}^8$ can be detected by the agent. The eight elements within this vector may be thought of different types of physical quantities the agent can sense or measure such as light, sound, vibrations on the ground, and so on. Thus in this system, samples of a noisy state vector $\\boldsymbol{x}_i$ interact with a mixing matrix $\\boldsymbol{\\Theta}$ to produce a noisy observation vector $\\boldsymbol{y}_i$. \n",
    "\n",
    "> The agent's goal is to use the noisy observation vector to infer the area around which the rival is circling so it can steal its prey. However, the agent does not already know from prior learning how the states mix to form the observations ($\\boldsymbol{\\Theta}$ is unknown) nor does it know the noise in the generation of $\\boldsymbol{y}_i$ ($\\boldsymbol{\\Sigma}_y$) is unknown. Thus, the agent's must learn these model parameters from the data alongside estimating the hidden state. To learn these model parameters, the agent will initialize with a random guess and then iteratively update using the EM algorithm. \n",
    "\n",
    "\n",
    "First, let's create our environment. We will need to construct a vector $\\boldsymbol{x} \\in \\mathbb{R}^{C=2}$ which generates $\\boldsymbol{y} \\in \\mathbb{R}^{D=2}$ through the linear model. We will use 100 samples in our example."
   ]
  },
  {
   "cell_type": "code",
   "execution_count": 2,
   "metadata": {},
   "outputs": [],
   "source": [
    "class StaticEnvironment:\n",
    "    def __init__(self, params: dict) -> None:\n",
    "        self.params = SimpleNamespace(**params)\n",
    "        \n",
    "    def _noise(self, cov: float, dim: int):\n",
    "        return multivariate_normal.rvs(mean=np.zeros(dim), cov=cov)\n",
    "    \n",
    "    def _generating_function(self, x_star: np.ndarray) -> float:\n",
    "        return self.params.Theta_star @ x_star + self.params.b_star\n",
    "    \n",
    "    def generate(self, x_star: float) -> float:\n",
    "        x_noise = self._noise(cov=self.params.cov_x_star, dim=self.params.C)\n",
    "        y_noise = self._noise(cov=self.params.cov_y_star, dim=self.params.D)\n",
    "        \n",
    "        # Noise-ify external states and generate noisy y\n",
    "        self.x_star_noise = x_star + x_noise\n",
    "        return self._generating_function(self.x_star_noise) + y_noise"
   ]
  },
  {
   "cell_type": "code",
   "execution_count": 9,
   "metadata": {},
   "outputs": [],
   "source": [
    "\"\"\" Environment parameters \"\"\"\n",
    "C = 2    # External state dimension\n",
    "D = 8    # Data dimension\n",
    "N = 50  # Number of samples\n",
    "\n",
    "cov_y_star = np.random.normal(0, 1, D) * np.eye(D)    # Random covariance matrix\n",
    "cov_y_star = cov_y_star @ cov_y_star.T                # Make positive semi-definite\n",
    "\n",
    "env_params = {\n",
    "    \"C\"           : C,                                # External state dimension   [D]\n",
    "    \"D\"           : D,                                # Data dimension             [C]\n",
    "    \"Theta_star\"  : np.random.normal(0, 5, (D, C)),   # Mixing matrix              [D X C]\n",
    "    \"cov_x_star\"  : np.eye(2),                        # External states cov matrix [C x C]\n",
    "    \"cov_y_star\"  : cov_y_star,                       # Sensory data cov matrox    [D x D]\n",
    "    \"b_star\"      : 0,                                # Offset                     [1 x D]\n",
    "}\n",
    "\n",
    "# Initialize environment with parameters\n",
    "env = StaticEnvironment(params=env_params)\n",
    "\n",
    "# Generate N samples of data data\n",
    "x_star  = np.array([0.4, 0.6])    # External state\n",
    "Y       = np.zeros((N, D))        # Empty array for N data samples [D x 1]\n",
    "\n",
    "for idx in range(N):\n",
    "    Y[idx] = env.generate(x_star)\n",
    "\n",
    "Y = zscore(Y)"
   ]
  },
  {
   "cell_type": "markdown",
   "metadata": {},
   "source": [
    "To perform the EM algorithm, we first need to randomly initialize the two unknown parameters, $\\boldsymbol{\\Theta}$ and $\\boldsymbol{\\Sigma}_y$. Then, over $100$ iterations we first perform the **E-step**:\n",
    "\n",
    "$$\n",
    "\\begin{aligned}\n",
    "    \\boldsymbol{\\mu}_{x \\mid y}^{(j)} &\\leftarrow \\underbrace{\\boldsymbol{\\Theta}^\\top(\\boldsymbol{\\Theta} \\boldsymbol{\\Theta}^\\top + \\boldsymbol{\\Sigma}_y)^{-1}}_{\\beta}\\boldsymbol{Y} \\\\\n",
    "    \\boldsymbol{\\Sigma}_{x \\mid y}^{(j)} &\\leftarrow \\boldsymbol{I} - \\beta \\boldsymbol{\\Theta},\n",
    "\\end{aligned}\n",
    "$$\n",
    "\n",
    "followed by the **M-step**:\n",
    "\n",
    "$$\n",
    "\\begin{aligned}\n",
    "    \\boldsymbol{\\Theta}^{(j+1)} &\\leftarrow \\underbrace{\\boldsymbol{Y} \\boldsymbol{\\mu}_{x \\mid y}^\\top}_{\\delta} {\\underbrace{(\\boldsymbol{\\mu}_{x \\mid y} \\boldsymbol{\\mu}_{x \\mid y}^\\top + N \\boldsymbol{\\Sigma}_{x \\mid y})}_{\\gamma}}^{-1} \\\\\n",
    "    \\boldsymbol{\\Sigma}_y^{(j+1)} &\\leftarrow diag(Cov(\\boldsymbol{Y}) - \\frac{\\boldsymbol{\\Theta} \\delta^\\top}{N})\n",
    "\\end{aligned}\n",
    "$$\n",
    "\n",
    "These rules are implemented in the code below."
   ]
  },
  {
   "cell_type": "code",
   "execution_count": 10,
   "metadata": {},
   "outputs": [],
   "source": [
    "class FactorAnalysisEMAgent:\n",
    "    def __init__(self, params: dict) -> None:\n",
    "        self.params = SimpleNamespace(**params)\n",
    "        \n",
    "        # Convenience params for readability \n",
    "        C            = self.params.C   # Hidden state dimension\n",
    "        D            = self.params.D   # Sensory data dimension\n",
    "        self.J       = self.params.J   # Number of iterations       \n",
    "        \n",
    "        # Initialize empty arrays\n",
    "        self.posterior_mean = np.zeros((self.J, C))\n",
    "        self.posterior_cov  = np.zeros((self.J, C, C))\n",
    "        self.Theta          = np.zeros((self.J, D, C))\n",
    "        self.cov_y          = np.zeros((self.J, D, D))\n",
    "        \n",
    "        # Initialize parameters\n",
    "        self.Theta[0] = self.params.Theta_init\n",
    "        self.cov_y[0] = self.params.cov_y_init\n",
    "        \n",
    "    def _infer_states(self, Y, j):\n",
    "        # E-step (Expectation)\n",
    "        beta = self.Theta[j].T @ inv(self.Theta[j] @ self.Theta[j].T + self.cov_y[j])\n",
    "        \n",
    "        self.posterior_mean_s = beta @ Y\n",
    "        self.posterior_cov[j]  = np.eye(C) - beta @ self.Theta[j]\n",
    "        \n",
    "        # Get average posterior mean over samples\n",
    "        self.posterior_mean[j] = np.mean(self.posterior_mean_s, axis=1)\n",
    "        \n",
    "    def _learn_parameters(self, Y, j):\n",
    "        \n",
    "        # M-step (Maximization)\n",
    "        delta = Y @ self.posterior_mean_s.T\n",
    "        gamma = self.posterior_mean_s @ self.posterior_mean_s.T + (N * self.posterior_cov[j])\n",
    "        \n",
    "        if j+1 < self.J:\n",
    "            self.Theta[j+1] = delta @ inv(gamma)\n",
    "            self.cov_y[j+1] = diag(diag(self.S - (self.Theta[j+1] @ delta.T / N)))\n",
    "        \n",
    "    def run_EM(self, Y):\n",
    "        \n",
    "        self.S = np.cov(Y)   # Compute the sample covariance\n",
    "        \n",
    "        for j in range(self.J):\n",
    "            self._infer_states(Y, j=j)\n",
    "            self._learn_parameters(Y, j=j)"
   ]
  },
  {
   "cell_type": "code",
   "execution_count": 11,
   "metadata": {},
   "outputs": [],
   "source": [
    "Theta_init = np.random.normal(0, 5, (D, C))           # Random mixing matrix\n",
    "cov_y_init = np.random.normal(0, 1, D) * np.eye(D)    # Random covariance matrix\n",
    "cov_y_init = cov_y_init @ cov_y_init.T                # Make positive semi-definite\n",
    "\n",
    "agent_params = {\n",
    "    \"C\"          : C,            # Dimension of hidden states\n",
    "    \"D\"          : D,            # Dimension of sensory data\n",
    "    \"J\"          : 100,          # Number of iterations\n",
    "    \"Theta_init\" : Theta_init,   # Mixing matrix initialization\n",
    "    \"cov_y_init\" : cov_y_init    # Covariance matrix of y initialization\n",
    "}\n",
    "\n",
    "agent = FactorAnalysisEMAgent(params=agent_params)\n",
    "agent.run_EM(Y.T)"
   ]
  },
  {
   "cell_type": "code",
   "execution_count": 12,
   "metadata": {},
   "outputs": [
    {
     "name": "stdout",
     "output_type": "stream",
     "text": [
      "Inferred mean: [-1.33226763e-17  2.22044605e-18]\n",
      "Inferred covariance matrix: [[ 0.01215948 -0.00292741]\n",
      " [-0.00292741  0.002024  ]]\n"
     ]
    }
   ],
   "source": [
    "# Plot the belief about the true mean of x\n",
    "print(f\"Inferred mean: {agent.posterior_mean[-1]}\")\n",
    "print(f\"Inferred covariance matrix: {agent.posterior_cov[-1]}\")"
   ]
  },
  {
   "cell_type": "code",
   "execution_count": 13,
   "metadata": {},
   "outputs": [],
   "source": [
    "def create_grid(x_min, x_max):\n",
    "    X_grid, y_grid = np.mgrid[x_min:x_max:.001, x_min:x_max:.001]\n",
    "    grid = np.dstack((X_grid, y_grid))\n",
    "    return grid"
   ]
  },
  {
   "cell_type": "code",
   "execution_count": 14,
   "metadata": {},
   "outputs": [
    {
     "data": {
      "text/plain": [
       "Text(0, 0.5, 'Vertical position')"
      ]
     },
     "execution_count": 14,
     "metadata": {},
     "output_type": "execute_result"
    },
    {
     "data": {
      "text/plain": [
       "<Figure size 432x288 with 0 Axes>"
      ]
     },
     "metadata": {},
     "output_type": "display_data"
    },
    {
     "data": {
      "image/png": "[encoded data removed]",
      "text/plain": [
       "<Figure size 432x288 with 1 Axes>"
      ]
     },
     "metadata": {},
     "output_type": "display_data"
    }
   ],
   "source": [
    "\"\"\" Plot the inferred probability of x\"\"\"\n",
    "# Grid\n",
    "x_min = -3\n",
    "x_max = 3\n",
    "grid = create_grid(x_min, x_max)\n",
    "\n",
    "# p(x)_hat - inferred posterior\n",
    "posterior_probs = multivariate_normal.pdf(grid, mean=agent.posterior_mean[-1], cov=agent.posterior_cov[-1])\n",
    "\n",
    "# Plot\n",
    "fig = plt.figure()\n",
    "fig, ax = plt.subplots(1,1, facecolor=(1,1,1))\n",
    "\n",
    "## Distribution\n",
    "ax.imshow(posterior_probs.T, origin=\"lower\", cmap=\"viridis\", extent=[x_min, x_max, x_min, x_max])\n",
    "\n",
    "## Agent location\n",
    "ax.plot(-2, -2, marker=\"*\", color=\"red\", markersize=7)\n",
    "\n",
    "ax.set_xlabel(\"Horizontal position\", fontsize=12)\n",
    "ax.set_ylabel(\"Vertical position\", fontsize=12)"
   ]
  }
 ],
 "metadata": {
  "kernelspec": {
   "display_name": "base",
   "language": "python",
   "name": "python3"
  },
  "language_info": {
   "codemirror_mode": {
    "name": "ipython",
    "version": 3
   },
   "file_extension": ".py",
   "mimetype": "text/x-python",
   "name": "python",
   "nbconvert_exporter": "python",
   "pygments_lexer": "ipython3",
   "version": "3.9.7"
  }
 },
 "nbformat": 4,
 "nbformat_minor": 2
}
