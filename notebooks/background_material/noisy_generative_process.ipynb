{
 "cells": [
  {
   "cell_type": "markdown",
   "metadata": {},
   "source": [
    "# Noisy generative processes\n",
    "\n",
    "Creates the plot at the beginning of Chapter 2 showing how you can add noise to a linear function to generate points normally distributed across a line. \n",
    "\n",
    "==========================================================================\n",
    "\n",
    "* **Notebook dependencies**:\n",
    "    * ...\n",
    "\n",
    "* **Content**: Jupyter notebook accompanying Chapter 2 of the textbook \"Fundamentals of Active Inference\"\n",
    "\n",
    "* **Author**: Sanjeev Namjoshi (sanjeev.namjoshi@gmail.com)\n",
    "\n",
    "* **Version**: 0.1"
   ]
  },
  {
   "cell_type": "code",
   "execution_count": 1,
   "metadata": {},
   "outputs": [],
   "source": [
    "import matplotlib.pyplot as plt\n",
    "import matplotlib as mpl\n",
    "import numpy as np\n",
    "import os\n",
    "import sys\n",
    "\n",
    "from scipy.stats import norm\n",
    "\n",
    "module_path = os.path.abspath(os.path.join(os.pardir, os.pardir))\n",
    "if module_path not in sys.path:\n",
    "    sys.path.append(module_path)\n",
    "    \n",
    "from src.utils import create_environment\n",
    "\n",
    "mpl.style.use(\"seaborn-deep\")"
   ]
  },
  {
   "cell_type": "markdown",
   "metadata": {},
   "source": [
    "## Define the environment and helper functions\n",
    "\n",
    "First, we use 49 different external states of the environment and use them to generate sensory data. The external states are mapped to sensory data using the generating function $y = 2x^*+3$ with added Gaussian noise. This generating function is captured in code as the function $y = \\beta_1^* x^* + \\beta_0^*$, with $\\beta_0^* =3$ and $\\beta_1^*=2$ as explained in the Chapter 2 notebooks. We use this package's environment constructor to create an environment that generates sensory data based on this linear generating function.\n",
    "\n",
    "**Note**: 49 points are chosen because later we make use of the `np.median()` function and we want an odd number of points so we can select a single value for the median.\n",
    "\n",
    "Below we create helper function specifies the generating function and its inverse. These helper functions will be used later during plotting."
   ]
  },
  {
   "cell_type": "code",
   "execution_count": 2,
   "metadata": {},
   "outputs": [],
   "source": [
    "\"\"\" Helper functions \"\"\"\n",
    "\n",
    "# Generating function\n",
    "def ge(x_star, beta_0_star, beta_1_star):\n",
    "    y = beta_1_star * x_star + beta_0_star\n",
    "    return y\n",
    "\n",
    "# Inverse generating function which can return the original state that generated the observation\n",
    "def ge_inv(y, beta_0_star, beta_1_star):\n",
    "    x_star = (y - beta_0_star) / beta_1_star\n",
    "    return x_star"
   ]
  },
  {
   "cell_type": "markdown",
   "metadata": {},
   "source": [
    "Now we set up the simulation. First, we need to specify the parameters for the environment. Here there are just three variables to consider: $\\beta_0^*, \\beta_1^*, {\\sigma^2_y}^*$.\n",
    "\n",
    "The simulation setup includes a random key, the support or range of values considered by $x^*$, and $n=49$ possible values of $x^*$ to randomly generate.\n",
    "\n",
    "Finally, we initialize the sensory data array with zeros so it can be filled when the samples are generated."
   ]
  },
  {
   "cell_type": "code",
   "execution_count": 3,
   "metadata": {},
   "outputs": [],
   "source": [
    "\"\"\" Setup environment and generate data \"\"\"\n",
    "# Environment parameters\n",
    "env_params = {\n",
    "    \"beta_0_star\" : 3,    # Linear parameter intercept\n",
    "    \"beta_1_star\" : 2,    # Linear parameter slope\n",
    "    \"y_star_std\"  : 1  # Standard deviation of sensory data\n",
    "}\n",
    "\n",
    "# Initialize environment and agent\n",
    "env = create_environment(name=\"static_linear\", params=env_params)\n",
    "\n",
    "# Generate data for three different x_star values\n",
    "np.random.seed(34567)\n",
    "N       = 49                                         # Number of samples\n",
    "x_range = np.linspace(start=0.01, stop=5, num=500)   # Range of x_star\n",
    "x_star  = np.random.choice(x_range, size=49)         # N random external states\n",
    "y       = np.zeros(N)                                # Empty array for N=49 samples"
   ]
  },
  {
   "cell_type": "markdown",
   "metadata": {},
   "source": [
    "Here we loop across the different external states in the $x^*$ vector, create a random subkey for each one, and step through the environment each time to generate the sensory data."
   ]
  },
  {
   "cell_type": "code",
   "execution_count": 4,
   "metadata": {},
   "outputs": [],
   "source": [
    "# Generate N=30 samples\n",
    "for idx, x in enumerate(x_star):\n",
    "    env.build(x)\n",
    "    y[idx] = env.generate()"
   ]
  },
  {
   "cell_type": "markdown",
   "metadata": {},
   "source": [
    "## Generate data to plot"
   ]
  },
  {
   "cell_type": "markdown",
   "metadata": {},
   "source": [
    "The code here is used to generate the Gaussian distribution that will appear in the plot."
   ]
  },
  {
   "cell_type": "code",
   "execution_count": 5,
   "metadata": {},
   "outputs": [],
   "source": [
    "# Generate the distribution around noise\n",
    "point_x = np.median(x_star)                          # x coordinate of a chosen sampled point\n",
    "y_mean = ge(point_x, beta_0_star=3, beta_1_star=2)   # y coordinate at chosen sampled point\n",
    "\n",
    "# Calculate the y-range to use in plotting\n",
    "y_range = np.linspace(start=0.01, stop=12, num=500)\n",
    "\n",
    "# Create the PDF for plotting around the selected point via the CDF\n",
    "norm_cdf = norm.cdf(y_range, y_mean, env_params[\"y_star_std\"])\n",
    "norm_pdf = np.diff(norm_cdf) / (y_range[1] - y_range[0])  # PDF = derivative of CDF\n",
    "\n",
    "# Replace 0s with NaN so that they are not plotted\n",
    "norm_pdf[norm_pdf == 0] = np.nan\n",
    "norm_pdf = np.append(norm_pdf, np.NaN)\n",
    "\n",
    "# Inverse mapping of point_x\n",
    "point_y = dict(zip(x_star, y))[np.median(x_star)]"
   ]
  },
  {
   "cell_type": "markdown",
   "metadata": {},
   "source": [
    "## Plot the data points.\n",
    "\n",
    "The plot is composed of multiple elements:\n",
    "1. The samples from the noisy generative process. These are just the data points we generated with the `environment()` function.\n",
    "2. The actual linear generating function (no noise). This is just the line $y= 2x+3$.\n",
    "3. A normal distribution around a chosen sampled point. This uses the median function to pick a point in the middle of the plot (just so the plot is centered). Then a distribution is drawn around it to indicate that points sampled on the line here could fall in $\\pm y$ range. To create the distribution we just create the CDF of the normal distribution at that point and then take the derivative to get the PDF.\n",
    "4. Dotted \"boundary lines\" are added to show the $x$ and $y$ coordinates around the point on the line.\n",
    "5. A red line is drawn to show how the noise has offset the point from the mean."
   ]
  },
  {
   "cell_type": "code",
   "execution_count": 6,
   "metadata": {},
   "outputs": [
    {
     "data": {
      "text/plain": [
       "<Figure size 432x288 with 0 Axes>"
      ]
     },
     "metadata": {},
     "output_type": "display_data"
    },
    {
     "data": {
      "image/png": "[encoded data removed]",
      "text/plain": [
       "<Figure size 432x288 with 1 Axes>"
      ]
     },
     "metadata": {},
     "output_type": "display_data"
    }
   ],
   "source": [
    "fig = plt.figure()\n",
    "fig, ax = plt.subplots(1,1, facecolor=(1,1,1))\n",
    "\n",
    "# Plot (1): Samples from probabilistic generative process\n",
    "ax.scatter(x_star, y,\n",
    "           s=22,\n",
    "           c=\"maroon\")\n",
    "\n",
    "# Plot (2): Deterministic (linear) generating function\n",
    "ax.plot(x_range.tolist(), [ge(elem, beta_0_star=3, beta_1_star=2) for elem in x_range],\n",
    "        c=\"gray\",\n",
    "        linewidth=3)\n",
    "\n",
    "# Plot (3): Normal distribution around the sampled point\n",
    "ax.plot(-norm_pdf + ge_inv(y_mean, beta_0_star=3, beta_1_star=2), y_range,\n",
    "        c=\"blue\",\n",
    "        linewidth=3)\n",
    "\n",
    "# Plot (4): Boundary lines\n",
    "ax.hlines(y=y_mean, xmin=0, xmax=5, \n",
    "          linestyle=\"dashed\", \n",
    "          colors=\"black\", \n",
    "          linewidth=3)\n",
    "\n",
    "ax.vlines(x=ge_inv(y_mean, beta_0_star=3, beta_1_star=2), \n",
    "          ymin=0, ymax=14, \n",
    "          linestyle=\"dashed\", \n",
    "          colors=\"black\",\n",
    "          linewidth=3)\n",
    "\n",
    "# Plot (5): Error/offset for the samples point\n",
    "ax.vlines(x=ge_inv(y_mean, beta_0_star=3, beta_1_star=2), \n",
    "          ymin=point_y, ymax=y_mean, \n",
    "          colors=\"red\",\n",
    "          linewidth=3)\n",
    "\n",
    "# Axis labels and stylizing\n",
    "ax.set_xlabel(\"states (x)\", fontsize=18)\n",
    "ax.set_ylabel(\"observations (y)\", fontsize=18)\n",
    "ax.tick_params(\n",
    "    axis='both',          \n",
    "    which='both',      \n",
    "    bottom=False,      \n",
    "    left=False,         \n",
    "    labelbottom=False,\n",
    "    labelleft=False)\n",
    "\n",
    "fig.tight_layout()"
   ]
  }
 ],
 "metadata": {
  "kernelspec": {
   "display_name": "base",
   "language": "python",
   "name": "python3"
  },
  "language_info": {
   "codemirror_mode": {
    "name": "ipython",
    "version": 3
   },
   "file_extension": ".py",
   "mimetype": "text/x-python",
   "name": "python",
   "nbconvert_exporter": "python",
   "pygments_lexer": "ipython3",
   "version": "3.9.7"
  }
 },
 "nbformat": 4,
 "nbformat_minor": 2
}
