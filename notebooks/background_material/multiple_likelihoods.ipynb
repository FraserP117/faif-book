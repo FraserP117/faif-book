{
 "cells": [
  {
   "cell_type": "markdown",
   "metadata": {},
   "source": [
    "# How to think about likelihoods over multiple samples\n",
    "\n",
    "This notebook demonstrates how we treate a likelihood over multiple samples.\n",
    "\n",
    "==========================================================================\n",
    "\n",
    "* **Notebook dependencies**:\n",
    "    * ...\n",
    "\n",
    "* **Content**: Jupyter notebook accompanying Chapter 2 of the textbook \"Fundamentals of Active Inference\"\n",
    "\n",
    "* **Author**: Sanjeev Namjoshi (sanjeev.namjoshi@gmail.com)\n",
    "\n",
    "* **Version**: 0.1"
   ]
  },
  {
   "cell_type": "code",
   "execution_count": 8,
   "metadata": {},
   "outputs": [],
   "source": [
    "import matplotlib.gridspec as grid_spec\n",
    "import matplotlib.pyplot as plt\n",
    "import numpy as np\n",
    "import os\n",
    "import sys\n",
    "\n",
    "from scipy.stats import norm\n",
    "\n",
    "module_path = os.path.abspath(os.path.join(os.pardir, os.pardir))\n",
    "if module_path not in sys.path:\n",
    "    sys.path.append(module_path)\n",
    "\n",
    "from src.utils import create_environment"
   ]
  },
  {
   "cell_type": "markdown",
   "metadata": {},
   "source": [
    "In a previous notebook we showed how to scale hidden state inference with Bayes' theorem to multiple samples. In this notebook we will extend the explanation of the likelihood a step further. \n",
    "\n",
    "We will use the same assume the following:\n",
    "* $x^*$: The true **external state** of the generative process.\n",
    "* $y$: The **outcome** of a generative process, known as the **observation** for a generative model. This is the data the agent receives.\n",
    "\n",
    "In this scenario the external states of the generative process ($x^*$) denote the size of a food source and the outcomes ($y$) are represents levels of light intensity emitted from the food as a function of size. Using these observations, the agent needs to infer (\"perceive\") the hidden state of the generative process that generated the data it is receiving. This is represented by the variable ($x$), the **hidden state** which captures the agent's belief about the food size that could have generated the observed sensory data. We use the following agent and environment:\n",
    "\n",
    "$$\n",
    "    \\mathscr{E} \\triangleq \n",
    "    \\begin{cases}\n",
    "        y = g_{\\mathscr{E}}(x^*; \\theta^*) + \\omega_y^*    & \\text{Outcome generation} \\\\\n",
    "        g_{\\mathscr{E}}(x^*; \\theta^*) = \\beta_0^* + \\beta_1^* x^* & \\text{Generating function} \\\\\n",
    "        \\omega_y^* \\sim \\mathcal{N}(0, \\sigma^2=1) & \\text{Observation noise} \\\\\n",
    "        \\theta^* := \\left \\{\\beta_0^* = 3, \\beta_1^* = 2 \\right \\} & \\text{Observation parameters}\n",
    "    \\end{cases}\n",
    "$$\n",
    "\n",
    "$$\n",
    "    \\mathcal{M} \\triangleq \n",
    "    \\begin{cases}\n",
    "        p_{\\mu_y, \\sigma^2_y}(y_i \\mid x) = \\mathcal{N}(y_i; g_{\\mathcal{M}}, \\sigma^2_y) & \\text{Likelihood} \\\\\n",
    "        p_{\\mu_y, \\sigma^2_y}(x) = \\mathcal{N}(x; m_x, s^2_x) & \\text{Prior on } x \\\\\n",
    "        g_{\\mathcal{M}}(x, \\theta) = \\beta_0 + \\beta_1 x & \\text{Generating function} \\\\\n",
    "        \\theta := \\left \\{\\beta_0 = 3, \\beta_1 = 2 \\right \\}  & \\text{Linear parameters} \\\\ \n",
    "        \\phi := \\left \\{\\sigma^2_y = 0.25, s^2_x = 0.25, m_x = 4 \\right \\} & \\text{Other parameters}\n",
    "    \\end{cases}\n",
    "$$\n",
    "\n",
    "The only difference is that observation are now indexed by $i = 0, \\dots, N$ to indicate multiple samples are generated from the same hidden state. We use the linear environment we have used previously and generate $N=30$ samples with $x^*=2$.\n",
    "\n",
    "In the previous notebook we generated a likelihood with multiple data points and showed that the result was a matrix. We recapitulate the results below. First, the environment must be created."
   ]
  },
  {
   "cell_type": "code",
   "execution_count": 9,
   "metadata": {},
   "outputs": [],
   "source": [
    "# Environment parameters\n",
    "env_params = {\n",
    "    \"beta_0_star\" : 3,    # Linear parameter intercept\n",
    "    \"beta_1_star\" : 2,    # Linear parameter slope\n",
    "    \"y_star_std\"  : 0.25  # Standard deviation of sensory data\n",
    "}\n",
    "\n",
    "# Initialize environment and agent\n",
    "env = create_environment(name=\"static_linear\", params=env_params)\n",
    "\n",
    "# Generate data for three different x_star values\n",
    "x_range = np.linspace(start=0.01, stop=5, num=500)   # Range of x_star\n",
    "x_star  = 2                                          # External state\n",
    "N       = 9                                         # Number of samples\n",
    "y       = np.zeros(N)                                # Empty array for N=30 samples\n",
    "\n",
    "# Generate\n",
    "for i in range(N):\n",
    "    env.build(x_star)\n",
    "    y[i] = env.generate()\n",
    "    \n",
    "# The `norm()` function will not work unless we reshape `y` and add an extra dimension making it of size `[30, 1]`. The operation below adds this extra dimension. This is effectively like passing in 30 individual samples in one array instead of an array of 30 samples.\n",
    "\n",
    "y = np.expand_dims(y, axis=1)"
   ]
  },
  {
   "cell_type": "markdown",
   "metadata": {},
   "source": [
    "Now we create the likelihood for these 30 samples."
   ]
  },
  {
   "cell_type": "code",
   "execution_count": 10,
   "metadata": {},
   "outputs": [],
   "source": [
    "def generating_function(beta_0: float, beta_1: float, x: float) -> float:\n",
    "    return beta_1 * x + beta_0\n",
    "\n",
    "x_range = np.linspace(start=0.01, stop=5, num=500)\n",
    "mu_y    = generating_function(beta_0=3, beta_1=2, x=x_range)\n",
    "\n",
    "likelihood_i = norm.pdf(y, loc=mu_y, scale=0.5)"
   ]
  },
  {
   "cell_type": "markdown",
   "metadata": {},
   "source": [
    "Checking the shape, we see that it has $N=9$ rows and 500 columns, one for each across the range of $x$ in the grid."
   ]
  },
  {
   "cell_type": "code",
   "execution_count": 11,
   "metadata": {},
   "outputs": [
    {
     "name": "stdout",
     "output_type": "stream",
     "text": [
      "The shape of the likelihood is [9 x 500]\n"
     ]
    }
   ],
   "source": [
    "print(f\"The shape of the likelihood is [{likelihood_i.shape[0]} x {likelihood_i.shape[1]}]\")"
   ]
  },
  {
   "cell_type": "markdown",
   "metadata": {},
   "source": [
    "Then we plot all of the likelihoods together.\n",
    "\n",
    "**Note**: Plotting code heavily modified from matplotlib tutorial at: https://matplotlib.org/matplotblog/posts/create-ridgeplots-in-matplotlib/"
   ]
  },
  {
   "cell_type": "code",
   "execution_count": 12,
   "metadata": {},
   "outputs": [
    {
     "data": {
      "image/png": "[encoded data removed]",
      "text/plain": [
       "<Figure size 432x324 with 9 Axes>"
      ]
     },
     "metadata": {},
     "output_type": "display_data"
    }
   ],
   "source": [
    "gs = grid_spec.GridSpec(len(likelihood_i) + 1,1)\n",
    "fig = plt.figure(figsize=(6,4.5))\n",
    "\n",
    "i = 0\n",
    "\n",
    "ax_objs = []\n",
    "for p in range(N):\n",
    "    # creating new axes object\n",
    "    ax_objs.append(fig.add_subplot(gs[i:i + 1, 0:]))\n",
    "\n",
    "    # plotting the distribution\n",
    "    ax_objs[-1].plot(x_range, likelihood_i[p, :], color=\"#f0f0f0\",lw=1)\n",
    "    ax_objs[-1].fill_between(x_range, likelihood_i[p, :], alpha=1, color=\"#458B00\")\n",
    "\n",
    "    # setting uniform x and y lims\n",
    "    ax_objs[-1].set_xlim(0,5)\n",
    "    ax_objs[-1].set_ylim(0,1)\n",
    "\n",
    "    # make background transparent\n",
    "    rect = ax_objs[-1].patch\n",
    "    rect.set_alpha(0)\n",
    "\n",
    "    # remove borders, axis ticks, and labels\n",
    "    ax_objs[-1].set_yticklabels([])\n",
    "\n",
    "    if i == len(likelihood_i)-1:\n",
    "        ax_objs[-1].set_xlabel(\"Food size\", fontsize=16)\n",
    "    else:\n",
    "        ax_objs[-1].set_xticklabels([])\n",
    "\n",
    "    spines = [\"top\",\"right\",\"left\",\"bottom\"]\n",
    "    for s in spines:\n",
    "        ax_objs[-1].spines[s].set_visible(False)\n",
    " \n",
    "    ax_objs[-1].text(-0.02,0, f'p(y_{p} | x)', fontsize=14,ha=\"right\")\n",
    "    \n",
    "    i += 1\n",
    "    plt.grid(visible=None)\n",
    "\n",
    "gs.update(hspace=-0.7)\n",
    "plt.show()"
   ]
  },
  {
   "cell_type": "markdown",
   "metadata": {},
   "source": [
    "Now we take the product over these likelihoods (or sum if it were a log-likelihood) and get the following:"
   ]
  },
  {
   "cell_type": "code",
   "execution_count": 13,
   "metadata": {},
   "outputs": [
    {
     "data": {
      "text/plain": [
       "[<matplotlib.lines.Line2D at 0x7faf69d62a00>]"
      ]
     },
     "execution_count": 13,
     "metadata": {},
     "output_type": "execute_result"
    },
    {
     "data": {
      "text/plain": [
       "<Figure size 432x288 with 0 Axes>"
      ]
     },
     "metadata": {},
     "output_type": "display_data"
    },
    {
     "data": {
      "image/png": "[encoded data removed]",
      "text/plain": [
       "<Figure size 432x288 with 1 Axes>"
      ]
     },
     "metadata": {},
     "output_type": "display_data"
    }
   ],
   "source": [
    "plt.style.use(\"seaborn-whitegrid\")\n",
    "fig = plt.figure()\n",
    "fig, ax = plt.subplots(1, 1, facecolor=(1,1,1))\n",
    "\n",
    "# Plot linear generating function on canvas\n",
    "ax.plot(x_range, np.prod(likelihood_i, axis=0),\n",
    "        c=\"#458B00\",\n",
    "        linewidth=2)"
   ]
  }
 ],
 "metadata": {
  "kernelspec": {
   "display_name": "base",
   "language": "python",
   "name": "python3"
  },
  "language_info": {
   "codemirror_mode": {
    "name": "ipython",
    "version": 3
   },
   "file_extension": ".py",
   "mimetype": "text/x-python",
   "name": "python",
   "nbconvert_exporter": "python",
   "pygments_lexer": "ipython3",
   "version": "3.9.7"
  }
 },
 "nbformat": 4,
 "nbformat_minor": 2
}
