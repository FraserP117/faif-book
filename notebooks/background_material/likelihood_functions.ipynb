{
 "cells": [
  {
   "cell_type": "markdown",
   "metadata": {},
   "source": [
    "# Likelihood functions\n",
    "\n",
    "Demonstration of how we can treat the conditional distribution $p(y \\mid x)$ as a likelihood function.\n",
    "\n",
    "==========================================================================\n",
    "\n",
    "* **Notebook dependencies**:\n",
    "    * ...\n",
    "\n",
    "* **Content**: Jupyter notebook accompanying Chapter 2 of the textbook \"Fundamentals of Active Inference\"\n",
    "\n",
    "* **Author**: Sanjeev Namjoshi (sanjeev.namjoshi@gmail.com)\n",
    "\n",
    "* **Version**: 0.1"
   ]
  },
  {
   "cell_type": "code",
   "execution_count": 1,
   "metadata": {},
   "outputs": [],
   "source": [
    "import numpy as np\n",
    "\n",
    "from scipy.stats import norm"
   ]
  },
  {
   "cell_type": "markdown",
   "metadata": {},
   "source": [
    "In Bayesian inference we treat the likelihood as a *function* rather than a probability distribution. The conditional distribution $p(y \\mid x)$ can be used to generate the probability of the data, $y$, given some hidden state $x$. However, in Bayesian inference we are interested in the inverse relationship: having observed the data, we want to know the probability of the state that could have generated that data. This probability is encoded in the posterior distribution.\n",
    "\n",
    "To obtain this distribution, we will treat $p(y \\mid x)$ in a unique way which we call the **likelihood function**. Specifically, the likelihood function $\\mathcal{L}(x)$, is a function of $x$ instead of $y$. What this means is that we start with an observation $y$ and then ask: \"If we input the full range of $x$ into this function, what will the resulting curve look like?\". Let's generate this curve first and then interpret its meaning."
   ]
  },
  {
   "cell_type": "code",
   "execution_count": 3,
   "metadata": {},
   "outputs": [
    {
     "name": "stdout",
     "output_type": "stream",
     "text": [
      "The likelihood when y=7 and x=1 is: 0.00026766045152977074.\n",
      "The likelihood when y=7 and x=2 is: 0.7978845608028654.\n",
      "The likelihood when y=7 and x=3 is: 0.00026766045152977074.\n",
      "The likelihood when y=7 and x=4 is: 1.0104542167073785e-14.\n",
      "The likelihood when y=7 and x=5 is: 4.292767471326121e-32.\n"
     ]
    }
   ],
   "source": [
    "# Set up modeling objects\n",
    "y = 7\n",
    "\n",
    "# We will take the likelihood at 5 different points of x. \n",
    "y                     = 7               # Observation from generative process\n",
    "likelihoods           = np.zeros(5)     # Initialize empty likelihood array\n",
    "std_y                 = 0.5             # Likelihood standard deviation\n",
    "\n",
    "# Generating function of likelihood\n",
    "def gm(x: float, beta_0: float, beta_1: float) -> float:\n",
    "    return beta_1 * x + beta_0\n",
    "\n",
    "# What is the likelihood for each of these five points?\n",
    "for x in range(1, 6):\n",
    "    # Likelihood at p(y = 7 | x = i)\n",
    "    likelihood = norm.pdf(y, loc=gm(x, beta_0=3, beta_1=2), scale=std_y)\n",
    "    likelihoods[x-1] = likelihood\n",
    "    print(f\"The likelihood when y={y} and x={x} is: {likelihood}.\")\n",
    "\n",
    "# for i in range(1, 6):\n",
    "#     likelihood_mean = G(i, beta_0=3, beta_1=2)\n",
    "#     log_likelihood = Normal(loc=likelihood_mean, scale=likelihood_noise)\n",
    "#     likelihood = np.exp(log_likelihood.log_prob(obs))   # Likelihood at p(y = 7 | x = i)\n",
    "#     likelihoods[i-1] = likelihood\n",
    "#     print(f\"The likelihood when y={obs.numpy()[0]} and x={i} is: {likelihood.numpy()[0]}.\")"
   ]
  },
  {
   "cell_type": "markdown",
   "metadata": {},
   "source": [
    "Notice in the above output that we have held $y$ fixed at whatever the observation was and then we have passed in values of $x = \\left \\{1, 2, 3, 4, 5 \\right \\}$. This is why the likelihood is a function of $x$: we have varied $x$ while keeping $y$ constant. Next, lets plot these values."
   ]
  },
  {
   "cell_type": "code",
   "execution_count": null,
   "metadata": {},
   "outputs": [],
   "source": [
    "plt.style.use(\"seaborn-whitegrid\")\n",
    "fig = plt.figure()\n",
    "fig, ax = plt.subplots(1, 1, facecolor=(1,1,1))\n",
    "\n",
    "# Plot linear generating function on canvas\n",
    "for i in range(1, 6):\n",
    "    ax.stem(i, likelihoods[i-1], linefmt=\"g--\", markerfmt=\"go\")\n",
    "\n",
    "ax.set_xlabel(\"Food size\", fontsize=18)\n",
    "ax.set_ylabel(\"Credibility\", fontsize=18)\n",
    "\n",
    "# Axis labels and styling\n",
    "ax.axes.grid(which=\"major\", axis=\"both\", c=\"#f2f2f2\")\n",
    "plt.setp(ax.spines.values(), color=\"black\", linewidth=0.5)\n",
    "ax.tick_params(\n",
    "    labelsize=14,\n",
    "    axis='both',          \n",
    "    which='major',      \n",
    "    bottom=True,\n",
    "    left=True,\n",
    "    color=\"black\",\n",
    "    width=0.5,\n",
    "    length=3)"
   ]
  }
 ],
 "metadata": {
  "kernelspec": {
   "display_name": "ds_env_1",
   "language": "python",
   "name": "python3"
  },
  "language_info": {
   "codemirror_mode": {
    "name": "ipython",
    "version": 3
   },
   "file_extension": ".py",
   "mimetype": "text/x-python",
   "name": "python",
   "nbconvert_exporter": "python",
   "pygments_lexer": "ipython3",
   "version": "3.9.13"
  }
 },
 "nbformat": 4,
 "nbformat_minor": 2
}
