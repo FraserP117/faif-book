{
 "cells": [
  {
   "cell_type": "markdown",
   "metadata": {},
   "source": [
    "# Gradient descent solutions to most likely hidden state by MLE/MAP estimation\n",
    "\n",
    "This notebook shows how one can use maximum likelihood estimation (MLE) or maximum a posteriori (MAP) estimation to find the most likely hidden state given some sensory observation via gradient descent instead of using the analytic solution.\n",
    "\n",
    "==========================================================================\n",
    "\n",
    "* **Notebook dependencies**:\n",
    "    * ...\n",
    "\n",
    "* **Content**: Jupyter notebook accompanying Chapter 2 of the textbook \"Fundamentals of Active Inference\"\n",
    "\n",
    "* **Author**: Sanjeev Namjoshi (sanjeev.namjoshi@gmail.com)\n",
    "\n",
    "* **Version**: 0.1"
   ]
  },
  {
   "cell_type": "code",
   "execution_count": 1,
   "metadata": {},
   "outputs": [],
   "source": [
    "import matplotlib.pyplot as plt\n",
    "import matplotlib as mpl\n",
    "import numpy as np\n",
    "import os\n",
    "import sys\n",
    "import torch\n",
    "\n",
    "from torch.distributions import Normal\n",
    "from typing import Union\n",
    "\n",
    "module_path = os.path.abspath(os.path.join(os.pardir, os.pardir))\n",
    "if module_path not in sys.path:\n",
    "    sys.path.append(module_path)\n",
    "\n",
    "from src.utils import create_environment\n",
    "\n",
    "mpl.style.use(\"seaborn-deep\")"
   ]
  },
  {
   "cell_type": "markdown",
   "metadata": {},
   "source": [
    "The last notebook examined how to find the most likely hidden state estimate after observing the sensory data based on just using the model likelihood (MLE) or the likelihood and the prior (MAP estimation). The result was an analytic update equation for the hidden state. \n",
    "\n",
    "We now turn our attention to the gradient descent solution to this problem which is an iterative optimization based approach. This demonstration also introduces the concept of gradient descent which will be important in the chapters that follow.\n",
    "\n",
    "First we generate 500 data points under a linear generating function as we have done before.\n",
    "\n",
    "**Note**: we will be using the `torch` package to perform gradient descent so we will need to be using Torch tensors instead of NumPy arrays."
   ]
  },
  {
   "cell_type": "code",
   "execution_count": 2,
   "metadata": {},
   "outputs": [],
   "source": [
    "# Environment parameters\n",
    "env_params = {\n",
    "    \"beta_0_star\" : 3,    # Linear parameter intercept\n",
    "    \"beta_1_star\" : 2,    # Linear parameter slope\n",
    "    \"y_star_std\"  : 0.5   # Standard deviation of sensory data\n",
    "}\n",
    "\n",
    "# Initialize environment and agent\n",
    "env = create_environment(name=\"static_linear\", params=env_params)\n",
    "\n",
    "# Generate data for three different x_star values\n",
    "x_star  = 2                                          # 3 different external states\n",
    "N       = 500                                        # Number of samples\n",
    "y       = np.zeros(N)                                # Empty array for i=20 samples\n",
    "\n",
    "# Generate\n",
    "for i in range(N):\n",
    "    y[i] = env.generate(x_star)\n",
    "\n",
    "# Convert numpy array for data into tensor\n",
    "y = torch.tensor(y)"
   ]
  },
  {
   "cell_type": "markdown",
   "metadata": {},
   "source": [
    "To perform gradient descent we need a loss function. We will use the loss function described in the previous chapter. These are different for MLE and MAP.\n",
    "* MLE will use the negative log likelihood.\n",
    "* MAP will use the negative log likelihood minus the log prior."
   ]
  },
  {
   "cell_type": "code",
   "execution_count": 3,
   "metadata": {},
   "outputs": [],
   "source": [
    "def generating_function(beta_0: float, beta_1: float, x: float) -> float:\n",
    "    return beta_1 * x + beta_0\n",
    "\n",
    "def mle_objective(x: float, y: Union[float, torch.tensor]) -> torch.tensor:\n",
    "    \n",
    "    # Parameters\n",
    "    beta_0 = 3      # Linear generating function intercept\n",
    "    beta_1 = 2      # Linear generating function slope\n",
    "    var_y  = 0.5    # Likelihood variance\n",
    "    \n",
    "    # Linear genearting function\n",
    "    mu_y   = generating_function(beta_0=beta_0, beta_1=beta_1, x=x)\n",
    "    \n",
    "    # Calculate log-likelihood over samples    \n",
    "    log_likelihood = Normal(loc=mu_y, scale=np.sqrt(var_y)).log_prob(y).sum(axis=0)\n",
    "    \n",
    "    return -log_likelihood\n",
    "    \n",
    "def map_objective(x: float, y: Union[float, torch.tensor]) -> torch.tensor:\n",
    "        \n",
    "    # Parameters\n",
    "    beta_0 = 3      # Linear generating function intercept\n",
    "    beta_1 = 2      # Linear generating function slope\n",
    "    var_y  = 0.5    # Likelihood variance\n",
    "    m_x    = 2      # Prior mean\n",
    "    s_x    = 0.25   # Prior variance\n",
    "    \n",
    "    # Linear generating function\n",
    "    mu_y   = generating_function(beta_0=beta_0, beta_1=beta_1, x=x)\n",
    "    \n",
    "    # Calculate log-likelihood over samples    \n",
    "    log_likelihood = Normal(loc=mu_y, scale=np.sqrt(var_y)).log_prob(y).sum(axis=0)\n",
    "    \n",
    "    # Calculate log-prior\n",
    "    log_prior = Normal(loc=m_x, scale=s_x).log_prob(x)\n",
    "    \n",
    "    return -(log_likelihood + log_prior)"
   ]
  },
  {
   "cell_type": "markdown",
   "metadata": {},
   "source": [
    "Next we need to perform **gradient descent** over our objective function. Let's refer to the objectives in question as $\\mathcal{F}_{MLE}$ and $\\mathcal{F}_{MAP}$ for MLE and MAP respectively. The aim is to find the minima of this objective function. This minima is the point where the negative log likelihood of the data is minimized (or the negative log likelihood of the data plus log prior assumptions for MAP). This represents the mode of the posterior. Since we are using Gaussian probability distributions, which are quadratic in construction, we will have a well-behaved objective function with a single minima. For each iteration $j \\in \\left \\{0, \\dots, J \\right \\}$ we perform the following update for MLE or MAP:\n",
    "\n",
    "$$\n",
    "    \\begin{aligned}\n",
    "        \\textbf{MLE}: \\hspace{5mm} x^{(j+1)} &\\gets x^{(j)} - \\kappa \\frac{\\partial \\mathcal{F}_{MLE}}{\\partial x^{(j)}} \\\\\n",
    "        \\textbf{MAP}: \\hspace{5mm} x^{(j+1)} &\\gets x^{(j)} - \\kappa \\frac{\\partial \\mathcal{F}_{MAP}}{\\partial x^{(j)}}\n",
    "    \\end{aligned}\n",
    "$$\n",
    "\n",
    "where $\\kappa$ (kappa) is a **learning rate**. This tells us that we make iterative updates to our running best guess about the value of $x$ by moving in the direction of steepest descent along our loss function, where steepest descent is calculated from the partial derivative of the loss function with respect to $x$. $\\kappa$ tells us how big our step down the gradient will be and we are free to specify this hyperparameter ourselves.\n",
    "\n",
    "This process has no clear termination so when do we stop? We could pick a hard stopping limit, say 100 iterations. Or, we could specify some tolerance. When the updates to the best guess of $x^{(j)}$ at the j-th iteration does not change within some tolerance we know that the process has essentially \"flat-lined\" or, more properly, **converged** at a local minima. In our case, since we are using a quadratic loss function, this local minima will be the global minima.\n",
    "\n",
    "Note that we must also choose our initial value for $x$ before kicking off the process. We could choose this randomly or use some prior information about a best guess of where to start. Gradient descent is very sensitive to both the initialization and learning rate (kappa) and the performance of the algorithm depends highly on our choice. For our simple case these settings do not matter as much.\n",
    "\n",
    "Below we define the gradient descent function. We will use the `torch` package for this purpose which contains functions for **auto-differentiation**. In other words, this package will allow us to easily calculate the partial derivative of the loss function so we do not have to do it by hand."
   ]
  },
  {
   "cell_type": "code",
   "execution_count": 4,
   "metadata": {},
   "outputs": [],
   "source": [
    "def gradient_descent(kappa: float, \n",
    "                     n_iterations: int, \n",
    "                     x: float, \n",
    "                     obj: callable):\n",
    "    \n",
    "    print(f\"Initializing x at {x}.\")\n",
    "    \n",
    "    # Initialize empty history arrays\n",
    "    x_history    = torch.zeros(n_iterations)\n",
    "    loss_history = torch.zeros(n_iterations)\n",
    "    \n",
    "    # Turn x into a Torch tensor which is differentiable\n",
    "    x = torch.tensor(x, requires_grad=True)\n",
    "    \n",
    "    # Calculate loss at initialization\n",
    "    loss = obj(x, y)\n",
    "    \n",
    "    # Add initialization values to history (j=0)\n",
    "    x_history[0]    = x.item()\n",
    "    loss_history[0] = loss\n",
    "    \n",
    "    # Gradient descent algorithm (for j+1...n_iterations)\n",
    "    for j in range(n_iterations-1):\n",
    "        obj_x = obj(x, y)  # Compute loss\n",
    "        obj_x.backward()   # Compute gradient of tensor\n",
    "        \n",
    "        with torch.no_grad():\n",
    "            x -= (kappa * x.grad)   # Step in direction of gradient\n",
    "            x.grad.zero_()          # Zero out the gradients\n",
    "        \n",
    "        # Recalculate loss\n",
    "        loss = obj(x, y)\n",
    "        \n",
    "        # Append to history\n",
    "        x_history[j+1] = x.item()\n",
    "        loss_history[j+1] = loss\n",
    "\n",
    "    print(f\"Final value of x: {np.round(x.item(), 3)}\")\n",
    "    history = {\"x\": x_history, \"loss\": loss_history}\n",
    "    return history"
   ]
  },
  {
   "cell_type": "code",
   "execution_count": 5,
   "metadata": {},
   "outputs": [
    {
     "name": "stdout",
     "output_type": "stream",
     "text": [
      "Initializing x at 5.0.\n",
      "Final value of x: 2.039\n"
     ]
    }
   ],
   "source": [
    "mle_history = gradient_descent(\n",
    "    kappa=0.00001, \n",
    "    n_iterations=100, \n",
    "    x=5., \n",
    "    obj=mle_objective)"
   ]
  },
  {
   "cell_type": "code",
   "execution_count": 6,
   "metadata": {},
   "outputs": [
    {
     "name": "stdout",
     "output_type": "stream",
     "text": [
      "Initializing x at 4.0.\n",
      "Final value of x: 2.021\n"
     ]
    }
   ],
   "source": [
    "map_history = gradient_descent(\n",
    "    kappa=0.00001, \n",
    "    n_iterations=100, \n",
    "    x=4., \n",
    "    obj=map_objective)"
   ]
  },
  {
   "cell_type": "code",
   "execution_count": 7,
   "metadata": {},
   "outputs": [],
   "source": [
    "# Assign history to variables for plotting purposes:\n",
    "# Requires detaching gradients from tensor and converting to numpy array\n",
    "mle_x    = mle_history[\"x\"].detach().numpy()\n",
    "mle_loss = mle_history[\"loss\"].detach().numpy()\n",
    "map_x    = map_history[\"x\"].detach().numpy()\n",
    "map_loss = map_history[\"loss\"].detach().numpy()"
   ]
  },
  {
   "cell_type": "code",
   "execution_count": 8,
   "metadata": {},
   "outputs": [
    {
     "data": {
      "text/plain": [
       "<Figure size 640x480 with 0 Axes>"
      ]
     },
     "metadata": {},
     "output_type": "display_data"
    },
    {
     "data": {
      "image/png": "[encoded data removed]",
      "text/plain": [
       "<Figure size 600x300 with 2 Axes>"
      ]
     },
     "metadata": {},
     "output_type": "display_data"
    }
   ],
   "source": [
    "plt.style.use(\"seaborn-whitegrid\")\n",
    "fig = plt.figure()\n",
    "fig, axes = plt.subplots(1,2, facecolor=(1,1,1), figsize=(6, 3))\n",
    "\n",
    "# Main plot\n",
    "axes[0].plot(range(len(mle_loss)), mle_loss, c=\"#1e90ff\")\n",
    "axes[0].plot(range(len(map_loss)), map_loss, c=\"#ff3030\")\n",
    "axes[1].plot(range(len(mle_x)), mle_x, c=\"#1e90ff\", label=\"MLE\")\n",
    "axes[1].plot(range(len(map_x)), map_x, c=\"#ff3030\", label=\"MAP\")\n",
    "\n",
    "# Titles\n",
    "axes[0].set_title(\"Loss (NLL)\")\n",
    "axes[1].set_title(\"Hidden state estimation\")\n",
    "\n",
    "# Axis labels\n",
    "axes[0].set_ylabel(\"Loss\")\n",
    "axes[1].set_ylabel(\"State estimate\")\n",
    "\n",
    "# Hidden state estimate plot customization\n",
    "axes[1].set_ylim([0, 5.2])\n",
    "axes[1].axhline(y=2, linestyle=\"dashed\", linewidth=1, c=\"#595959\")\n",
    "\n",
    "# Axis global labels\n",
    "fig.supxlabel(\"Iterations\", fontsize=16)\n",
    "\n",
    "# Cosmetic changes \n",
    "for ax in axes:\n",
    "    ax.axes.grid(which=\"major\", axis=\"both\", c=\"#f2f2f2\")\n",
    "    plt.setp(ax.spines.values(), color=\"black\", linewidth=0.5)\n",
    "    ax.tick_params(\n",
    "        axis='both',          \n",
    "        which='major',      \n",
    "        bottom=True,\n",
    "        left=True,\n",
    "        color=\"black\",\n",
    "        width=0.5,\n",
    "        length=3)\n",
    "\n",
    "fig.legend(bbox_to_anchor=(1.14,0.9), loc='upper right', ncol=1)\n",
    "fig.tight_layout()"
   ]
  },
  {
   "cell_type": "markdown",
   "metadata": {},
   "source": [
    "Finally, we visualize the log-likelihood function (for MLE) and observe how gradient descent progressed down this function at each iteration. To obtain the NLL curve, we simply have to vary $x$ over the negative-log-likelihood as shown below. $x$ and the associated loss obtained above for each iteration of gradient descent can then be plotted onto the curve."
   ]
  },
  {
   "cell_type": "code",
   "execution_count": 9,
   "metadata": {},
   "outputs": [],
   "source": [
    "# Grid ranges (the range of values x can take)\n",
    "x_min = 0.01\n",
    "x_max = 5\n",
    "x_points = 500\n",
    "\n",
    "x_range = np.linspace(start=0.01, stop=5, num=500)\n",
    "loss = [mle_objective(x, y) for x in x_range]"
   ]
  },
  {
   "cell_type": "code",
   "execution_count": 10,
   "metadata": {},
   "outputs": [
    {
     "data": {
      "text/plain": [
       "<Figure size 640x480 with 0 Axes>"
      ]
     },
     "metadata": {},
     "output_type": "display_data"
    },
    {
     "data": {
      "image/png": "[encoded data removed]",
      "text/plain": [
       "<Figure size 450x400 with 1 Axes>"
      ]
     },
     "metadata": {},
     "output_type": "display_data"
    }
   ],
   "source": [
    "plt.style.use(\"seaborn-whitegrid\")\n",
    "fig = plt.figure()\n",
    "fig, ax = plt.subplots(1, 1, facecolor=(1,1,1), figsize=(4.5,4))\n",
    "\n",
    "# Plot NLL function\n",
    "ax.plot(x_range, loss, c=\"#483D8B\")\n",
    "ax.plot(mle_x, mle_loss, \"r>\", ms=4.5)\n",
    "\n",
    "# Set axes labels\n",
    "ax.set_xlabel(\"x\", fontsize=18)\n",
    "ax.set_ylabel(\"Loss\", fontsize=18)\n",
    "\n",
    "ax.set_xlim([-0.1,5.1])\n",
    "ax.set_xticks(range(0,6, 1))\n",
    "\n",
    "# Axis labels and styling\n",
    "ax.axes.grid(which=\"major\", axis=\"both\", c=\"#f2f2f2\")\n",
    "plt.setp(ax.spines.values(), color=\"black\", linewidth=0.5)\n",
    "ax.tick_params(\n",
    "    labelsize=14,\n",
    "    axis='both',          \n",
    "    which='major',      \n",
    "    bottom=True,\n",
    "    left=True,\n",
    "    color=\"black\",\n",
    "    width=0.5,\n",
    "    length=3)"
   ]
  }
 ],
 "metadata": {
  "kernelspec": {
   "display_name": "base",
   "language": "python",
   "name": "python3"
  },
  "language_info": {
   "codemirror_mode": {
    "name": "ipython",
    "version": 3
   },
   "file_extension": ".py",
   "mimetype": "text/x-python",
   "name": "python",
   "nbconvert_exporter": "python",
   "pygments_lexer": "ipython3",
   "version": "3.9.13"
  }
 },
 "nbformat": 4,
 "nbformat_minor": 2
}
