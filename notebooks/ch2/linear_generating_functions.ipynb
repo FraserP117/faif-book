{
 "cells": [
  {
   "cell_type": "code",
   "execution_count": 16,
   "metadata": {},
   "outputs": [],
   "source": [
    "import numpy as np\n",
    "\n",
    "from jax.scipy.stats import norm\n",
    "from types import SimpleNamespace"
   ]
  },
  {
   "cell_type": "markdown",
   "metadata": {},
   "source": [
    "Environment is noiseless here."
   ]
  },
  {
   "cell_type": "code",
   "execution_count": 34,
   "metadata": {},
   "outputs": [],
   "source": [
    "class StaticEnvironment:\n",
    "    def __init__(self, params: dict) -> None:\n",
    "        self.params = SimpleNamespace(**params)\n",
    "    \n",
    "    def ge(self, x_star: float) -> float:\n",
    "        return self.params.beta_1_star * x + self.params.beta_0_star"
   ]
  },
  {
   "cell_type": "code",
   "execution_count": 35,
   "metadata": {},
   "outputs": [],
   "source": [
    "class StaticAgent:\n",
    "    def __init__(self, params: dict) -> None:\n",
    "        self.params = SimpleNamespace(**params)\n",
    "        \n",
    "    def gm(self):\n",
    "        return self.params.beta_1 * self.params.x_range + self.params.beta_0\n",
    "        \n",
    "    def generative_model(self, y: float):\n",
    "        likelihood = norm.pdf(y, loc=self.gm(), scale=self.params.std_y)\n",
    "        prior      = norm.pdf(x_range, loc=self.params.mu_x, scale=self.params.std_x)\n",
    "        return likelihood * prior\n",
    "        \n",
    "    def infer_state(self, y: float):\n",
    "        gen_model = self.generative_model(y)\n",
    "        evidence  = np.sum(gen_model, axis=0)\n",
    "        posterior = gen_model / evidence\n",
    "        return posterior\n",
    "    "
   ]
  },
  {
   "cell_type": "code",
   "execution_count": 39,
   "metadata": {},
   "outputs": [],
   "source": [
    "# Environment parameters\n",
    "env_params = {\n",
    "    \"beta_0_star\" : 3,    # Linear parameter intercept\n",
    "    \"beta_1_star\" : 2,    # Linear parameter slope\n",
    "}\n",
    "\n",
    "# Agent parameters\n",
    "agent_params = {\n",
    "    \"beta_0\" : 3,    # Linear parameter intercept\n",
    "    \"beta_1\" : 2,    # Linear parameter slope\n",
    "    \"std_y\"  : 0.5,  # Likelihood standard deviation\n",
    "    \"mu_x\"   : 4,    # Prior mean\n",
    "    \"std_x\"  : 0.5,  # Prior standard deviation\n",
    "    \"x_range\": np.linspace(start=0.01, stop=5, num=500)\n",
    "}"
   ]
  },
  {
   "cell_type": "code",
   "execution_count": 43,
   "metadata": {},
   "outputs": [],
   "source": [
    "# Initialize environment and agent\n",
    "env       = StaticEnvironment(env_params)\n",
    "agent     = StaticAgent(agent_params)\n",
    "\n",
    "# Set true state and generate sensory data\n",
    "x_star    = 2\n",
    "y         = env.ge(x_star)\n",
    "\n",
    "# Perception: Agent infers belief over hidden state using sensory data\n",
    "posterior = agent.infer_state(y)"
   ]
  },
  {
   "cell_type": "code",
   "execution_count": 44,
   "metadata": {},
   "outputs": [
    {
     "name": "stdout",
     "output_type": "stream",
     "text": [
      "The posterior mode is 2.4000000953674316. This is the expected or inferred food size, the hidden state estimate, when the observed light intensity is 7.\n"
     ]
    }
   ],
   "source": [
    "mode = (np.argmax(posterior) + 1) / 100\n",
    "print(f'The posterior mode is {mode}. This is the expected or inferred food size, the hidden state estimate, when the observed light intensity is 7.')"
   ]
  }
 ],
 "metadata": {
  "language_info": {
   "name": "python"
  }
 },
 "nbformat": 4,
 "nbformat_minor": 2
}
