{
 "cells": [
  {
   "cell_type": "markdown",
   "metadata": {},
   "source": [
    "# Scaling hidden state estimation to multiple samples\n",
    "\n",
    "This notebook extends the probabilistic hidden state estimation problem with a linear generating function to the case of multiple input samples.\n",
    "\n",
    "==========================================================================\n",
    "\n",
    "* **Notebook dependencies**:\n",
    "    * ...\n",
    "\n",
    "* **Content**: Jupyter notebook accompanying Chapter 2 of the textbook \"Fundamentals of Active Inference\"\n",
    "\n",
    "* **Author**: Sanjeev Namjoshi (sanjeev.namjoshi@gmail.com)\n",
    "\n",
    "* **Version**: 0.1"
   ]
  },
  {
   "cell_type": "code",
   "execution_count": 1,
   "metadata": {},
   "outputs": [],
   "source": [
    "import matplotlib.pyplot as plt\n",
    "import matplotlib as mpl\n",
    "import numpy as np\n",
    "import os\n",
    "import sys\n",
    "\n",
    "from scipy.stats import norm\n",
    "from types import SimpleNamespace\n",
    "\n",
    "module_path = os.path.abspath(os.path.join(os.pardir, os.pardir))\n",
    "if module_path not in sys.path:\n",
    "    sys.path.append(module_path)\n",
    "\n",
    "from src.utils import create_environment\n",
    "\n",
    "mpl.style.use(\"seaborn-deep\")"
   ]
  },
  {
   "cell_type": "markdown",
   "metadata": {},
   "source": [
    "We will use the same assumptions as the previous examples:\n",
    "* $x^*$: The true **external state** of the generative process.\n",
    "* $y$: The **outcome** of a generative process, known as the **observation** for a generative model. This is the data the agent receives.\n",
    "\n",
    "In this scenario the external states of the generative process ($x^*$) denote the size of a food source and the outcomes ($y$) are represents levels of light intensity emitted from the food as a function of size. Using these observations, the agent needs to infer (\"perceive\") the hidden state of the generative process that generated the data it is receiving. This is represented by the variable ($x$), the **hidden state** which captures the agent's belief about the food size that could have generated the observed sensory data. We use the following agent and environment:\n",
    "\n",
    "$$\n",
    "    \\mathscr{E} \\triangleq \n",
    "    \\begin{cases}\n",
    "        y = g_{\\mathscr{E}}(x^*; \\theta^*) + \\omega_y^*    & \\text{Outcome generation} \\\\\n",
    "        g_{\\mathscr{E}}(x^*; \\theta^*) = \\beta_0^* + \\beta_1^* x^* & \\text{Generating function} \\\\\n",
    "        \\omega_y^* \\sim \\mathcal{N}(0, \\sigma^2=1) & \\text{Observation noise} \\\\\n",
    "        \\theta^* := \\left \\{\\beta_0^* = 3, \\beta_1^* = 2 \\right \\} & \\text{Observation parameters}\n",
    "    \\end{cases}\n",
    "$$\n",
    "\n",
    "$$\n",
    "    \\mathcal{M} \\triangleq \n",
    "    \\begin{cases}\n",
    "        p_{\\mu_y, \\sigma^2_y}(y_i \\mid x) = \\mathcal{N}(y_i; g_{\\mathcal{M}}, \\sigma^2_y) & \\text{Likelihood} \\\\\n",
    "        p_{\\mu_y, \\sigma^2_y}(x) = \\mathcal{N}(x; m_x, s^2_x) & \\text{Prior on } x \\\\\n",
    "        g_{\\mathcal{M}}(x, \\theta) = \\beta_0 + \\beta_1 x & \\text{Generating function} \\\\\n",
    "        \\theta := \\left \\{\\beta_0 = 3, \\beta_1 = 2 \\right \\}  & \\text{Linear parameters} \\\\ \n",
    "        \\phi := \\left \\{\\sigma^2_y = 0.25, s^2_x = 0.25, m_x = 4 \\right \\} & \\text{Other parameters}\n",
    "    \\end{cases}\n",
    "$$\n",
    "\n",
    "The only difference is that observation are now indexed by $i = 0, \\dots, N$ to indicate multiple samples are generated from the same hidden state. We use the linear environment we have used previously and generate $N=30$ samples with $x^*=2$."
   ]
  },
  {
   "cell_type": "code",
   "execution_count": 2,
   "metadata": {},
   "outputs": [],
   "source": [
    "# Environment parameters\n",
    "env_params = {\n",
    "    \"beta_0_star\" : 3,    # Linear parameter intercept\n",
    "    \"beta_1_star\" : 2,    # Linear parameter slope\n",
    "    \"y_star_std\"  : 0.25  # Standard deviation of sensory data\n",
    "}\n",
    "\n",
    "# Initialize environment and agent\n",
    "env = create_environment(name=\"static_linear\", params=env_params)\n",
    "\n",
    "# Generate data for three different x_star values\n",
    "x_range = np.linspace(start=0.01, stop=5, num=500)   # Range of x_star\n",
    "x_star  = 2                                          # External state\n",
    "N       = 30                                         # Number of samples\n",
    "y       = np.zeros(N)                                # Empty array for N=30 samples\n",
    "\n",
    "# Generate\n",
    "for i in range(N):\n",
    "    env.build(x_star)\n",
    "    y[i] = env.generate()\n",
    "\n",
    "# The `norm()` function will not work unless we reshape `y` and add an extra dimension making it of size `[30, 1]`. The operation below adds this extra dimension. This is effectively like passing in 30 individual samples in one array instead of an array of 30 samples.\n",
    "\n",
    "y = np.expand_dims(y, axis=1)"
   ]
  },
  {
   "cell_type": "markdown",
   "metadata": {},
   "source": [
    "We desire an agent performs the same hidden state estimation (with a linear generating function) as before but we will extend it to multiple samples. The trick to doing this entirely lies in how we construct the likelihood,\n",
    "\n",
    "$$\n",
    "    p(y^{(0)}, \\dots, y^{(N)} \\mid x) = \\prod_{i=0}^N p(y^{(i)} \\mid x)\n",
    "$$\n",
    "\n",
    "This equation tells that that probability over *all* samples given a hidden state is equal to the product of the likelihoods for *each* sample given the hidden state. Let's examine the likelihood function in code to see how this works."
   ]
  },
  {
   "cell_type": "code",
   "execution_count": 3,
   "metadata": {},
   "outputs": [],
   "source": [
    "def generating_function(beta_0: float, beta_1: float, x: float) -> float:\n",
    "    return beta_1 * x + beta_0\n",
    "\n",
    "x_range = np.linspace(start=0.01, stop=5, num=500)\n",
    "mu_y    = generating_function(beta_0=3, beta_1=2, x=x_range)\n",
    "\n",
    "likelihood_i = norm.pdf(y, loc=mu_y, scale=0.5)"
   ]
  },
  {
   "cell_type": "code",
   "execution_count": 4,
   "metadata": {},
   "outputs": [
    {
     "name": "stdout",
     "output_type": "stream",
     "text": [
      "The shape of the likelihood is [30 x 500]\n"
     ]
    }
   ],
   "source": [
    "print(f\"The shape of the likelihood is [{likelihood_i.shape[0]} x {likelihood_i.shape[1]}]\")"
   ]
  },
  {
   "cell_type": "markdown",
   "metadata": {},
   "source": [
    "This makes sense - the likelihood has 30 rows, one for each sample, and 500 columns, one for each point in our 500-point grid over $x$. What the `scipy` function has done is calculate a likelihood for each of the 30 samples in question. Each sample has an associated likelihood with 500 elements in it, one for each element in the grid over the range of $x$. Then each of these likelihoods are treated as stacked rows to make a matrix.\n",
    "\n",
    "We could for example write the equivalent statement and confirm that the result is the same:"
   ]
  },
  {
   "cell_type": "code",
   "execution_count": 5,
   "metadata": {},
   "outputs": [
    {
     "name": "stdout",
     "output_type": "stream",
     "text": [
      "The shape of the likelihood is [30 x 500]\n"
     ]
    }
   ],
   "source": [
    "grid_size  = x_range.shape[0]\n",
    "likelihood_i = np.zeros([N, grid_size])\n",
    "\n",
    "for i in range(N):\n",
    "    likelihood_i[i] = norm.pdf(y[i], loc=mu_y, scale=0.5)\n",
    "    \n",
    "print(f\"The shape of the likelihood is [{likelihood_i.shape[0]} x {likelihood_i.shape[1]}]\")"
   ]
  },
  {
   "cell_type": "markdown",
   "metadata": {},
   "source": [
    "What we have here is a matrix of likelihoods for *each* sample. In other words,\n",
    "\n",
    "$$\n",
    "    p(y^{(0)}, \\dots, y^{(N)} \\mid x) = \\prod_{i=0}^N \\begin{bmatrix} p(y^{(0)} \\mid x) \\\\ \\vdots \\\\ p(y^{(N)} \\mid x) \\end{bmatrix}\n",
    "$$\n",
    "\n",
    "\n",
    "If we want to compute the likelihood over *all* samples what we should do is take the product *down* the rows of the likelihood matrix. We can do this by using `prod(axis=0)` on the array. This produces:"
   ]
  },
  {
   "cell_type": "code",
   "execution_count": 6,
   "metadata": {},
   "outputs": [
    {
     "name": "stdout",
     "output_type": "stream",
     "text": [
      "The shape of the likelihood over all samples is 500.\n"
     ]
    }
   ],
   "source": [
    "likelihood = likelihood_i.prod(axis=0)\n",
    "print(f\"The shape of the likelihood over all samples is {likelihood.shape[0]}.\")"
   ]
  },
  {
   "cell_type": "markdown",
   "metadata": {},
   "source": [
    "Now we have just 500 elements which reflects the likelihood over all samples. \n",
    "\n",
    "Note that usually we will work in log space because logarithms are more numerically stable and they change multiplication into addition which is generally easier to work with. With this mind, we can define the **log-likelihood** as the log of the likelihood:\n",
    "\n",
    "$$\n",
    "    \\log p(y^{(0)}, \\dots, y^{(N)} \\mid x) = \\sum_{i=0}^N \\log p(y^{(i)} \\mid x)\n",
    "$$\n",
    "\n",
    "Note that we are taking the *sum* because taking a logarithm transforms a product into a sum. In code we write this as follows:"
   ]
  },
  {
   "cell_type": "code",
   "execution_count": 7,
   "metadata": {},
   "outputs": [],
   "source": [
    "likelihood_i = norm.pdf(y, loc=mu_y, scale=0.5)\n",
    "log_likelihood_i = np.log(likelihood_i)\n",
    "log_likelihood = log_likelihood_i.sum(axis=0)"
   ]
  },
  {
   "cell_type": "markdown",
   "metadata": {},
   "source": [
    "We also define a log prior which we can add it to the log-likelihood over samples to obtain the log generative model. This is once again because instead of multiplying the likelihood and prior we add the log likelihood and log prior:\n",
    "\n",
    "$$\n",
    "\\log p(y^{(i)}, x) = \\sum_{i=1}^n \\log p(y^{(i)} \\mid x) + \\log p(x)\n",
    "$$"
   ]
  },
  {
   "cell_type": "code",
   "execution_count": 8,
   "metadata": {},
   "outputs": [],
   "source": [
    "prior = norm.pdf(x_range, loc=4, scale=0.5)\n",
    "log_prior = np.log(prior)\n",
    "gen_model = log_likelihood + log_prior"
   ]
  },
  {
   "cell_type": "markdown",
   "metadata": {},
   "source": [
    "As we know, we can invert this generative model with Bayes' theorem to obtain the posterior by dividing by the model evidence. To full code for model inversion is shown below.\n",
    "\n",
    "**Note**: We could do the above process without log space. However, most operations in this book will operate in log space so we will begin the tradition of (almost) always using the log likelihood and log prior going forward."
   ]
  },
  {
   "cell_type": "code",
   "execution_count": 9,
   "metadata": {},
   "outputs": [],
   "source": [
    "class ExactLinearAgent:\n",
    "    def __init__(self, params: dict) -> None:\n",
    "        self.params = SimpleNamespace(**params)\n",
    "        \n",
    "        # Model components\n",
    "        self.log_likelihood = None\n",
    "        self.log_prior = None\n",
    "        self.gen_model = None\n",
    "        self.evidence = None\n",
    "        self.posterior = None\n",
    "        \n",
    "    def gm(self, x: float) -> float:\n",
    "        return self.params.beta_1 * x + self.params.beta_0  \n",
    "        \n",
    "    def generative_model(self, y: float, generating_function: callable):\n",
    "        likelihood_i    = norm.pdf(y, loc=generating_function, scale=self.params.std_y)\n",
    "        self.prior      = norm.pdf(self.params.x_range, loc=self.params.m_x, scale=self.params.s_x)\n",
    "        \n",
    "        self.log_likelihood = np.log(likelihood_i).sum(axis=0)\n",
    "        self.log_prior = np.log(self.prior)\n",
    "        \n",
    "        return self.log_likelihood + self.log_prior\n",
    "        \n",
    "    def infer_state(self, y: float):\n",
    "        \n",
    "        generating_function = self.gm(x=self.params.x_range) \n",
    "        self.log_gen_model = self.generative_model(y, generating_function)\n",
    "        \n",
    "        # Use the log-sum-exp trick to normalize by the evidence\n",
    "        self.posterior = np.exp(self.log_gen_model - np.max(self.log_gen_model))  "
   ]
  },
  {
   "cell_type": "code",
   "execution_count": 10,
   "metadata": {},
   "outputs": [],
   "source": [
    "# Agent parameters\n",
    "agent_params = {\n",
    "    \"beta_0\" : 3,     # Linear parameter intercept\n",
    "    \"beta_1\" : 2,     # Linear parameter slope\n",
    "    \"std_y\"  : 0.25,  # Likelihood standard deviation\n",
    "    \"m_x\"    : 4,     # Prior mean\n",
    "    \"s_x\"    : 0.25,  # Prior standard deviation\n",
    "    \"x_range\": np.linspace(start=0.01, stop=5, num=500)\n",
    "}\n",
    "\n",
    "agent = ExactLinearAgent(params=agent_params)\n",
    "agent.infer_state(y)\n",
    "\n",
    "posterior = agent.posterior\n",
    "likelihood = np.exp(agent.log_likelihood)\n",
    "prior = np.exp(agent.log_prior)"
   ]
  },
  {
   "cell_type": "code",
   "execution_count": 11,
   "metadata": {},
   "outputs": [
    {
     "data": {
      "text/plain": [
       "<Figure size 432x288 with 0 Axes>"
      ]
     },
     "metadata": {},
     "output_type": "display_data"
    },
    {
     "data": {
      "image/png": "[encoded data removed]",
      "text/plain": [
       "<Figure size 576x216 with 3 Axes>"
      ]
     },
     "metadata": {},
     "output_type": "display_data"
    }
   ],
   "source": [
    "plt.style.use(\"seaborn-whitegrid\")\n",
    "fig = plt.figure()\n",
    "fig, axes = plt.subplots(1,3, facecolor=(1,1,1), figsize=(8,3))\n",
    "\n",
    "# Main plot\n",
    "axes[0].plot(x_range, prior, c=\"#1874cd\")        # Prior\n",
    "axes[1].plot(x_range, likelihood, c=\"#cd2626\")   # Likelihood\n",
    "axes[2].plot(x_range, posterior, c=\"#4eee94\")    # Posterior\n",
    "\n",
    "# Posterior mode and posterior axis\n",
    "axes[2].axvline(x=(np.argmax(posterior) + 1) / 100, linestyle=\"dashed\", linewidth=1)\n",
    "\n",
    "# Titles\n",
    "axes[0].set_title(\"Prior\")\n",
    "axes[1].set_title(\"Likelihood\")\n",
    "axes[2].set_title(\"Posterior\")\n",
    "\n",
    "# Axis global labels\n",
    "fig.supxlabel(\"Food size\", fontsize=16)\n",
    "fig.supylabel(\"Probability\", fontsize=16)\n",
    "\n",
    "# Cosmetic changes and axes ranges\n",
    "for ax in axes:\n",
    "    ax.xaxis.set_ticks(np.arange(0, 6, 1))\n",
    "    ax.axes.grid(which=\"major\", axis=\"both\", c=\"#f2f2f2\")\n",
    "    plt.setp(ax.spines.values(), color=\"black\", linewidth=0.5)\n",
    "    ax.tick_params(\n",
    "        axis='both',          \n",
    "        which='major',      \n",
    "        bottom=True,\n",
    "        left=True,\n",
    "        color=\"black\",\n",
    "        width=0.5,\n",
    "        length=3)\n",
    "    \n",
    "fig.tight_layout()"
   ]
  },
  {
   "cell_type": "code",
   "execution_count": 12,
   "metadata": {},
   "outputs": [
    {
     "name": "stdout",
     "output_type": "stream",
     "text": [
      "The posterior mode is 1.98. This is the expected or inferred food size, the hidden state estimate with 30 observations (samples) from the generative process in the true state 2.\n"
     ]
    }
   ],
   "source": [
    "mode = (np.argmax(posterior) + 1) / 100\n",
    "print(f'The posterior mode is {mode}. This is the expected or inferred food size, the hidden state estimate with 30 observations (samples) from the generative process in the true state {x_star}.')"
   ]
  },
  {
   "cell_type": "markdown",
   "metadata": {},
   "source": [
    "You will note that the prediction is must better than the case with one sample and the effect of the prior is swamped out. As we receive more and more data, posterior can be updated and become a better and better approximation of the true state as the variance shrinks."
   ]
  }
 ],
 "metadata": {
  "kernelspec": {
   "display_name": "base",
   "language": "python",
   "name": "python3"
  },
  "language_info": {
   "codemirror_mode": {
    "name": "ipython",
    "version": 3
   },
   "file_extension": ".py",
   "mimetype": "text/x-python",
   "name": "python",
   "nbconvert_exporter": "python",
   "pygments_lexer": "ipython3",
   "version": "3.9.7"
  }
 },
 "nbformat": 4,
 "nbformat_minor": 2
}
