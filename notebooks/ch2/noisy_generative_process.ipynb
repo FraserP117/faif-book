{
 "cells": [
  {
   "cell_type": "markdown",
   "metadata": {},
   "source": [
    "# Noisy generative processes (Chapter 2)\n",
    "\n",
    "Creates the plot at the beginning of Chapter 2 showing how you can add noise to a linear function to generate points normally distributed across a line. \n",
    "\n",
    "==========================================================================\n",
    "\n",
    "* **Notebook dependencies**:\n",
    "    * See Notebook X for information on Jax\n",
    "    * See Notebook Y for how to build environments\n",
    "\n",
    "* **Content**: Jupyter notebook accompanying Chapter 2 of the textbook \"Fundamentals of Active Inference\"\n",
    "\n",
    "* **Author**: Sanjeev Namjoshi (sanjeev.namjoshi@gmail.com)\n",
    "\n",
    "* **Version**: 0.1"
   ]
  },
  {
   "cell_type": "code",
   "execution_count": null,
   "metadata": {},
   "outputs": [],
   "source": [
    "# TODO: Change parameters to beta_0_star and beta_1_star\n",
    "# TODO: Change external state to x_star"
   ]
  },
  {
   "cell_type": "code",
   "execution_count": 28,
   "metadata": {},
   "outputs": [],
   "source": [
    "import jax\n",
    "import matplotlib.pyplot as plt\n",
    "import matplotlib as mpl\n",
    "import numpy as np\n",
    "import os\n",
    "import sys\n",
    "\n",
    "from jax.scipy.stats import norm\n",
    "from jax import random\n",
    "from types import SimpleNamespace\n",
    "\n",
    "module_path = os.path.abspath(os.path.join(os.pardir, os.pardir))\n",
    "if module_path not in sys.path:\n",
    "    sys.path.append(module_path)\n",
    "    \n",
    "from src.env_base import Environment\n",
    "\n",
    "mpl.style.use(\"seaborn-deep\")"
   ]
  },
  {
   "cell_type": "markdown",
   "metadata": {},
   "source": [
    "## Define the environment and helper functions\n",
    "\n",
    "First, we use 49 different external states of the environment and use them to generate sensory data. The external states are mapped to sensory data using the generating function $y = 2x^*+3$ with added Gaussian noise. This generating function is captured in code as the function $y = \\beta_1 x^* + \\beta_0$, with $\\beta_0 =3$ and $\\beta_1=2$ which is specified by the function `ge()`. This naming is because in the book's mathematical notation we write $g_{\\mathscr{E}}$ to specify the environment sensory mapping function.\n",
    "\n",
    "In Jax, we specify the noise term with `loc + scale * jax.random.normal(key, (1,))` which samples from a zero-centered Gaussian with unit variance. To shift the mean and change the variance we can add the mean (`loc`) and multiple by the variance (`scale`). When this is added to the output of the data sample we obtain `y = ge(x) + noise`.\n",
    "\n",
    "**Note**: 49 points are chosen because later we make use of the `np.median()` function and we want an odd number of points so we can select a single value for the median.\n",
    "\n",
    "**Note**: The `SimpleNamespace(**params)` in the initialization converts the parameter dictionary into a namespace so that dictionary values can be easily accessed with the dot operator instead of the standard square bracket notation."
   ]
  },
  {
   "cell_type": "code",
   "execution_count": 29,
   "metadata": {},
   "outputs": [],
   "source": [
    "# Environment specification\n",
    "class StaticEnvironment(Environment):\n",
    "    def __init__(self, params: dict) -> None:\n",
    "        self.params = SimpleNamespace(**params)\n",
    "        \n",
    "    def ge(self, x: float) -> float:\n",
    "        return self.params.beta_1 * x + self.params.beta_0\n",
    "    \n",
    "    def noise(self, loc: float, scale: float, key: int) -> float:\n",
    "        return loc + scale * jax.random.normal(key, (1,))\n",
    "    \n",
    "    def step(self, x: float, key: int) -> float:\n",
    "        y = self.ge(x) + self.noise(loc=0, scale=self.params.var_y, key=key)\n",
    "        return y"
   ]
  },
  {
   "cell_type": "markdown",
   "metadata": {},
   "source": [
    "The helper function specifies the sensory mapping function and its inverse. These helper functions will be used later during plotting."
   ]
  },
  {
   "cell_type": "code",
   "execution_count": 30,
   "metadata": {},
   "outputs": [],
   "source": [
    "\"\"\" Helper functions \"\"\"\n",
    "\n",
    "# Generating function\n",
    "def ge(x, beta_0, beta_1):\n",
    "    y = beta_1 * x + beta_0\n",
    "    return y\n",
    "\n",
    "# Inverse generating function which can return the original state that generated the observation\n",
    "def ge_inv(y, beta_0, beta_1):\n",
    "    x = (y - beta_0) / beta_1\n",
    "    return x"
   ]
  },
  {
   "cell_type": "markdown",
   "metadata": {},
   "source": [
    "Now we set up the simulation. First, we need to specify the parameters for the environment. Here there are just three variables to consider: $\\beta_0, \\beta_1, \\sigma^2_y$.\n",
    "\n",
    "The simulation setup includes a random key, the support or range of values considered by $x^*$, and $n=49$ possible values of $x^*$ to randomly generate.\n",
    "\n",
    "Finally, we initialize the sensory data array with zeros so it can be filled when the samples are generated."
   ]
  },
  {
   "cell_type": "code",
   "execution_count": 31,
   "metadata": {},
   "outputs": [],
   "source": [
    "# Environment parameters\n",
    "params = {\n",
    "    \"beta_0\": 3,   # Linear parameter intercept\n",
    "    \"beta_1\": 2,   # Linear parameter slope\n",
    "    \"var_y\" : 1,   # Likelihood variance\n",
    "}\n",
    "\n",
    "# Simulation setup\n",
    "key     = jax.random.PRNGKey(549)                    # Jax random key\n",
    "x_range = np.linspace(start=0.01, stop=5, num=500)   # Support of x\n",
    "n       = 49                                         # Number of samples\n",
    "\n",
    "# Initialize empty arrays \n",
    "y = np.zeros(n)"
   ]
  },
  {
   "cell_type": "markdown",
   "metadata": {},
   "source": [
    "Here we generate the 49 external states, $x^*$. Then we initialize the `StaticEnvironment` class by passing in the parameter dictionary. \n",
    "\n",
    "Next, we loop across the different external states in the $x^*$ vector, create a random subkey for each one, and step through the environment each time to generate the sensory data.\n",
    "\n",
    "**Note**: The `random.split()` function in Jax allows you to take a random seed key and split it into subkeys. This is needed because if we called `env.step()` 49 times with the same key, we would get the same noise each time. Instead, we want different noise for each sample, randomly sampled from the Gaussian that defines the noise."
   ]
  },
  {
   "cell_type": "code",
   "execution_count": 32,
   "metadata": {},
   "outputs": [],
   "source": [
    "# Generate 49 random external states\n",
    "np.random.seed(4932)\n",
    "x_star = np.random.choice(x_range, size=49)\n",
    "\n",
    "# Initialize environment and generate data samples\n",
    "env = StaticEnvironment(params=params)\n",
    "\n",
    "for idx, x in enumerate(x_star):\n",
    "    key, subkey = random.split(key)\n",
    "    y[idx] = env.step(x, subkey)"
   ]
  },
  {
   "cell_type": "markdown",
   "metadata": {},
   "source": [
    "## Generate data to plot"
   ]
  },
  {
   "cell_type": "markdown",
   "metadata": {},
   "source": [
    "The code here is used to generate the Gaussian distribution that will appear in the plot."
   ]
  },
  {
   "cell_type": "code",
   "execution_count": 33,
   "metadata": {},
   "outputs": [],
   "source": [
    "# Generate the distribution around noise\n",
    "point_x = np.median(x_star)                # x coordinate of a chosen sampled point\n",
    "y_mean = ge(point_x, beta_0=3, beta_1=2)   # y coordinate at chosen sampled point\n",
    "y_range = np.linspace(start=0.01, stop=12, num=500)\n",
    "norm_cdf = norm.cdf(y_range, y_mean, params[\"var_y\"])\n",
    "norm_pdf = np.diff(norm_cdf) / (y_range[1] - y_range[0])   # PDF = derivative of CDF\n",
    "norm_pdf[norm_pdf == 0] = np.nan\n",
    "norm_pdf = np.append(norm_pdf, np.NaN)\n",
    "\n",
    "# Inverse mapping of point_x\n",
    "point_y = dict(zip(x_star, y))[np.median(x_star)]"
   ]
  },
  {
   "cell_type": "markdown",
   "metadata": {},
   "source": [
    "## Plot the data points.\n",
    "\n",
    "The plot is composed of multiple elements:\n",
    "1. The samples from the noisy generative process. These are just the data points we generated with the `environment()` function.\n",
    "2. The actual linear generating function (no noise). This is just the line $y= 2x+3$.\n",
    "3. A normal distribution around a chosen sampled point. This uses the median function to pick a point in the middle of the plot (just so the plot is centered). Then a distribution is drawn around it to indicate that points sampled on the line here could fall in $\\pm y$ range. To create the distribution we just create the CDF of the normal distribution at that point and then take the derivative to get the PDF.\n",
    "4. Dotted \"boundary lines\" are added to show the $x$ and $y$ coordinates around the point on the line.\n",
    "5. A red line is drawn to show how the noise has offset the point from the mean."
   ]
  },
  {
   "cell_type": "code",
   "execution_count": 34,
   "metadata": {},
   "outputs": [
    {
     "data": {
      "text/plain": [
       "<Figure size 432x288 with 0 Axes>"
      ]
     },
     "metadata": {},
     "output_type": "display_data"
    },
    {
     "data": {
      "image/png": "[encoded data removed]",
      "text/plain": [
       "<Figure size 432x288 with 1 Axes>"
      ]
     },
     "metadata": {},
     "output_type": "display_data"
    }
   ],
   "source": [
    "fig = plt.figure()\n",
    "fig, ax = plt.subplots(1,1, facecolor=(1,1,1))\n",
    "\n",
    "# Plot (1): Samples from probabilistic generative process\n",
    "ax.scatter(x_star, y,\n",
    "           s=22,\n",
    "           c=\"maroon\")\n",
    "\n",
    "# Plot (2): Deterministic (linear) generating function\n",
    "ax.plot(x_range.tolist(), [ge(elem, beta_0=3, beta_1=2) for elem in x_range],\n",
    "        c=\"gray\",\n",
    "        linewidth=3)\n",
    "\n",
    "# Plot (3): Normal distribution around the sampled point\n",
    "ax.plot(-norm_pdf + ge_inv(y_mean, beta_0=3, beta_1=2), y_range,\n",
    "        c=\"blue\",\n",
    "        linewidth=3)\n",
    "\n",
    "# Plot (4): Boundary lines\n",
    "ax.hlines(y=y_mean, xmin=0, xmax=5, \n",
    "          linestyle=\"dashed\", \n",
    "          colors=\"black\", \n",
    "          linewidth=3)\n",
    "\n",
    "ax.vlines(x=ge_inv(y_mean, beta_0=3, beta_1=2), \n",
    "          ymin=0, ymax=14, \n",
    "          linestyle=\"dashed\", \n",
    "          colors=\"black\",\n",
    "          linewidth=3)\n",
    "\n",
    "# Plot (5): Error/offset for the samples point\n",
    "ax.vlines(x=ge_inv(y_mean, beta_0=3, beta_1=2), \n",
    "          ymin=point_y, ymax=y_mean, \n",
    "          colors=\"red\",\n",
    "          linewidth=3)\n",
    "\n",
    "# Axis labels and stylizing\n",
    "ax.set_xlabel(\"states (x)\", fontsize=18)\n",
    "ax.set_ylabel(\"observations (y)\", fontsize=18)\n",
    "ax.tick_params(\n",
    "    axis='both',          \n",
    "    which='both',      \n",
    "    bottom=False,      \n",
    "    left=False,         \n",
    "    labelbottom=False,\n",
    "    labelleft=False)\n",
    "\n",
    "fig.tight_layout()"
   ]
  }
 ],
 "metadata": {
  "language_info": {
   "name": "python"
  }
 },
 "nbformat": 4,
 "nbformat_minor": 2
}
