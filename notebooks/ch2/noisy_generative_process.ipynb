{
 "cells": [
  {
   "cell_type": "markdown",
   "metadata": {},
   "source": [
    "# Noisy generative processes (Chapter 2)\n",
    "\n",
    "Creates the plot at the beginning of Chapter 2 showing how you can add noise to a linear function to generate points normally distributed across a line.\n",
    "\n",
    "* **Content**: Jupyter notebook accompanying Chapter 2 of the textbook \"Fundamentals of Active Inference\"\n",
    "\n",
    "* **Author**: Sanjeev Namjoshi (sanjeev.namjoshi@gmail.com)\n",
    "\n",
    "* **Version**: 0.1"
   ]
  },
  {
   "cell_type": "code",
   "execution_count": 1,
   "metadata": {},
   "outputs": [],
   "source": [
    "import jax\n",
    "import matplotlib.pyplot as plt\n",
    "import matplotlib as mpl\n",
    "import numpy as np\n",
    "import os\n",
    "import sys\n",
    "\n",
    "# from jax.scipy.stats import norm\n",
    "from jax import random\n",
    "# from jax.random import normal, choice\n",
    "from types import SimpleNamespace\n",
    "\n",
    "module_path = os.path.abspath(os.path.join(os.pardir, os.pardir))\n",
    "if module_path not in sys.path:\n",
    "    sys.path.append(module_path)\n",
    "    \n",
    "from src.env_base import Environment\n",
    "\n",
    "mpl.style.use(\"seaborn-deep\")"
   ]
  },
  {
   "cell_type": "markdown",
   "metadata": {},
   "source": [
    "## Define the environment and helper functions\n",
    "\n",
    "First, generate 49 observations from the generative process by using the generating function $y = 2x+3$. The environment is defined in the example such that we have a number of different possible states the environment can be in (defined by `x_true`) and noise will be added to it with `y = Normal(loc=mu, scale=noise)`, where `mu` is the particular true state.\n",
    "\n",
    "Most of the details in this plot are explained later in Chapter 2, particularly in the notebook `2b_linear_generating_functions.ipynb`.\n",
    "\n",
    "**Note**: 49 points are chosen because later we make use of the `np.median()` function and we want an odd number of points so we can select a single value for the median."
   ]
  },
  {
   "cell_type": "code",
   "execution_count": 2,
   "metadata": {},
   "outputs": [],
   "source": [
    "# Environment specification\n",
    "class StaticEnvironment(Environment):\n",
    "    def __init__(self, params: dict) -> None:\n",
    "        self.params = SimpleNamespace(**params)\n",
    "        \n",
    "    def ge(self, x: float) -> float:\n",
    "        return self.params.beta_1 * x + self.params.beta_0\n",
    "    \n",
    "    def noise(self, loc: float, scale: float, key: int) -> float:\n",
    "        return loc + scale * jax.random.normal(key, (1,))\n",
    "    \n",
    "    def step(self, x: float, key: int) -> float:\n",
    "        y = self.ge(x) + self.noise(loc=0, scale=self.params.var_y, key=key)\n",
    "        return y"
   ]
  },
  {
   "cell_type": "code",
   "execution_count": 3,
   "metadata": {},
   "outputs": [],
   "source": [
    "\"\"\" Helper functions \"\"\"\n",
    "\n",
    "# Generating function\n",
    "def ge(x, beta_0, beta_1):\n",
    "    y = beta_1 * x + beta_0\n",
    "    return y\n",
    "\n",
    "# Inverse generating function which can return the original state that generated the observation\n",
    "def ge_inv(y, beta_0, beta_1):\n",
    "    x = (y - beta_0) / beta_1\n",
    "    return x\n",
    "\n",
    "# # Inverse map between y and x\n",
    "# def x_y_mapping(x ,y, x_val):\n",
    "#     samples = pd.DataFrame({\n",
    "#         \"x\": x, \"y\": y\n",
    "#     })\n",
    "    \n",
    "#     return samples[samples[\"x\"] == x_val][\"y\"].values[0]"
   ]
  },
  {
   "cell_type": "code",
   "execution_count": 4,
   "metadata": {},
   "outputs": [
    {
     "name": "stderr",
     "output_type": "stream",
     "text": [
      "No GPU/TPU found, falling back to CPU. (Set TF_CPP_MIN_LOG_LEVEL=0 and rerun for more info.)\n"
     ]
    }
   ],
   "source": [
    "# Environment parameters\n",
    "params = {\n",
    "    \"beta_0\": 3,   # Linear parameter intercept\n",
    "    \"beta_1\": 2,   # Linear parameter slope\n",
    "    \"var_y\" : 1,   # Likelihood variance\n",
    "}\n",
    "\n",
    "# Simulation setup\n",
    "key     = random.PRNGKey(48734)                      # Jax random key\n",
    "x_range = np.linspace(start=0.01, stop=5, num=500)   # Support of x\n",
    "n       = 49                                         # Number of samples\n",
    "\n",
    "# Initialize empty arrays \n",
    "y = np.zeros(n)"
   ]
  },
  {
   "cell_type": "code",
   "execution_count": 5,
   "metadata": {},
   "outputs": [],
   "source": [
    "# Generate 49 random external states\n",
    "# np.random.seed(4932)\n",
    "# x_star = np.random.choice(x_range, size=49)\n",
    "\n",
    "x_star = jax.random.choice(key, a=x_range, shape=(49,))\n",
    "\n",
    "# Initialize environment and generate data samples\n",
    "env = StaticEnvironment(params=params)\n",
    "\n",
    "for idx, x in enumerate(x_star):\n",
    "    key, subkey = random.split(key)\n",
    "    y[idx] = env.step(x, subkey)"
   ]
  },
  {
   "cell_type": "markdown",
   "metadata": {},
   "source": [
    "## Generate data to plot"
   ]
  },
  {
   "cell_type": "code",
   "execution_count": 6,
   "metadata": {},
   "outputs": [
    {
     "ename": "TypeError",
     "evalue": "unhashable type: 'ArrayImpl'",
     "output_type": "error",
     "traceback": [
      "\u001b[0;31m---------------------------------------------------------------------------\u001b[0m",
      "\u001b[0;31mTypeError\u001b[0m                                 Traceback (most recent call last)",
      "\u001b[0;32m/tmp/ipykernel_182225/1495963521.py\u001b[0m in \u001b[0;36m<module>\u001b[0;34m\u001b[0m\n\u001b[1;32m     23\u001b[0m \u001b[0;34m\u001b[0m\u001b[0m\n\u001b[1;32m     24\u001b[0m \u001b[0;31m# Inverse mapping of point_x\u001b[0m\u001b[0;34m\u001b[0m\u001b[0;34m\u001b[0m\u001b[0m\n\u001b[0;32m---> 25\u001b[0;31m \u001b[0mpoint_y\u001b[0m \u001b[0;34m=\u001b[0m \u001b[0mdict\u001b[0m\u001b[0;34m(\u001b[0m\u001b[0mzip\u001b[0m\u001b[0;34m(\u001b[0m\u001b[0mx_star\u001b[0m\u001b[0;34m,\u001b[0m \u001b[0my\u001b[0m\u001b[0;34m)\u001b[0m\u001b[0;34m)\u001b[0m\u001b[0;34m[\u001b[0m\u001b[0mnp\u001b[0m\u001b[0;34m.\u001b[0m\u001b[0mmedian\u001b[0m\u001b[0;34m(\u001b[0m\u001b[0mx_star\u001b[0m\u001b[0;34m)\u001b[0m\u001b[0;34m]\u001b[0m\u001b[0;34m\u001b[0m\u001b[0;34m\u001b[0m\u001b[0m\n\u001b[0m",
      "\u001b[0;31mTypeError\u001b[0m: unhashable type: 'ArrayImpl'"
     ]
    }
   ],
   "source": [
    "# # Define the grid (the range of values x can take)\n",
    "# x_range = np.linspace(start=0.01, end=5, steps=500)\n",
    "\n",
    "# # Define standard deviation of noise\n",
    "# noise=1\n",
    "\n",
    "# # Generate the data and states (y, x)\n",
    "# data, states = environment(\n",
    "#     n=49, \n",
    "#     x_range=x_range, \n",
    "#     noise=noise,\n",
    "#     beta_0=3,\n",
    "#     beta_1=2)\n",
    "\n",
    "# Generate the distribution around noise\n",
    "point_x = np.median(x_star)     # x coordinate of a chosen sampled point\n",
    "y_mean = ge(point_x, beta_0=3, beta_1=2)   # y coordinate at chosen sampled point\n",
    "y_range = np.linspace(start=0.01, stop=12, num=500)\n",
    "norm_cdf = norm.cdf(y_range, y_mean, params[\"var_y\"])\n",
    "norm_pdf = np.diff(norm_cdf) / (y_range[1] - y_range[0])   # PDF = derivative of CDF\n",
    "norm_pdf[norm_pdf == 0] = np.nan\n",
    "norm_pdf = np.append(norm_pdf, np.NaN)\n",
    "\n",
    "# Inverse mapping of point_x\n",
    "point_y = dict(zip(x_star, y))[np.median(x_star)]"
   ]
  },
  {
   "cell_type": "code",
   "execution_count": 12,
   "metadata": {},
   "outputs": [
    {
     "data": {
      "text/plain": [
       "Array(2.8, dtype=float32)"
      ]
     },
     "execution_count": 12,
     "metadata": {},
     "output_type": "execute_result"
    }
   ],
   "source": [
    "jax.numpy.median(x_star)"
   ]
  },
  {
   "cell_type": "markdown",
   "metadata": {},
   "source": [
    "## Plot the data points.\n",
    "\n",
    "The plot is composed of multiple elements:\n",
    "1. The samples from the noisy generative process. These are just the data points we generated with the `environment()` function.\n",
    "2. The actual linear generating function (no noise). This is just the line $y= 2x+3$.\n",
    "3. A normal distribution around a chosen sampled point. This uses the median function to pick a point in the middle of the plot (just so the plot is centered). Then a distribution is drawn around it to indicate that points sampled on the line here could fall in $\\pm y$ range. To create the distribution we just create the CDF of the normal distribution at that point and then take the derivative to get the PDF.\n",
    "4. Dotted \"boundary lines\" are added to show the $x$ and $y$ coordinates around the point on the line.\n",
    "5. A red line is drawn to show how the noise has offset the point from the mean."
   ]
  },
  {
   "cell_type": "code",
   "execution_count": 7,
   "metadata": {},
   "outputs": [
    {
     "data": {
      "text/plain": [
       "<Figure size 432x288 with 0 Axes>"
      ]
     },
     "metadata": {},
     "output_type": "display_data"
    },
    {
     "data": {
      "image/png": "[encoded data removed]",
      "text/plain": [
       "<Figure size 432x288 with 1 Axes>"
      ]
     },
     "metadata": {},
     "output_type": "display_data"
    }
   ],
   "source": [
    "fig = plt.figure()\n",
    "fig, ax = plt.subplots(1,1, facecolor=(1,1,1))\n",
    "\n",
    "# Plot (1): Samples from probabilistic generative process\n",
    "ax.scatter(x_star, y,\n",
    "           s=22,\n",
    "           c=\"maroon\")\n",
    "\n",
    "# Plot (2): Deterministic (linear) generating function\n",
    "ax.plot(x_range.tolist(), [ge(elem, beta_0=3, beta_1=2) for elem in x_range],\n",
    "        c=\"gray\",\n",
    "        linewidth=3)\n",
    "\n",
    "# Plot (3): Normal distribution around the sampled point\n",
    "ax.plot(-norm_pdf + ge_inv(y_mean, beta_0=3, beta_1=2), y_range,\n",
    "        c=\"blue\",\n",
    "        linewidth=3)\n",
    "\n",
    "# Plot (4): Boundary lines\n",
    "ax.hlines(y=y_mean, xmin=0, xmax=5, \n",
    "          linestyle=\"dashed\", \n",
    "          colors=\"black\", \n",
    "          linewidth=3)\n",
    "\n",
    "ax.vlines(x=ge_inv(y_mean, beta_0=3, beta_1=2), \n",
    "          ymin=0, ymax=14, \n",
    "          linestyle=\"dashed\", \n",
    "          colors=\"black\",\n",
    "          linewidth=3)\n",
    "\n",
    "# Plot (5): Error/offset for the samples point\n",
    "ax.vlines(x=ge_inv(y_mean, beta_0=3, beta_1=2), \n",
    "          ymin=point_y, ymax=y_mean, \n",
    "          colors=\"red\",\n",
    "          linewidth=3)\n",
    "\n",
    "# Axis labels and stylizing\n",
    "ax.set_xlabel(\"states (x)\", fontsize=18)\n",
    "ax.set_ylabel(\"observations (y)\", fontsize=18)\n",
    "ax.tick_params(\n",
    "    axis='both',          \n",
    "    which='both',      \n",
    "    bottom=False,      \n",
    "    left=False,         \n",
    "    labelbottom=False,\n",
    "    labelleft=False)\n",
    "\n",
    "fig.tight_layout()"
   ]
  }
 ],
 "metadata": {
  "language_info": {
   "name": "python"
  }
 },
 "nbformat": 4,
 "nbformat_minor": 2
}
