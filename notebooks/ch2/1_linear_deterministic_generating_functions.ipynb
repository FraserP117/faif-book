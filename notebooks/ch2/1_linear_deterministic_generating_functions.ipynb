{
 "cells": [
  {
   "cell_type": "markdown",
   "metadata": {},
   "source": [
    "# Linear deterministic generating functions\n",
    "\n",
    "Perception in a passive agent using linear deterministic generating functions.\n",
    "\n",
    "==========================================================================\n",
    "\n",
    "* **Notebook dependencies**:\n",
    "    * ...\n",
    "\n",
    "* **Content**: Jupyter notebook accompanying Chapter 2 of the textbook \"Fundamentals of Active Inference\"\n",
    "\n",
    "* **Author**: Sanjeev Namjoshi (sanjeev.namjoshi@gmail.com)\n",
    "\n",
    "* **Version**: 0.1"
   ]
  },
  {
   "cell_type": "code",
   "execution_count": 1,
   "metadata": {},
   "outputs": [
    {
     "name": "stdout",
     "output_type": "stream",
     "text": [
      "['Solarize_Light2', '_classic_test_patch', '_mpl-gallery', '_mpl-gallery-nogrid', 'bmh', 'classic', 'dark_background', 'fast', 'fivethirtyeight', 'ggplot', 'grayscale', 'seaborn', 'seaborn-bright', 'seaborn-colorblind', 'seaborn-dark', 'seaborn-dark-palette', 'seaborn-darkgrid', 'seaborn-deep', 'seaborn-muted', 'seaborn-notebook', 'seaborn-paper', 'seaborn-pastel', 'seaborn-poster', 'seaborn-talk', 'seaborn-ticks', 'seaborn-white', 'seaborn-whitegrid', 'tableau-colorblind10']\n"
     ]
    }
   ],
   "source": [
    "import matplotlib.pyplot as plt\n",
    "print(plt.style.available)"
   ]
  },
  {
   "cell_type": "code",
   "execution_count": 4,
   "metadata": {},
   "outputs": [],
   "source": [
    "import matplotlib.pyplot as plt\n",
    "import matplotlib as mpl\n",
    "import numpy as np\n",
    "\n",
    "from scipy.stats import norm, uniform\n",
    "from types import SimpleNamespace\n",
    "\n",
    "mpl.style.use(\"seaborn-deep\")\n",
    "# mpl.style.use(\"seaborn-v0_8-deep\")"
   ]
  },
  {
   "cell_type": "markdown",
   "metadata": {},
   "source": [
    "In Chapter 2 we explore a number of different experiments to illustrate the process of hidden state estimation. We explore two variants in this section of Chapter 2:\n",
    "* Linear and deterministic\n",
    "* Linear and probabilistic\n",
    "\n",
    "The modeling framework introduced in Chapter 2 consists of the following steps:\n",
    "\n",
    "1. Define the experimental setting (states and observations)\n",
    "2. Define the generative process (*environment*)\n",
    "3. Define the generative model (*agent*)\n",
    "4. Run the simulation and iterate the following steps:\n",
    "   1. Infer hidden states (*perception*)\n",
    "   2. Control the generative process (*planning, decision-making, action*)\n",
    "   3. Update model parameters (*learning*)\n",
    "\n",
    "We assume in this simple scenario that the \"control the generative process\" and \"update model parameters\" step do not apply. Therefore, what we will create is a passive agent that can only perform perception. "
   ]
  },
  {
   "cell_type": "markdown",
   "metadata": {},
   "source": [
    "## Setting up the simulation"
   ]
  },
  {
   "cell_type": "markdown",
   "metadata": {},
   "source": [
    "Step 1: **Define the experimental setting (states and observations)**.\n",
    "\n",
    "We will rely on the following variables:\n",
    "* $x$: The true **hidden state** of the generative process.\n",
    "* $y$: The *outcome* of a generative process, known as the **observation** for a generative model. This is the data the agent receives.\n",
    "\n",
    "In this scenario the states of the generative process ($x$) denote the size of a food source and the outcomes ($y$) are different levels of light intensity emitted from the food as a function of size. Using these observations, the agent needs to infer (*perceive*) the hidden state of the generative process that generated the data it is receiving. "
   ]
  },
  {
   "cell_type": "markdown",
   "metadata": {},
   "source": [
    "Step 2: **Define the generative process**.\n",
    "\n",
    "$$\n",
    "    \\mathscr{E} \\triangleq\n",
    "    \\begin{cases}\n",
    "        y = g_{\\mathscr{E}}(x^*; \\theta^*) & \\text{Outcome generation} \\\\\n",
    "        g_{\\mathscr{E}}(x^*; \\theta^*) = \\beta_0^* + \\beta_1^* x^* & \\text{Generating function} \\\\\n",
    "        \\theta^* = \\left \\{\\beta_0^*, \\beta_1^* \\right \\} & \\text{Parameters}\n",
    "    \\end{cases}\n",
    "$$\n",
    "\n",
    "<span style=\"color:red\">This is equation $2.3$.</span>\n",
    "\n",
    "Here $g_{\\mathscr{E}}(x^*; \\theta^*)$ is a linear function representing sensory data $y$ generated while in a particular external state $x^*$. This function takes two parameters, defined in the set $\\theta^*$ which are set at $\\beta^*_0 = 3$ and $\\beta^*_1=2$ in this example. Note that this generative process has no noise. Our aim is to express this environment in terms code. \n",
    "\n",
    "Although it is convenient to collect the parameters into a set $\\theta^*$ in the math notation we will simply pass in the individual parameters $\\beta^*_0$ and $\\beta^*_1$ into the function for cleaner code."
   ]
  },
  {
   "cell_type": "code",
   "execution_count": 5,
   "metadata": {},
   "outputs": [],
   "source": [
    "def ge(x_star: float, beta_star_0: float, beta_star_1: float) -> float:\n",
    "    y = beta_star_1 * x_star + beta_star_0\n",
    "    return y"
   ]
  },
  {
   "cell_type": "markdown",
   "metadata": {},
   "source": [
    "Next, let's visualize this function for a range of $x^*$ states (food size) and resulting $y$ observations (light intensity)."
   ]
  },
  {
   "cell_type": "code",
   "execution_count": 6,
   "metadata": {},
   "outputs": [
    {
     "data": {
      "text/plain": [
       "<Figure size 640x480 with 0 Axes>"
      ]
     },
     "metadata": {},
     "output_type": "display_data"
    },
    {
     "data": {
      "image/png": "[encoded data removed]",
      "text/plain": [
       "<Figure size 640x480 with 1 Axes>"
      ]
     },
     "metadata": {},
     "output_type": "display_data"
    }
   ],
   "source": [
    "# Get y values across the range of x\n",
    "x_range = np.linspace(start=0.01, stop=5, num=500)\n",
    "y_i = ge(x_range, beta_star_0=3, beta_star_1=2)\n",
    "\n",
    "# Plot\n",
    "plt.style.use(\"seaborn-whitegrid\")\n",
    "fig = plt.figure()\n",
    "fig, ax = plt.subplots(1, 1, facecolor=(1,1,1))\n",
    "\n",
    "# Plot linear generating function on canvas\n",
    "ax.plot(x_range, y_i, c=\"#b22222\", linewidth=3)\n",
    "\n",
    "ax.set_xlabel(\"Food size\", fontsize=18)\n",
    "ax.set_ylabel(\"Light intensity\", fontsize=18)\n",
    "\n",
    "# Axis labels and styling\n",
    "ax.axes.grid(which=\"major\", axis=\"both\", c=\"#f2f2f2\")\n",
    "plt.setp(ax.spines.values(), color=\"black\", linewidth=0.5)\n",
    "ax.tick_params(\n",
    "    labelsize=14,\n",
    "    axis='both',          \n",
    "    which='major',      \n",
    "    bottom=True,\n",
    "    left=True,\n",
    "    color=\"black\",\n",
    "    width=0.5,\n",
    "    length=3)"
   ]
  },
  {
   "cell_type": "markdown",
   "metadata": {},
   "source": [
    "Although the `ge()` function alone is sufficient to describe the generative process, it will be instructive to put it into a `StaticEnvironment` class. Doing so will reinforce the notion of the separation between the agent and environment and enable us to see how they interact. "
   ]
  },
  {
   "cell_type": "code",
   "execution_count": 7,
   "metadata": {},
   "outputs": [],
   "source": [
    "class StaticEnvironment:\n",
    "    def __init__(self, params: dict) -> None:\n",
    "        self.params = SimpleNamespace(**params)\n",
    "    \n",
    "    def _ge(self, x_star: float) -> float:\n",
    "        return self.params.beta_1_star * x_star + self.params.beta_0_star\n",
    "    \n",
    "    def generate(self, x_star: float) -> float:\n",
    "        return self._ge(x_star)"
   ]
  },
  {
   "cell_type": "markdown",
   "metadata": {},
   "source": [
    "To generate observations with this environment, we first need to specify the model parameters upon initializing the `StaticEnvironment` class. Then we can run the `generate()` function to generate an observation. In this example we will assume that $x^*=2$."
   ]
  },
  {
   "cell_type": "code",
   "execution_count": 8,
   "metadata": {},
   "outputs": [
    {
     "name": "stdout",
     "output_type": "stream",
     "text": [
      "When the external state is 2, the sensory data generated will be 7.\n"
     ]
    }
   ],
   "source": [
    "# Environment parameters\n",
    "env_params = {\n",
    "    \"beta_0_star\" : 3,    # Linear parameter intercept\n",
    "    \"beta_1_star\" : 2,    # Linear parameter slope\n",
    "}\n",
    "\n",
    "# Initialize the environment\n",
    "env       = StaticEnvironment(env_params)\n",
    "\n",
    "# Set true state and generate sensory data\n",
    "x_star    = 2\n",
    "y         = env.generate(x_star)\n",
    "\n",
    "print(f\"When the external state is 2, the sensory data generated will be {y}.\")"
   ]
  },
  {
   "cell_type": "markdown",
   "metadata": {},
   "source": [
    "## Example 2.1: A linear, deterministic generative model"
   ]
  },
  {
   "cell_type": "markdown",
   "metadata": {},
   "source": [
    "Step 3: **Define the generative model**. The model, $\\mathcal{M}$ is represented as follows:\n",
    "\n",
    "$$\n",
    "    \\mathcal{M} \\triangleq\n",
    "    \\begin{cases}\n",
    "        p_{\\mu_y, \\sigma^2_y}(y \\mid x) = \\mathcal{N}(y; g_{\\mathcal{M}}, \\sigma^2_y) \\approx \\delta(x - g_{\\mathcal{M}}(x; \\theta))& \\text{Likelihood} \\\\\n",
    "        p_{a_x, b_x}(x) = \\mathcal{U}(x; a_x, b_x) & \\text{State prior} \\\\\n",
    "        g_{\\mathcal{M}}(x; \\theta) = \\beta_0 + \\beta_1 x & \\text{Generating function} \\\\\n",
    "        \\theta := \\left \\{\\beta_0 = 3, \\beta_1 = 2 \\right \\} & \\text{Linear parameters} \\\\\n",
    "        \\phi := \\left \\{\\sigma^2_y \\rightarrow 0, a_x = 0, b_x = 5 \\right \\} & \\text{Other parameters} \n",
    "    \\end{cases}\n",
    "$$\n",
    "\n",
    "<span style=\"color:red\">This is equation 2.11 from the text.</span>\n",
    "\n",
    "As a reminder, in this demonstration we have assumed that learning has already occurred so the parameters will be set in advance, as seen in the entry for $\\text{linear parameters}$ and $\\text{Other parameters}$ above. Therefore, we are skipping Step 4.3: **Learn model parameters** for this chapter (as well as skipping Step 4.2). \n",
    "\n",
    "We will choose a likelihood that has zero variance for this demonstration so that it is deterministic (i.e. not probabilistic). Without uncertainty, the distribution's density reduces to a point, which we can describe with a Dirac $\\delta$ function. We can approximate this in our example by simply making the variance of the likelihood tiny. The prior distribution will be **improper** but will not have an effect on the inference process. \n",
    "\n",
    "Now we attempt to replicate the generative model in code. To do so, we need to define the likelihood ($p(y \\mid x)$) and prior ($p(x)$) as indicated by the math notation. Although we could define the sets for the linear and other parameters, we will omit them from the code for simplicity.\n",
    "\n",
    "In this case we will assume that the agent's generating function is isomorphic to the generative process. In other words, $g_{\\mathcal{M}} = g_{\\mathscr{E}}$. This function essentially captures the agent's expectation of what sensory data would result from a particular hidden state $x$.\n",
    "\n",
    "Remember that the likelihood function starts with the conditional distribution $p(y \\mid x)$ and then we hold $y$ fixed (passing in the observation) and vary $x$ across its range. We are not just interested in the likelihood over a single value of $x$ but of *all* values of $x$ in the simulation as specified by `x_range` for the given $y$ observation. For the prior, we are specifying a flat prior probability over the entire `x_range`. Finally, the generative model is the product of the likelihood and prior:\n",
    "\n",
    "$$\n",
    "p(x, y) = p(y \\mid x) p(x)\n",
    "$$"
   ]
  },
  {
   "cell_type": "markdown",
   "metadata": {},
   "source": [
    "The Linear Generating Function: $g_{\\mathcal{M}}(x; \\theta) = \\beta_0 + \\beta_1 x$"
   ]
  },
  {
   "cell_type": "code",
   "execution_count": 10,
   "metadata": {},
   "outputs": [],
   "source": [
    "# the generative model's specific, linear generating function. This is g_M. \n",
    "def gm(x: float, beta_0: float, beta_1: float) -> float:\n",
    "    return beta_1 * x + beta_0"
   ]
  },
  {
   "cell_type": "markdown",
   "metadata": {},
   "source": [
    "The Generative Model: $p(x, y) = p(y \\mid x) p(x)$"
   ]
  },
  {
   "cell_type": "code",
   "execution_count": 11,
   "metadata": {},
   "outputs": [],
   "source": [
    "# the generative model itself is the product of the likelihood and prior distributions\n",
    "def generative_model(x_range: np.ndarray, y: float, beta_0: float, beta_1: float, std_y : float, ax: float, bx: float) -> np.ndarray:\n",
    "    likelihood = norm.pdf(y, loc=gm(x_range, beta_0, beta_1), scale=std_y)\n",
    "    prior      = uniform.pdf(x_range, loc=ax, scale=bx-ax)\n",
    "    return likelihood * prior"
   ]
  },
  {
   "cell_type": "markdown",
   "metadata": {},
   "source": [
    "With these functions in hand, we can determine our generative model given an observation $y$ over the range of $x$. First, we use the environment to generate an observation and then pass this to the generative model. Here we specify the likelihood standard deviation to be tiny in order to approximate a Dirac $\\delta$ function. Additionally, the uniform prior is defined over the range of $x$ (0.01 to 5)."
   ]
  },
  {
   "cell_type": "code",
   "execution_count": 12,
   "metadata": {},
   "outputs": [],
   "source": [
    "# Environment parameters\n",
    "env_params = {\n",
    "    \"beta_0_star\" : 3,    # Linear parameter intercept\n",
    "    \"beta_1_star\" : 2,    # Linear parameter slope\n",
    "}\n",
    "\n",
    "# Initialize the environment\n",
    "env       = StaticEnvironment(env_params)\n",
    "\n",
    "# Set true state and generate sensory data\n",
    "x_star    = 3.5\n",
    "y         = env.generate(x_star)\n",
    "\n",
    "# Define the generative model -> p(x, y)  = p(y | x)p(x)\n",
    "gen_model = generative_model(\n",
    "    x_range = x_range, y = y,\n",
    "    beta_0 = 3, beta_1 = 2,\n",
    "    std_y = float(1./100), ax = 0.01, bx = 5.0\n",
    ")"
   ]
  },
  {
   "cell_type": "markdown",
   "metadata": {},
   "source": [
    "Step 5: **Infer hidden states**\n",
    "\n",
    "With the generative model in hand we are ready to invert it using Bayes' theorem:\n",
    "\n",
    "$$\n",
    "p(x \\mid y) = \\frac{p(x,y)}{p(y)} = \\frac{p(y \\mid x)p(x)}{\\int p(y \\mid x)p(x) dx}\n",
    "$$\n",
    "\n",
    "We already have the generative model $p(x,y)$. The evidence term $p(y)$ is calculated by integrating the generative model over the states. Since we are using grid approximation in this example and approximating continuous probability distributions as discrete samples this integral will become a sum. "
   ]
  },
  {
   "cell_type": "code",
   "execution_count": 13,
   "metadata": {},
   "outputs": [],
   "source": [
    "# p(y) = integral_x of p(x, y); approximated in our grid with a sum\n",
    "evidence = np.sum(gen_model, axis=0)  \n",
    "\n",
    "# p(x | y) = p(x, y) / p(y)\n",
    "posterior = gen_model / evidence"
   ]
  },
  {
   "cell_type": "markdown",
   "metadata": {},
   "source": [
    "To reinforce the nature of the agent-environment interaction we will put the generative model into its own class. Continuing forward we will use this class construction instead of the free functions."
   ]
  },
  {
   "cell_type": "code",
   "execution_count": 14,
   "metadata": {},
   "outputs": [],
   "source": [
    "class StaticAgent:\n",
    "    def __init__(self, params: dict) -> None:\n",
    "        self.params = SimpleNamespace(**params)\n",
    "        \n",
    "        self.likelihood = None\n",
    "        self.prior = None\n",
    "        \n",
    "    def gm(self):\n",
    "        return self.params.beta_1 * self.params.x_range + self.params.beta_0\n",
    "        \n",
    "    def generative_model(self, y: float):\n",
    "        self.likelihood = norm.pdf(y, loc=self.gm(), scale=self.params.std_y)\n",
    "        self.prior      = uniform.pdf(self.params.x_range, loc=self.params.ax, scale=self.params.bx-self.params.ax)\n",
    "        return self.likelihood * self.prior\n",
    "        \n",
    "    def infer_state(self, y: float):\n",
    "        gen_model = self.generative_model(y)\n",
    "        evidence  = np.sum(gen_model, axis=0)\n",
    "        posterior = gen_model / evidence\n",
    "        return posterior"
   ]
  },
  {
   "cell_type": "markdown",
   "metadata": {},
   "source": [
    "Now we put it all together and plot the results. <span style=\"color:red\">The resulting plot will generate Figure 2.7.</span>"
   ]
  },
  {
   "cell_type": "code",
   "execution_count": 15,
   "metadata": {},
   "outputs": [],
   "source": [
    "# Environment parameters\n",
    "env_params = {\n",
    "    \"beta_0_star\" : 3,    # Linear parameter intercept\n",
    "    \"beta_1_star\" : 2,    # Linear parameter slope\n",
    "}\n",
    "\n",
    "# Agent parameters\n",
    "agent_params = {\n",
    "    \"beta_0\" : 3,              # Linear parameter intercept\n",
    "    \"beta_1\" : 2,              # Linear parameter slope\n",
    "    \"std_y\"  : float(1./100),  # Likelihood standard deviation\n",
    "    \"ax\"     : 0.01,           # Prior uniform lower bound\n",
    "    \"bx\"     : 5.0,            # Prior uniform upper bound\n",
    "    \"x_range\": np.linspace(start=0.01, stop=5, num=500)\n",
    "}"
   ]
  },
  {
   "cell_type": "code",
   "execution_count": 16,
   "metadata": {},
   "outputs": [],
   "source": [
    "# Initialize environment and agent\n",
    "env       = StaticEnvironment(env_params)\n",
    "agent     = StaticAgent(agent_params)\n",
    "\n",
    "# Set true state and generate sensory data\n",
    "x_star    = 3.5\n",
    "y         = env.generate(x_star)\n",
    "\n",
    "# Perception: Agent infers belief over hidden state using sensory data\n",
    "posterior = agent.infer_state(y)"
   ]
  },
  {
   "cell_type": "code",
   "execution_count": 19,
   "metadata": {},
   "outputs": [
    {
     "data": {
      "text/plain": [
       "<Figure size 640x480 with 0 Axes>"
      ]
     },
     "metadata": {},
     "output_type": "display_data"
    },
    {
     "data": {
      "image/png": "[encoded data removed]",
      "text/plain": [
       "<Figure size 800x300 with 3 Axes>"
      ]
     },
     "metadata": {},
     "output_type": "display_data"
    }
   ],
   "source": [
    "plt.style.use(\"seaborn-whitegrid\")\n",
    "fig = plt.figure()\n",
    "fig, axes = plt.subplots(1,3, facecolor=(1,1,1), figsize=(8,3))\n",
    "\n",
    "# Get likelihood and prior from agent\n",
    "likelihood = agent.likelihood\n",
    "prior = agent.prior\n",
    "\n",
    "# Main plot\n",
    "axes[0].plot(x_range.tolist(), prior, c=\"#1874cd\")        # Prior\n",
    "axes[1].plot(x_range.tolist(), likelihood, c=\"#cd2626\")   # Likelihood\n",
    "axes[2].plot(x_range.tolist(), posterior, c=\"#4eee94\")    # Posterior\n",
    "\n",
    "# Titles\n",
    "axes[0].set_title(\"Prior\")\n",
    "axes[1].set_title(\"Likelihood\")\n",
    "axes[2].set_title(\"Posterior\")\n",
    "\n",
    "# Axis global labels\n",
    "fig.supxlabel(\"Food size\", fontsize=16)\n",
    "fig.supylabel(\"Probability\", fontsize=16)\n",
    "\n",
    "# Cosmetic changes and axes ranges\n",
    "for ax in axes:\n",
    "    ax.xaxis.set_ticks(np.arange(0, 6, 1))\n",
    "    ax.axes.grid(which=\"major\", axis=\"both\", c=\"#f2f2f2\")\n",
    "    plt.setp(ax.spines.values(), color=\"black\", linewidth=0.5)\n",
    "    ax.tick_params(\n",
    "        axis='both',          \n",
    "        which='major',      \n",
    "        bottom=True,\n",
    "        left=True,\n",
    "        color=\"black\",\n",
    "        width=0.5,\n",
    "        length=3)\n",
    "    \n",
    "fig.tight_layout()\n",
    "\n",
    "# TO DO: Add Density, Credibility and Density y_tick labels to each respective graph.\n"
   ]
  },
  {
   "cell_type": "markdown",
   "metadata": {},
   "source": [
    "To recap, we have just done Bayesian inference in the case where everything is deterministic and we have no prior assumptions (uniform prior).\n",
    "\n",
    "We can see that the likelihood gives us a \"*credibility*\" (i.e. not a probability) about the probability of generating the data we observed over the range of $x$. To get the *probability* of observing that data we need to normalize the likelihood after multiplying by the prior.\n",
    "\n",
    "Now to see how good our estimate is, let's first calculate the posterior mode which corresponds to the most likely value of $x$ given the observed data. We can achieve this using the `argmax()` function on the posterior which will return the value of $x$ (food size) which has the maximum probability in the posterior.\n",
    "\n",
    "**Note**: When calculating `argmax()` it's in terms of the scale of the grid which ranges from 0.01-500. But we want food size in terms of 0-5 so the adjustment of adding one and dividng by 100 is necessary to get the scales to line up."
   ]
  },
  {
   "cell_type": "code",
   "execution_count": 20,
   "metadata": {},
   "outputs": [
    {
     "name": "stdout",
     "output_type": "stream",
     "text": [
      "The posterior mode is 3.5. This is the food size when the observed light intensity is 10.\n"
     ]
    }
   ],
   "source": [
    "\n",
    "mode = (np.argmax(posterior) + 1) / 100\n",
    "print(f'The posterior mode is {mode}. This is the food size when the observed light intensity is 10.')"
   ]
  },
  {
   "cell_type": "markdown",
   "metadata": {},
   "source": [
    "In this deterministic case, we could have obtained this answer a different way. If we invert the generating function $y = 2x+3$ we obtain $x = \\frac{y-3}{2}$. Plugging $10$ into this equation we see that $x=3.5$. Thus, the purpose of this degenerative example is to illustrate that the essence of Bayes' theorem is to invert the generating function taking into account prior assumptions. In this case of no prior assumptions and no uncertainty, the relationship is deterministic and exact.\n",
    "\n",
    "When probability is added into our generative model, as in the next example, we can think of Bayesian inference as inverting our generating function under conditions of uncertainty."
   ]
  }
 ],
 "metadata": {
  "kernelspec": {
   "display_name": "Python 3 (ipykernel)",
   "language": "python",
   "name": "python3"
  },
  "language_info": {
   "codemirror_mode": {
    "name": "ipython",
    "version": 3
   },
   "file_extension": ".py",
   "mimetype": "text/x-python",
   "name": "python",
   "nbconvert_exporter": "python",
   "pygments_lexer": "ipython3",
   "version": "3.10.12"
  }
 },
 "nbformat": 4,
 "nbformat_minor": 4
}
