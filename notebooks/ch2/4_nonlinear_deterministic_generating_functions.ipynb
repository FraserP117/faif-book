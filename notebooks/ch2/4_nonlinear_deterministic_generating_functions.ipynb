{
 "cells": [
  {
   "cell_type": "markdown",
   "metadata": {},
   "source": [
    "# Nonlinear deterministic generating functions\n",
    "\n",
    "Perception in a passive agent using linear deterministic generating functions.\n",
    "\n",
    "==========================================================================\n",
    "\n",
    "* **Notebook dependencies**:\n",
    "    * ...\n",
    "\n",
    "* **Content**: Jupyter notebook accompanying Chapter 2 of the textbook \"Fundamentals of Active Inference\"\n",
    "\n",
    "* **Author**: Sanjeev Namjoshi (sanjeev.namjoshi@gmail.com)\n",
    "\n",
    "* **Version**: 0.1"
   ]
  },
  {
   "cell_type": "code",
   "execution_count": 1,
   "metadata": {},
   "outputs": [],
   "source": [
    "import matplotlib.pyplot as plt\n",
    "import matplotlib as mpl\n",
    "import numpy as np\n",
    "\n",
    "from scipy.stats import norm, uniform\n",
    "from types import SimpleNamespace\n",
    "\n",
    "mpl.style.use(\"seaborn-deep\")"
   ]
  },
  {
   "cell_type": "markdown",
   "metadata": {},
   "source": [
    "In this example we examine the difficulties with inverting a model with a nonlinear generating function. We will begin with a deterministic nonlinear generating function first because it clearly illustrates the main concepts. The next notebook will go a step further to examine the same scenario for a probabilistic nonlinear generating function. We will use the same assumptions as the previous examples:\n",
    "* $x^*$: The true **external state** of the generative process.\n",
    "* $y$: The **outcome** of a generative process, known as the **observation** for a generative model. This is the data the agent receives.\n",
    "\n",
    "In this scenario the external states of the generative process ($x^*$) denote the size of a food source and the outcomes ($y$) are represents levels of light intensity emitted from the food as a function of size. Using these observations, the agent needs to infer (\"perceive\") the hidden state of the generative process that generated the data it is receiving. This is represented by the variable ($x$), the **hidden state** which captures the agent's belief about the food size that could have generated the observed sensory data.\n",
    "\n",
    "We will assume in this example that food size can be negative, even though this is impossible, to prove a teaching point below.\n",
    "\n",
    "We begin by defining the environment:\n",
    "$$\n",
    "    \\mathscr{E} \\triangleq  \n",
    "    \\begin{cases}\n",
    "        y = g_{\\mathscr{E}}(x^*; \\theta^*) + \\omega_y^*    & \\text{Outcome generation} \\\\\n",
    "        g_{\\mathscr{E}}(x^*; \\theta^*) = \\beta_0^* + \\beta_1^* \\psi(x^*) & \\text{Generating function} \\\\\n",
    "        \\psi(x^*) = {x^*}^2 & \\text{Nonlinear transform of } x^* \\\\\n",
    "        \\omega_y^* \\sim \\mathcal{N}(0, \\sigma^2=1) & \\text{Observation noise} \\\\\n",
    "        \\theta^* := \\left \\{\\beta_0^* = 3, \\beta_1^* = 2 \\right \\} & \\text{Observation parameters}\n",
    "    \\end{cases}\n",
    "$$\n",
    "\n",
    "And the corresponding generative model:\n",
    "$$\n",
    "    \\mathcal{M} \\triangleq  \n",
    "    \\begin{cases}\n",
    "        p_{\\mu_y, \\sigma^2_y}(y \\mid x) = \\mathcal{N}(y; g_{\\mathcal{M}}, \\sigma^2_y) \\approx \\delta(x)& \\text{Likelihood} \\\\\n",
    "        p_{a_x, b_x}(x) = \\mathcal{U}(x; a_x, b_x) & \\text{Prior on } x \\\\\n",
    "        g_{\\mathcal{M}}(x; \\theta) = \\beta_0 + \\beta_1 \\psi(x) & \\text{Generating function} \\\\\n",
    "        \\psi(x) = x^2 & \\text{Nonlinear transform of } x \\\\\n",
    "        \\theta := \\left \\{\\beta_0 = 3, \\beta_1 = 2 \\right \\} & \\text{Linear parameters} \\\\\n",
    "        \\phi := \\left \\{\\sigma^2_y \\rightarrow 0, a_x = 0, b_x = 5 \\right \\} & \\text{Other parameters} \n",
    "    \\end{cases}\n",
    "$$\n",
    "\n",
    "The generative function is deterministic because we have approximated the variance with a Dirac $\\delta$ function. This means $\\sigma^2_y \\rightarrow 0$. Additionally, the hidden state prior is a uniform distribution which means the agent has no prior assumptions about which hidden states are more likely than any other.\n",
    "\n",
    "You will also notice here that the generating functions consists of a nonlinear transformation of $x$ (that is still linear in the parameters). Instead of $y = \\beta_0 + \\beta_1 x$, we instead pass $x$ through a nonlinear transformation function $\\psi(x) = x^2$. Although $x$ is nonlinear, the relationship between the parameters is still linear which makes it a linear model. The agent's generating function is visualized below."
   ]
  },
  {
   "cell_type": "code",
   "execution_count": 2,
   "metadata": {},
   "outputs": [],
   "source": [
    "x_range = np.linspace(start=-2.5, stop=2.5, num=500)\n",
    "\n",
    "# Nonlinear transform of x\n",
    "def phi(x_star: float) -> float:\n",
    "    return x_star ** 2\n",
    "\n",
    "def generating_function(beta_0_star: float, beta_1_star: float, x_star: float) -> float:\n",
    "    return beta_1_star * phi(x_star) + beta_0_star"
   ]
  },
  {
   "cell_type": "code",
   "execution_count": 3,
   "metadata": {},
   "outputs": [
    {
     "data": {
      "text/plain": [
       "<Figure size 432x288 with 0 Axes>"
      ]
     },
     "metadata": {},
     "output_type": "display_data"
    },
    {
     "data": {
      "image/png": "[encoded data removed]",
      "text/plain": [
       "<Figure size 432x288 with 1 Axes>"
      ]
     },
     "metadata": {},
     "output_type": "display_data"
    }
   ],
   "source": [
    "plt.style.use(\"seaborn-whitegrid\")\n",
    "fig = plt.figure()\n",
    "fig, ax = plt.subplots(1, 1, facecolor=(1,1,1))\n",
    "\n",
    "y = generating_function(beta_0_star=3, beta_1_star=2, x_star=x_range)\n",
    "\n",
    "# Plot linear generating function on canvas\n",
    "ax.plot(x_range, y,\n",
    "        c=\"#b22222\",\n",
    "        linewidth=3)\n",
    "\n",
    "ax.set_xlabel(\"Food size\", fontsize=18)\n",
    "ax.set_ylabel(\"Light intensity\", fontsize=18)\n",
    "\n",
    "# Axis labels and styling\n",
    "ax.axes.grid(which=\"major\", axis=\"both\", c=\"#f2f2f2\")\n",
    "plt.setp(ax.spines.values(), color=\"black\", linewidth=0.5)\n",
    "ax.tick_params(\n",
    "    labelsize=14,\n",
    "    axis='both',          \n",
    "    which='major',      \n",
    "    bottom=True,\n",
    "    left=True,\n",
    "    color=\"black\",\n",
    "    width=0.5,\n",
    "    length=3)"
   ]
  },
  {
   "cell_type": "markdown",
   "metadata": {},
   "source": [
    "Now we can create an environment to generate data and an agent to receive this data and perform exact Bayesian inference. Assuming that $x^*=1$, an observation of $y=5$ is generated."
   ]
  },
  {
   "cell_type": "code",
   "execution_count": 4,
   "metadata": {},
   "outputs": [],
   "source": [
    "class StaticEnvironment:\n",
    "    def __init__(self, params: dict) -> None:\n",
    "        self.params = SimpleNamespace(**params)\n",
    "        \n",
    "    def noise(self):\n",
    "        return np.random.normal(loc=0, scale=self.params.y_star_std)\n",
    "    \n",
    "    def phi(self, x_star: float) -> float:\n",
    "        return x_star**2\n",
    "    \n",
    "    def generating_function(self, x_star: float) -> float:\n",
    "        return self.params.beta_1_star * phi(x_star) + self.params.beta_0_star\n",
    "    \n",
    "    def generate(self, x_star: float) -> float:\n",
    "        return self.generating_function(x_star) + self.noise()\n",
    "    \n",
    "# Environment parameters\n",
    "env_params = {\n",
    "    \"beta_0_star\" : 3,    # Linear parameter intercept\n",
    "    \"beta_1_star\" : 2,    # Linear parameter slope\n",
    "    \"y_star_std\"  : 1e-5  # Standard deviation of sensory data\n",
    "}\n",
    "\n",
    "# Initialize the environment and support of x\n",
    "env       = StaticEnvironment(env_params)\n",
    "x_star    = 1\n",
    "y         = env.generate(x_star=1)"
   ]
  },
  {
   "cell_type": "code",
   "execution_count": 5,
   "metadata": {},
   "outputs": [],
   "source": [
    "class StaticAgent:\n",
    "    def __init__(self, params: dict) -> None:\n",
    "        self.params = SimpleNamespace(**params)\n",
    "        \n",
    "        self.likelihood = None\n",
    "        self.prior = None\n",
    "        \n",
    "    def phi(self, x: float) -> float:\n",
    "        return x**2\n",
    "        \n",
    "    def generating_function(self):\n",
    "        return self.params.beta_1 * self.phi(self.params.x_range) + self.params.beta_0\n",
    "        \n",
    "    def generative_model(self, y: float):\n",
    "        self.likelihood = norm.pdf(y, loc=self.generating_function(), scale=self.params.std_y)\n",
    "        self.prior      = uniform.pdf(self.params.x_range, loc=self.params.ax, scale=self.params.bx-self.params.ax)\n",
    "        \n",
    "        return self.likelihood * self.prior\n",
    "        \n",
    "    def infer_state(self, y: float):\n",
    "        gen_model = self.generative_model(y)\n",
    "        evidence  = np.sum(gen_model, axis=0)\n",
    "        posterior = gen_model / evidence\n",
    "        return posterior"
   ]
  },
  {
   "cell_type": "code",
   "execution_count": 6,
   "metadata": {},
   "outputs": [],
   "source": [
    "# Environment parameters\n",
    "env_params = {\n",
    "    \"beta_0_star\" : 3,    # Linear parameter intercept\n",
    "    \"beta_1_star\" : 2,    # Linear parameter slope\n",
    "    \"y_star_std\"  : 1e-5  # Standard deviation of sensory data\n",
    "}\n",
    "\n",
    "# Agent parameters\n",
    "agent_params = {\n",
    "    \"beta_0\" : 3,              # Linear parameter intercept\n",
    "    \"beta_1\" : 2,              # Linear parameter slope\n",
    "    \"std_y\"  : float(1./100),  # Likelihood standard deviation\n",
    "    \"ax\"     : -2.5,           # Prior uniform lower bound\n",
    "    \"bx\"     : 2.5,            # Prior uniform upper bound\n",
    "    \"x_range\": np.linspace(start=-2.5, stop=2.5, num=500)\n",
    "}"
   ]
  },
  {
   "cell_type": "code",
   "execution_count": 7,
   "metadata": {},
   "outputs": [],
   "source": [
    "# Initialize environment and agent\n",
    "env       = StaticEnvironment(env_params)\n",
    "agent     = StaticAgent(agent_params)\n",
    "\n",
    "# Set true state and generate sensory data\n",
    "x_star    = 1\n",
    "y         = env.generate(x_star)\n",
    "\n",
    "# Perception: Agent infers belief over hidden state using sensory data\n",
    "posterior = agent.infer_state(y)\n",
    "\n",
    "# Get likelihood and prior from agent\n",
    "likelihood = agent.likelihood\n",
    "prior = agent.prior"
   ]
  },
  {
   "cell_type": "code",
   "execution_count": 8,
   "metadata": {},
   "outputs": [
    {
     "data": {
      "text/plain": [
       "<Figure size 432x288 with 0 Axes>"
      ]
     },
     "metadata": {},
     "output_type": "display_data"
    },
    {
     "data": {
      "image/png": "[encoded data removed]",
      "text/plain": [
       "<Figure size 576x216 with 3 Axes>"
      ]
     },
     "metadata": {},
     "output_type": "display_data"
    }
   ],
   "source": [
    "plt.style.use(\"seaborn-whitegrid\")\n",
    "fig = plt.figure()\n",
    "fig, axes = plt.subplots(1,3, facecolor=(1,1,1), figsize=(8,3))\n",
    "\n",
    "# Main plot\n",
    "axes[0].plot(x_range.tolist(), prior, c=\"#1874cd\")        # Prior\n",
    "axes[1].plot(x_range.tolist(), likelihood, c=\"#cd2626\")   # Likelihood\n",
    "axes[2].plot(x_range.tolist(), posterior, c=\"#4eee94\")    # Posterior\n",
    "\n",
    "# Titles\n",
    "axes[0].set_title(\"Prior\")\n",
    "axes[1].set_title(\"Likelihood\")\n",
    "axes[2].set_title(\"Posterior\")\n",
    "\n",
    "# Axis global labels\n",
    "fig.supxlabel(\"Food size\", fontsize=16)\n",
    "fig.supylabel(\"Probability\", fontsize=16)\n",
    "\n",
    "# Cosmetic changes and axes ranges\n",
    "for ax in axes:\n",
    "    ax.set_xlim([-2, 2])\n",
    "    ax.axes.grid(which=\"major\", axis=\"both\", c=\"#f2f2f2\")\n",
    "    plt.setp(ax.spines.values(), color=\"black\", linewidth=0.5)\n",
    "    ax.tick_params(\n",
    "        axis='both',          \n",
    "        which='major',      \n",
    "        bottom=True,\n",
    "        left=True,\n",
    "        color=\"black\",\n",
    "        width=0.5,\n",
    "        length=3)\n",
    "    \n",
    "fig.tight_layout()"
   ]
  },
  {
   "cell_type": "markdown",
   "metadata": {},
   "source": [
    "Unfortunately, as we can see here, there are two possible answers due to the nature of this function. The function is *non-bijective* - there is a one-to-many mapping between observations and hidden states. That is, if $y=5$, then this value could be generated when $x=-1$ or $x=1$. Effectively we are saying that $y = 2x^2 + 3$ and trying to solve for $x$. \n",
    "\n",
    "Of course we could easily see this by inspecting the plot of the generating function above or by running the generating function for different values of $x$ and show that they produce the same output sensory data:"
   ]
  },
  {
   "cell_type": "code",
   "execution_count": 9,
   "metadata": {},
   "outputs": [
    {
     "name": "stdout",
     "output_type": "stream",
     "text": [
      "x_star = 1 results in y = 5\n",
      "x_star = -1 results in y = 5\n"
     ]
    }
   ],
   "source": [
    "x_star = 1\n",
    "y = generating_function(beta_0_star=3, beta_1_star=2, x_star=x_star)\n",
    "print(f\"x_star = {x_star} results in y = {y}\")\n",
    "\n",
    "x_star = -1\n",
    "y = generating_function(beta_0_star=3, beta_1_star=2, x_star=x_star)\n",
    "print(f\"x_star = {x_star} results in y = {y}\")"
   ]
  },
  {
   "cell_type": "markdown",
   "metadata": {},
   "source": [
    "Without further information this problem the agent will not be able to properly invert this function since it has more than one solution. In Bayesian inference the constraint can be encoded in terms of the **prior**. If we encode the fact that negative food sizes have a zero probability then we will effectively constrain the inference process to the domain of $x \\geq 0$. Below we change the support of the uniform distribution to the range $0.01 \\leq x \\lt 500$ by modifying the upper and lower bounds of the distribution."
   ]
  },
  {
   "cell_type": "code",
   "execution_count": 10,
   "metadata": {},
   "outputs": [],
   "source": [
    "# Agent parameters\n",
    "agent_params = {\n",
    "    \"beta_0\" : 3,              # Linear parameter intercept\n",
    "    \"beta_1\" : 2,              # Linear parameter slope\n",
    "    \"std_y\"  : float(1./100),  # Likelihood standard deviation\n",
    "    \"ax\"     : 0.01,           # Prior uniform lower bound\n",
    "    \"bx\"     : 500,            # Prior uniform upper bound\n",
    "    \"x_range\": np.linspace(start=-2.5, stop=2.5, num=500)\n",
    "}"
   ]
  },
  {
   "cell_type": "markdown",
   "metadata": {},
   "source": [
    "Running the agent and environment again we can see the following:"
   ]
  },
  {
   "cell_type": "code",
   "execution_count": 11,
   "metadata": {},
   "outputs": [],
   "source": [
    "# Initialize environment and agent\n",
    "env       = StaticEnvironment(env_params)\n",
    "agent     = StaticAgent(agent_params)\n",
    "\n",
    "# Set true state and generate sensory data\n",
    "x_star    = 1\n",
    "y         = env.generate(x_star)\n",
    "\n",
    "# Perception: Agent infers belief over hidden state using sensory data\n",
    "posterior = agent.infer_state(y)\n",
    "\n",
    "# Get likelihood and prior from agent\n",
    "likelihood = agent.likelihood\n",
    "prior = agent.prior"
   ]
  },
  {
   "cell_type": "code",
   "execution_count": 12,
   "metadata": {},
   "outputs": [
    {
     "data": {
      "text/plain": [
       "<Figure size 432x288 with 0 Axes>"
      ]
     },
     "metadata": {},
     "output_type": "display_data"
    },
    {
     "data": {
      "image/png": "[encoded data removed]",
      "text/plain": [
       "<Figure size 576x216 with 3 Axes>"
      ]
     },
     "metadata": {},
     "output_type": "display_data"
    }
   ],
   "source": [
    "plt.style.use(\"seaborn-whitegrid\")\n",
    "fig = plt.figure()\n",
    "fig, axes = plt.subplots(1,3, facecolor=(1,1,1), figsize=(8,3))\n",
    "\n",
    "# Main plot\n",
    "axes[0].plot(x_range.tolist(), prior, c=\"#1874cd\")        # Prior\n",
    "axes[1].plot(x_range.tolist(), likelihood, c=\"#cd2626\")   # Likelihood\n",
    "axes[2].plot(x_range.tolist(), posterior, c=\"#4eee94\")    # Posterior\n",
    "\n",
    "# Titles\n",
    "axes[0].set_title(\"Prior\")\n",
    "axes[1].set_title(\"Likelihood\")\n",
    "axes[2].set_title(\"Posterior\")\n",
    "\n",
    "# Axis global labels\n",
    "fig.supxlabel(\"Food size\", fontsize=16)\n",
    "fig.supylabel(\"Probability\", fontsize=16)\n",
    "\n",
    "# Cosmetic changes and axes ranges\n",
    "for ax in axes:\n",
    "    ax.set_xlim([-2, 2])\n",
    "    ax.axes.grid(which=\"major\", axis=\"both\", c=\"#f2f2f2\")\n",
    "    plt.setp(ax.spines.values(), color=\"black\", linewidth=0.5)\n",
    "    ax.tick_params(\n",
    "        axis='both',          \n",
    "        which='major',      \n",
    "        bottom=True,\n",
    "        left=True,\n",
    "        color=\"black\",\n",
    "        width=0.5,\n",
    "        length=3)\n",
    "    \n",
    "fig.tight_layout()"
   ]
  },
  {
   "cell_type": "markdown",
   "metadata": {},
   "source": [
    "Since values of $x$ less than zero have a zero probability the posterior is constrained so that $x=1$ is the most probable food size to have generated the light intensity $y=5$."
   ]
  }
 ],
 "metadata": {
  "kernelspec": {
   "display_name": "base",
   "language": "python",
   "name": "python3"
  },
  "language_info": {
   "codemirror_mode": {
    "name": "ipython",
    "version": 3
   },
   "file_extension": ".py",
   "mimetype": "text/x-python",
   "name": "python",
   "nbconvert_exporter": "python",
   "pygments_lexer": "ipython3",
   "version": "3.9.7"
  }
 },
 "nbformat": 4,
 "nbformat_minor": 2
}
