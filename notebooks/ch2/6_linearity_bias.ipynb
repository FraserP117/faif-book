{
 "cells": [
  {
   "cell_type": "markdown",
   "metadata": {},
   "source": [
    "# Linearity bias\n",
    "\n",
    "Demonstration of what happens when the generative model and generative process are not isomorphic.\n",
    "\n",
    "==========================================================================\n",
    "\n",
    "* **Notebook dependencies**:\n",
    "    * ...\n",
    "\n",
    "* **Content**: Jupyter notebook accompanying Chapter 2 of the textbook \"Fundamentals of Active Inference\"\n",
    "\n",
    "* **Author**: Sanjeev Namjoshi (sanjeev.namjoshi@gmail.com)\n",
    "\n",
    "* **Version**: 0.1"
   ]
  },
  {
   "cell_type": "code",
   "execution_count": 1,
   "metadata": {},
   "outputs": [],
   "source": [
    "import matplotlib.pyplot as plt\n",
    "import matplotlib as mpl\n",
    "import numpy as np\n",
    "import os\n",
    "import sys\n",
    "\n",
    "module_path = os.path.abspath(os.path.join(os.pardir, os.pardir))\n",
    "if module_path not in sys.path:\n",
    "    sys.path.append(module_path)\n",
    "\n",
    "from src.utils import create_agent, create_environment\n",
    "\n",
    "mpl.style.use(\"seaborn-deep\")"
   ]
  },
  {
   "cell_type": "markdown",
   "metadata": {},
   "source": [
    "All the previous examples have assumed an exact isomorphism between the generative model and generative process. That is, the generative process and model were identical except for some small differences in the noise. In many real-world scenarios we may need to design agents for generative processes who structure we do not know in advance. Later in the book we explore **structure learning** which shows how to learn the actual structure of the generative process with the data alone. In this example we show a simple example that demonstrates that an agent can perform well with a generative model that does not fully capture the generative process provided that some specific conditions are met. The generative model and process are as follows:\n",
    "\n",
    "$$\n",
    "    \\mathscr{E} \\triangleq  \n",
    "    \\begin{cases}\n",
    "        y = g_{\\mathscr{E}}(x^*; \\theta^*) + \\omega_y^*    & \\text{Outcome generation} \\\\\n",
    "        g_{\\mathscr{E}}(x^*; \\theta^*) = \\beta_0^* + \\beta_1^* \\psi(x^*) & \\text{Generating function} \\\\\n",
    "        \\psi(x^*) = {x^*}^2 & \\text{Nonlinear transform of } x^* \\\\\n",
    "        \\omega_y^* \\sim \\mathcal{N}(0, \\sigma^2=1) & \\text{Observation noise} \\\\\n",
    "        \\theta^* := \\left \\{\\beta_0^* = 3, \\beta_1^* = 2 \\right \\} & \\text{Observation parameters}\n",
    "    \\end{cases}\n",
    "$$\n",
    "\n",
    "$$\n",
    "    \\mathcal{M} \\triangleq  \n",
    "    \\begin{cases}\n",
    "        p_{\\mu_y, \\sigma^2_y}(y \\mid x) = \\mathcal{N}(y; g_{\\mathcal{M}}, \\sigma^2_y) & \\text{Likelihood} \\\\\n",
    "        p_{a_x, b_x}(x) = \\mathcal{U}(x; a_x, b_x) & \\text{State prior}\\\\\n",
    "        g_{\\mathcal{M}}(x; \\theta) = \\beta_0 + \\beta_1 x & \\text{Generating function} \\\\\n",
    "        \\theta := \\left \\{\\beta_0 = 3, \\beta_1 = 2 \\right \\}  & \\text{Linear parameters} \\\\ \n",
    "        \\phi := \\left \\{\\sigma^2_y = 0.25, s^2_x = 0.25, m_x = 4 \\right \\} & \\text{Other parameters}\n",
    "    \\end{cases}\n",
    "$$\n",
    "\n",
    "This means the model *believes* that the generating process is linear when it is in fact nonlinear. We say this because our choice of likelihood within the generative model is an assumption we are making about the generating process. In this case it happens to be false."
   ]
  },
  {
   "cell_type": "code",
   "execution_count": 2,
   "metadata": {},
   "outputs": [],
   "source": [
    "# Environment parameters\n",
    "env_params = {\n",
    "    \"beta_0_star\" : 1,    # Linear parameter intercept\n",
    "    \"beta_1_star\" : 1,    # Linear parameter slope\n",
    "    \"y_star_std\"  : 0.5  # Standard deviation of sensory data\n",
    "}\n",
    "\n",
    "# Initialize environment and agent\n",
    "env = create_environment(name=\"static_nonlinear\", params=env_params)\n",
    "\n",
    "# Generate data for three different x_star values\n",
    "num_x_star = 3                                         # Number of external states\n",
    "x_range = np.linspace(start=0.01, stop=5, num=500)   # Range of x_star\n",
    "x_star  = np.array([2, 2.5, 3.5])                      # 3 different external states\n",
    "y       = np.zeros(num_x_star)                         # 3 corresponding observations\n",
    "\n",
    "# Generate\n",
    "for idx, x in enumerate(x_star):\n",
    "    y[idx] = env.generate(x)"
   ]
  },
  {
   "cell_type": "code",
   "execution_count": 3,
   "metadata": {},
   "outputs": [],
   "source": [
    "# Agent parameters\n",
    "agent_params = {\n",
    "    \"beta_0\" : 3,              # Linear parameter intercept\n",
    "    \"beta_1\" : 2,              # Linear parameter slope\n",
    "    \"std_y\"  : 0.5,  # Likelihood standard deviation\n",
    "    \"ax\"     : 0.01,           # Prior uniform lower bound\n",
    "    \"bx\"     : 5,            # Prior uniform upper bound\n",
    "    \"x_range\": np.linspace(start=0.01, stop=5, num=500)\n",
    "}\n",
    "\n",
    "agent = create_agent(name=\"exact_linear_flat_prior\", params=agent_params)\n",
    "\n",
    "# Initialize list to store posteriors\n",
    "posteriors = []\n",
    "\n",
    "# Perform inference for each observations\n",
    "for idx in range(num_x_star):\n",
    "    agent.infer_state(y[idx])\n",
    "    posteriors.append(agent.posterior)\n",
    "    "
   ]
  },
  {
   "cell_type": "code",
   "execution_count": 4,
   "metadata": {},
   "outputs": [
    {
     "data": {
      "text/plain": [
       "<Figure size 432x288 with 0 Axes>"
      ]
     },
     "metadata": {},
     "output_type": "display_data"
    },
    {
     "data": {
      "image/png": "[encoded data removed]",
      "text/plain": [
       "<Figure size 576x216 with 3 Axes>"
      ]
     },
     "metadata": {},
     "output_type": "display_data"
    }
   ],
   "source": [
    "plt.style.use(\"seaborn-whitegrid\")\n",
    "fig = plt.figure()\n",
    "fig, axes = plt.subplots(1,3, facecolor=(1,1,1), figsize=(8,3))\n",
    "\n",
    "# Main plot\n",
    "axes[0].plot(x_range, posteriors[0], c=\"#1874cd\")   # Posterior (x^*=2)\n",
    "axes[1].plot(x_range, posteriors[1], c=\"#cd2626\")   # Posterior (x^*=2.5)\n",
    "axes[2].plot(x_range, posteriors[2], c=\"#4eee94\")   # Posterior (x^*=3.5)\n",
    "\n",
    "# Posterior mode and posterior axis\n",
    "axes[0].axvline(x=x_star[0], linestyle=\"dashed\", linewidth=1)\n",
    "axes[1].axvline(x=x_star[1], linestyle=\"dashed\", linewidth=1)\n",
    "axes[2].axvline(x=x_star[2], linestyle=\"dashed\", linewidth=1)\n",
    "\n",
    "# Titles\n",
    "axes[0].set_title(f\"Posterior (x^* = {x_star[0]})\")\n",
    "axes[1].set_title(f\"Posterior (x^* = {x_star[1]})\")\n",
    "axes[2].set_title(f\"Posterior (x^* = {x_star[2]})\")\n",
    "\n",
    "# Axis global labels\n",
    "fig.supxlabel(\"Food size\", fontsize=16)\n",
    "fig.supylabel(\"Probability\", fontsize=16)\n",
    "\n",
    "# Cosmetic changes and axes ranges\n",
    "for ax in axes:\n",
    "    ax.xaxis.set_ticks(np.arange(0, 6, 1))\n",
    "    ax.axes.grid(which=\"major\", axis=\"both\", c=\"#f2f2f2\")\n",
    "    plt.setp(ax.spines.values(), color=\"black\", linewidth=0.5)\n",
    "    ax.tick_params(\n",
    "        axis='both',          \n",
    "        which='major',      \n",
    "        bottom=True,\n",
    "        left=True,\n",
    "        color=\"black\",\n",
    "        width=0.5,\n",
    "        length=3)\n",
    "    \n",
    "fig.tight_layout()"
   ]
  }
 ],
 "metadata": {
  "kernelspec": {
   "display_name": "base",
   "language": "python",
   "name": "python3"
  },
  "language_info": {
   "codemirror_mode": {
    "name": "ipython",
    "version": 3
   },
   "file_extension": ".py",
   "mimetype": "text/x-python",
   "name": "python",
   "nbconvert_exporter": "python",
   "pygments_lexer": "ipython3",
   "version": "3.9.7"
  }
 },
 "nbformat": 4,
 "nbformat_minor": 2
}
