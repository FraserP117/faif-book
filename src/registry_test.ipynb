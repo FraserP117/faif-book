{
 "cells": [
  {
   "cell_type": "code",
   "execution_count": 1,
   "metadata": {},
   "outputs": [],
   "source": [
    "# TODO: Different registry for different types of things... generators, steps, noise\n",
    "\n",
    "import numpy as np\n",
    "\n",
    "from enum import Enum\n",
    "from types import SimpleNamespace\n",
    "\n",
    "METHOD_REGISTRY = {}\n",
    "\n",
    "def register_method(method_name: str) -> callable:\n",
    "    # TODO: Error handling if method is already in the registry; prevent overwrite\n",
    "    # TOOD: Add to specific registry? Or just different decorators for each?\n",
    "    def decorator(method: callable) -> callable:\n",
    "        METHOD_REGISTRY[method_name] = method\n",
    "        return method\n",
    "    return decorator\n",
    "\n",
    "\n",
    "# def get_method(method_name: str):\n",
    "#     if not method_name in METHOD_REGISTRY:\n",
    "#         raise Exception(\n",
    "#             \"Method {method_name} not in METHOD_REGISTRY. Currently registered methods: {METHOD_REGISTRY}\")\n",
    "\n",
    "#     method = METHOD_REGISTRY[method_name]\n",
    "#     return method\n",
    "\n",
    "# MethodRegistry = enum.Enum('MethodRegistry', {'foo':42, 'bar':24})\n",
    "\n",
    "# NO_DATASET_ERR = \"Dataset {} not in DATASET_REGISTRY! Available datasets are {}\"\n",
    "# DATASET_REGISTRY = {}\n",
    "\n",
    "\n",
    "# def RegisterDataset(dataset_name):\n",
    "#     \"\"\"Registers a dataset.\"\"\"\n",
    "\n",
    "#     def decorator(f):\n",
    "#         DATASET_REGISTRY[dataset_name] = f\n",
    "#         return f\n",
    "\n",
    "#     return decorator\n",
    "\n",
    "\n",
    "# def get_dataset_class(args):\n",
    "#     if args.dataset not in DATASET_REGISTRY:\n",
    "#         raise Exception(\n",
    "#             NO_DATASET_ERR.format(args.dataset, DATASET_REGISTRY.keys()))\n",
    "\n",
    "#     return DATASET_REGISTRY[args.dataset]\n",
    "\n",
    "\n",
    "# def RegisterPool(pool_name):\n",
    "#     \"\"\"Registers a pool.\"\"\"\n",
    "\n",
    "#     def decorator(f):\n",
    "#         POOL_REGISTRY[pool_name] = f\n",
    "#         return f\n",
    "\n",
    "#     return decorator\n",
    "\n",
    "# def get_pool(pool_name):\n",
    "#     \"\"\"Get pool from POOL_REGISTRY based on pool_name.\"\"\"\n",
    "\n",
    "#     if not pool_name in POOL_REGISTRY:\n",
    "#         raise Exception(NO_POOL_ERR.format(\n",
    "#             pool_name, POOL_REGISTRY.keys()))\n",
    "\n",
    "#     pool = POOL_REGISTRY[pool_name]\n",
    "\n",
    "#     return pool"
   ]
  },
  {
   "cell_type": "code",
   "execution_count": 2,
   "metadata": {},
   "outputs": [],
   "source": [
    "class StaticEnvironment:\n",
    "    def __init__(self, params: dict) -> None:\n",
    "        self.params = SimpleNamespace(**params)\n",
    "        \n",
    "    def _noise(self):\n",
    "        return np.random.normal(loc=0, scale=self.params.y_star_std)\n",
    "    \n",
    "    def _ge(self, x_star: float) -> float:\n",
    "        return self.params.beta_1_star * x_star + self.params.beta_0_star\n",
    "    \n",
    "    def generate(self, x_star: float) -> float:\n",
    "        return self._ge(x_star) + self._noise()"
   ]
  },
  {
   "cell_type": "code",
   "execution_count": 3,
   "metadata": {},
   "outputs": [],
   "source": [
    "@register_method(\"noise__zero_centered\")\n",
    "def noise(self) -> float:\n",
    "        return np.random.normal(loc=0, scale=self.params.y_star_std)\n",
    "    \n",
    "@register_method(\"generating_function__linear\")\n",
    "def ge(self, x_star: float) -> float:\n",
    "    return self.params.beta_1_star * x_star + self.params.beta_0_star\n",
    "\n",
    "@register_method(\"data_generator__noisy\")\n",
    "def generate(self, x_star: float) -> float:\n",
    "    return self.ge(x_star) + self.noise()"
   ]
  },
  {
   "cell_type": "code",
   "execution_count": 4,
   "metadata": {},
   "outputs": [],
   "source": [
    "MethodRegistry = Enum(\"MethodRegistry\", METHOD_REGISTRY) "
   ]
  },
  {
   "cell_type": "code",
   "execution_count": 20,
   "metadata": {},
   "outputs": [],
   "source": [
    "class StaticEnvironment:\n",
    "    def __init__(self, params: dict) -> None:\n",
    "        self.params = SimpleNamespace(**params)\n",
    "\n",
    "env_params = {\n",
    "    \"beta_0_star\" : 3,    # Linear parameter intercept\n",
    "    \"beta_1_star\" : 2,    # Linear parameter slope\n",
    "    \"y_star_std\"  : 0.5   # Standard deviation of sensory data\n",
    "}\n",
    "\n",
    "\n",
    "StaticEnvironment.noise    = MethodRegistry.noise__zero_centered\n",
    "StaticEnvironment.ge       = MethodRegistry.generating_function__linear\n",
    "StaticEnvironment.generate = MethodRegistry.data_generator__noisy"
   ]
  },
  {
   "cell_type": "code",
   "execution_count": null,
   "metadata": {},
   "outputs": [],
   "source": [
    "# Initialize the environment and support of x\n",
    "env       = StaticEnvironment(env_params)\n",
    "x_range   = np.linspace(start=0.01, stop=5, num=500)\n",
    "\n",
    "# Generate data\n",
    "y = np.zeros(x_range.shape[0])\n",
    "\n",
    "for idx, x in enumerate(x_range):\n",
    "    y[idx] = env.generate(x_star=x)"
   ]
  },
  {
   "cell_type": "markdown",
   "metadata": {},
   "source": [
    "## Build method using string name"
   ]
  },
  {
   "cell_type": "code",
   "execution_count": 9,
   "metadata": {},
   "outputs": [],
   "source": [
    "def add_method(method_name: str):\n",
    "    # TODO: When there are multiple registries, loop through each registry and try to find it. \n",
    "    # TODO: Deal with error handling in case of multiple registries to check through\n",
    "    # TODO: Consider calling this \"add___\" where the blank is some noise, generating function, etc?\n",
    "    # if not method_name in METHOD_REGISTRY:\n",
    "    #     raise Exception(\n",
    "    #         \"Method {method_name} not in METHOD_REGISTRY. Currently registered methods: {METHOD_REGISTRY}\")\n",
    "\n",
    "    # method = METHOD_REGISTRY[method_name]\n",
    "    method = getattr(MethodRegistry, method_name)\n",
    "    return method"
   ]
  },
  {
   "cell_type": "code",
   "execution_count": 10,
   "metadata": {},
   "outputs": [],
   "source": [
    "class StaticEnvironment:\n",
    "    def __init__(self, params: dict) -> None:\n",
    "        self.params = SimpleNamespace(**params)\n",
    "\n",
    "env_params = {\n",
    "    \"beta_0_star\" : 3,    # Linear parameter intercept\n",
    "    \"beta_1_star\" : 2,    # Linear parameter slope\n",
    "    \"y_star_std\"  : 0.5   # Standard deviation of sensory data\n",
    "}\n",
    "\n",
    "StaticEnvironment.noise    = add_method(\"noise__zero_centered\")\n",
    "StaticEnvironment.ge       = add_method(\"generating_function__linear\")\n",
    "StaticEnvironment.generate = add_method(\"data_generator__noisy\")"
   ]
  },
  {
   "cell_type": "code",
   "execution_count": 11,
   "metadata": {},
   "outputs": [],
   "source": [
    "# Initialize the environment and support of x\n",
    "env       = StaticEnvironment(env_params)\n",
    "x_range   = np.linspace(start=0.01, stop=5, num=500)\n",
    "\n",
    "# Generate data\n",
    "y = np.zeros(x_range.shape[0])\n",
    "\n",
    "for idx, x in enumerate(x_range):\n",
    "    y[idx] = env.generate(x_star=x)"
   ]
  },
  {
   "cell_type": "markdown",
   "metadata": {},
   "source": [
    "## Scratch"
   ]
  },
  {
   "cell_type": "code",
   "execution_count": 6,
   "metadata": {},
   "outputs": [
    {
     "data": {
      "text/plain": [
       "<function __main__.noise(self) -> float>"
      ]
     },
     "execution_count": 6,
     "metadata": {},
     "output_type": "execute_result"
    }
   ],
   "source": [
    "getattr(MethodRegistry, 'noise__zero_centered')"
   ]
  },
  {
   "cell_type": "code",
   "execution_count": 25,
   "metadata": {},
   "outputs": [
    {
     "ename": "KeyError",
     "evalue": "'noise__zero_centered'",
     "output_type": "error",
     "traceback": [
      "\u001b[0;31m---------------------------------------------------------------------------\u001b[0m",
      "\u001b[0;31mKeyError\u001b[0m                                  Traceback (most recent call last)",
      "\u001b[0;32m/tmp/ipykernel_261663/1467841772.py\u001b[0m in \u001b[0;36m<module>\u001b[0;34m\u001b[0m\n\u001b[0;32m----> 1\u001b[0;31m \u001b[0mMethodRegistry\u001b[0m\u001b[0;34m[\u001b[0m\u001b[0;34m\"noise__zero_centered\"\u001b[0m\u001b[0;34m]\u001b[0m\u001b[0;34m.\u001b[0m\u001b[0mvalue\u001b[0m\u001b[0;34m\u001b[0m\u001b[0;34m\u001b[0m\u001b[0m\n\u001b[0m",
      "\u001b[0;32m~/anaconda3/envs/ds_env_1/lib/python3.9/enum.py\u001b[0m in \u001b[0;36m__getitem__\u001b[0;34m(cls, name)\u001b[0m\n\u001b[1;32m    430\u001b[0m \u001b[0;34m\u001b[0m\u001b[0m\n\u001b[1;32m    431\u001b[0m     \u001b[0;32mdef\u001b[0m \u001b[0m__getitem__\u001b[0m\u001b[0;34m(\u001b[0m\u001b[0mcls\u001b[0m\u001b[0;34m,\u001b[0m \u001b[0mname\u001b[0m\u001b[0;34m)\u001b[0m\u001b[0;34m:\u001b[0m\u001b[0;34m\u001b[0m\u001b[0;34m\u001b[0m\u001b[0m\n\u001b[0;32m--> 432\u001b[0;31m         \u001b[0;32mreturn\u001b[0m \u001b[0mcls\u001b[0m\u001b[0;34m.\u001b[0m\u001b[0m_member_map_\u001b[0m\u001b[0;34m[\u001b[0m\u001b[0mname\u001b[0m\u001b[0;34m]\u001b[0m\u001b[0;34m\u001b[0m\u001b[0;34m\u001b[0m\u001b[0m\n\u001b[0m\u001b[1;32m    433\u001b[0m \u001b[0;34m\u001b[0m\u001b[0m\n\u001b[1;32m    434\u001b[0m     \u001b[0;32mdef\u001b[0m \u001b[0m__iter__\u001b[0m\u001b[0;34m(\u001b[0m\u001b[0mcls\u001b[0m\u001b[0;34m)\u001b[0m\u001b[0;34m:\u001b[0m\u001b[0;34m\u001b[0m\u001b[0;34m\u001b[0m\u001b[0m\n",
      "\u001b[0;31mKeyError\u001b[0m: 'noise__zero_centered'"
     ]
    }
   ],
   "source": [
    "MethodRegistry[\"noise__zero_centered\"].value"
   ]
  },
  {
   "cell_type": "code",
   "execution_count": 28,
   "metadata": {},
   "outputs": [
    {
     "ename": "AttributeError",
     "evalue": "keys",
     "output_type": "error",
     "traceback": [
      "\u001b[0;31m---------------------------------------------------------------------------\u001b[0m",
      "\u001b[0;31mAttributeError\u001b[0m                            Traceback (most recent call last)",
      "\u001b[0;32m/tmp/ipykernel_261663/2819924729.py\u001b[0m in \u001b[0;36m<module>\u001b[0;34m\u001b[0m\n\u001b[0;32m----> 1\u001b[0;31m \u001b[0mMethodRegistry\u001b[0m\u001b[0;34m.\u001b[0m\u001b[0mkeys\u001b[0m\u001b[0;34m(\u001b[0m\u001b[0;34m)\u001b[0m\u001b[0;34m\u001b[0m\u001b[0;34m\u001b[0m\u001b[0m\n\u001b[0m",
      "\u001b[0;32m~/anaconda3/envs/ds_env_1/lib/python3.9/enum.py\u001b[0m in \u001b[0;36m__getattr__\u001b[0;34m(cls, name)\u001b[0m\n\u001b[1;32m    427\u001b[0m             \u001b[0;32mreturn\u001b[0m \u001b[0mcls\u001b[0m\u001b[0;34m.\u001b[0m\u001b[0m_member_map_\u001b[0m\u001b[0;34m[\u001b[0m\u001b[0mname\u001b[0m\u001b[0;34m]\u001b[0m\u001b[0;34m\u001b[0m\u001b[0;34m\u001b[0m\u001b[0m\n\u001b[1;32m    428\u001b[0m         \u001b[0;32mexcept\u001b[0m \u001b[0mKeyError\u001b[0m\u001b[0;34m:\u001b[0m\u001b[0;34m\u001b[0m\u001b[0;34m\u001b[0m\u001b[0m\n\u001b[0;32m--> 429\u001b[0;31m             \u001b[0;32mraise\u001b[0m \u001b[0mAttributeError\u001b[0m\u001b[0;34m(\u001b[0m\u001b[0mname\u001b[0m\u001b[0;34m)\u001b[0m \u001b[0;32mfrom\u001b[0m \u001b[0;32mNone\u001b[0m\u001b[0;34m\u001b[0m\u001b[0;34m\u001b[0m\u001b[0m\n\u001b[0m\u001b[1;32m    430\u001b[0m \u001b[0;34m\u001b[0m\u001b[0m\n\u001b[1;32m    431\u001b[0m     \u001b[0;32mdef\u001b[0m \u001b[0m__getitem__\u001b[0m\u001b[0;34m(\u001b[0m\u001b[0mcls\u001b[0m\u001b[0;34m,\u001b[0m \u001b[0mname\u001b[0m\u001b[0;34m)\u001b[0m\u001b[0;34m:\u001b[0m\u001b[0;34m\u001b[0m\u001b[0;34m\u001b[0m\u001b[0m\n",
      "\u001b[0;31mAttributeError\u001b[0m: keys"
     ]
    }
   ],
   "source": [
    "MethodRegistry.keys()"
   ]
  },
  {
   "cell_type": "code",
   "execution_count": 21,
   "metadata": {},
   "outputs": [],
   "source": [
    "# # Initialize environment\n",
    "# env          = StaticEnvironment(env_params)\n",
    "\n",
    "# # Populate environment with class methods\n",
    "# env.noise    = MethodRegistry.noise__zero_centered\n",
    "# env.ge       = MethodRegistry.generating_function__linear\n",
    "# env.generate = MethodRegistry.data_generator__noisy"
   ]
  }
 ],
 "metadata": {
  "language_info": {
   "name": "python"
  }
 },
 "nbformat": 4,
 "nbformat_minor": 2
}
