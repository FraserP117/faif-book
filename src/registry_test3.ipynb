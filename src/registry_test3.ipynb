{
 "cells": [
  {
   "cell_type": "code",
   "execution_count": 1,
   "metadata": {},
   "outputs": [],
   "source": [
    "import matplotlib.pyplot as plt\n",
    "import matplotlib as mpl\n",
    "import numpy as np\n",
    "\n",
    "from scipy.stats import norm \n",
    "from types import SimpleNamespace\n",
    "\n",
    "import generating_functions as GeneratingFunctions\n",
    "import generative_models as GenerativeModels\n",
    "import noise as Noise \n",
    "\n",
    "mpl.style.use(\"seaborn-deep\")"
   ]
  },
  {
   "cell_type": "code",
   "execution_count": 2,
   "metadata": {},
   "outputs": [],
   "source": [
    "class StaticLinearEnvironment:\n",
    "    def __init__(self, params: dict) -> None:\n",
    "        self.params = SimpleNamespace(**params)\n",
    "        \n",
    "    def generate(self, x_star: float):\n",
    "        noise               = Noise.zero_centered_normal(scale=self.params.y_star_std)\n",
    "        generating_function = GeneratingFunctions.linear(\n",
    "            x_star=x_star, \n",
    "            intercept=self.params.beta_0_star, \n",
    "            slope=self.params.beta_1_star) \n",
    "        \n",
    "        return generating_function + noise"
   ]
  },
  {
   "cell_type": "code",
   "execution_count": 3,
   "metadata": {},
   "outputs": [],
   "source": [
    "class ExactLinearAgent:\n",
    "    def __init__(self, params: dict) -> None:\n",
    "        self.params = SimpleNamespace(**params)\n",
    "        \n",
    "        # Model components\n",
    "        self.likelihood = None\n",
    "        self.prior = None\n",
    "        self.gen_model = None\n",
    "        self.evidence = None\n",
    "        self.posterior = None\n",
    "        \n",
    "    def generative_model(self, y: float, generating_function: callable):\n",
    "        self.likelihood = norm.pdf(y, loc=generating_function, scale=self.params.std_y)\n",
    "        self.prior      = norm.pdf(self.params.x_range, loc=self.params.m_x, scale=self.params.s_x)\n",
    "        return self.likelihood * self.prior\n",
    "        \n",
    "    def infer_state(self, y: float):\n",
    "        \n",
    "        generating_function = GeneratingFunctions.linear(\n",
    "            x_star=self.params.x_range, \n",
    "            intercept=self.params.beta_0, \n",
    "            slope=self.params.beta_1) \n",
    "    \n",
    "        self.gen_model = self.generative_model(y, generating_function)\n",
    "        self.evidence = np.sum(self.gen_model, axis=0)\n",
    "        self.posterior = self.gen_model / self.evidence\n",
    "        "
   ]
  },
  {
   "cell_type": "code",
   "execution_count": 4,
   "metadata": {},
   "outputs": [],
   "source": [
    "def create_environment(name: str, params: dict):\n",
    "    if name == \"linear_regression\":\n",
    "        raise KeyError(\"Linear regression not yet supported\")\n",
    "    elif name == \"static_linear\":\n",
    "        return StaticLinearEnvironment(params=params)\n",
    "    else:\n",
    "        raise KeyError(f\"{name} not supported. Available models: TODO\")\n",
    "    \n",
    "def create_agent(name: str, params: dict):\n",
    "    if name == \"exact_linear\":\n",
    "        return ExactLinearAgent(params=params)\n",
    "    else:\n",
    "        raise KeyError(f\"{name} not supported. Available models: TODO\")"
   ]
  },
  {
   "cell_type": "code",
   "execution_count": 13,
   "metadata": {},
   "outputs": [],
   "source": [
    "env_params = {\n",
    "    \"beta_0_star\" : 3,    # Linear parameter intercept\n",
    "    \"beta_1_star\" : 2,    # Linear parameter slope\n",
    "    \"y_star_std\"  : float(1./100)   # Standard deviation of sensory data\n",
    "}\n",
    "\n",
    "# Agent parameters\n",
    "agent_params = {\n",
    "    \"beta_0\" : 3,    # Linear parameter intercept\n",
    "    \"beta_1\" : 2,    # Linear parameter slope\n",
    "    \"std_y\"  : 0.5,  # Likelihood standard deviation\n",
    "    \"m_x\"   : 4,     # Prior mean\n",
    "    \"s_x\"  : 0.5,    # Prior standard deviation\n",
    "    \"x_range\": np.linspace(start=0.01, stop=5, num=500)\n",
    "}"
   ]
  },
  {
   "cell_type": "code",
   "execution_count": 14,
   "metadata": {},
   "outputs": [],
   "source": [
    "# Initialize environment and agent\n",
    "env = create_environment(name=\"static_linear\", params=env_params)\n",
    "agent = create_agent(name=\"exact_linear\", params=agent_params)\n",
    "\n",
    "# Generate data\n",
    "x_range = np.linspace(start=0.01, stop=5, num=500)\n",
    "x_star = 2\n",
    "y = env.generate(x_star)\n",
    "\n",
    "# Perception: Agent infers belief over hidden state using sensory data\n",
    "agent.infer_state(y)"
   ]
  },
  {
   "cell_type": "code",
   "execution_count": 15,
   "metadata": {},
   "outputs": [
    {
     "data": {
      "text/plain": [
       "<Figure size 432x288 with 0 Axes>"
      ]
     },
     "metadata": {},
     "output_type": "display_data"
    },
    {
     "data": {
      "image/png": "[encoded data removed]",
      "text/plain": [
       "<Figure size 576x216 with 3 Axes>"
      ]
     },
     "metadata": {},
     "output_type": "display_data"
    }
   ],
   "source": [
    "plt.style.use(\"seaborn-whitegrid\")\n",
    "fig = plt.figure()\n",
    "fig, axes = plt.subplots(1,3, facecolor=(1,1,1), figsize=(8,3))\n",
    "\n",
    "# Get likelihood and prior from agent\n",
    "likelihood = agent.likelihood\n",
    "prior = agent.prior\n",
    "posterior = agent.posterior\n",
    "\n",
    "# Main plot\n",
    "axes[0].plot(x_range.tolist(), prior, c=\"#1874cd\")        # Prior\n",
    "axes[1].plot(x_range.tolist(), likelihood, c=\"#cd2626\")   # Likelihood\n",
    "axes[2].plot(x_range.tolist(), posterior, c=\"#4eee94\")    # Posterior\n",
    "\n",
    "# Posterior mode and posterior axis\n",
    "axes[2].vlines(x=(np.argmax(posterior) + 1) / 100, ymin=0, ymax=0.020, linestyles=\"dashed\", linewidth=1)\n",
    "# axes[2].set_ylim([-0.001, 0.02])\n",
    "\n",
    "# Titles\n",
    "axes[0].set_title(\"Prior\")\n",
    "axes[1].set_title(\"Likelihood\")\n",
    "axes[2].set_title(\"Posterior\")\n",
    "\n",
    "# Axis global labels\n",
    "fig.supxlabel(\"Food size\", fontsize=16)\n",
    "fig.supylabel(\"Probability\", fontsize=16)\n",
    "\n",
    "# Cosmetic changes and axes ranges\n",
    "for ax in axes:\n",
    "    ax.xaxis.set_ticks(np.arange(0, 6, 1))\n",
    "    ax.axes.grid(which=\"major\", axis=\"both\", c=\"#f2f2f2\")\n",
    "    plt.setp(ax.spines.values(), color=\"black\", linewidth=0.5)\n",
    "    ax.tick_params(\n",
    "        axis='both',          \n",
    "        which='major',      \n",
    "        bottom=True,\n",
    "        left=True,\n",
    "        color=\"black\",\n",
    "        width=0.5,\n",
    "        length=3)\n",
    "    \n",
    "fig.tight_layout()"
   ]
  },
  {
   "cell_type": "code",
   "execution_count": 16,
   "metadata": {},
   "outputs": [
    {
     "name": "stdout",
     "output_type": "stream",
     "text": [
      "The posterior mode is 2.4. This is the most likely (expected) food size, the highest probability hidden state estimate, when the observed light intensity is 7 under prior assumptions.\n"
     ]
    }
   ],
   "source": [
    "mode = (np.argmax(posterior) + 1) / 100\n",
    "print(f'The posterior mode is {mode}. This is the most likely (expected) food size, the highest probability hidden state estimate, when the observed light intensity is 7 under prior assumptions.')"
   ]
  }
 ],
 "metadata": {
  "kernelspec": {
   "display_name": "base",
   "language": "python",
   "name": "python3"
  },
  "language_info": {
   "codemirror_mode": {
    "name": "ipython",
    "version": 3
   },
   "file_extension": ".py",
   "mimetype": "text/x-python",
   "name": "python",
   "nbconvert_exporter": "python",
   "pygments_lexer": "ipython3",
   "version": "3.9.7"
  }
 },
 "nbformat": 4,
 "nbformat_minor": 2
}
