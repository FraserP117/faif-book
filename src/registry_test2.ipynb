{
 "cells": [
  {
   "cell_type": "markdown",
   "metadata": {},
   "source": [
    "New draft of the agent-environment registry with a better architecture"
   ]
  },
  {
   "cell_type": "code",
   "execution_count": 4,
   "metadata": {},
   "outputs": [],
   "source": [
    "import numpy as np\n",
    "\n",
    "from types import SimpleNamespace"
   ]
  },
  {
   "cell_type": "code",
   "execution_count": 5,
   "metadata": {},
   "outputs": [],
   "source": [
    "# class StaticEnvironment:\n",
    "#     def __init__(self, params: dict) -> None:\n",
    "#         self.params = SimpleNamespace(**params)\n",
    "        \n",
    "#     def _noise(self):\n",
    "#         return np.random.normal(loc=0, scale=self.params.y_star_std)\n",
    "    \n",
    "#     def _ge(self, x_star: float) -> float:\n",
    "#         return self.params.beta_1_star * x_star + self.params.beta_0_star\n",
    "    \n",
    "#     def generate(self, x_star: float) -> float:\n",
    "#         return self._ge(x_star) + self._noise()"
   ]
  },
  {
   "cell_type": "code",
   "execution_count": null,
   "metadata": {},
   "outputs": [],
   "source": [
    "# TODO: Validate params based on what would be expected for that kind of noise function using pydantic models\n",
    "# TODO: Create an enum of the different types of supported models and add to the else statement\n",
    "\n",
    "class Noise:\n",
    "    # def __init__(self, name: str, params: SimpleNamespace) -> None:\n",
    "        # if name == \"zero_centered_unit_normal\":\n",
    "        #     self.zero_centered_unit_normal()\n",
    "        # elif name == \"zero_centered_normal\":\n",
    "        #     self.zero_centered_normal()\n",
    "        # else:\n",
    "        #     raise KeyError(f\"{name} not supported. Available noise functions: TODO\")\n",
    "    def __init__(self) -> None:\n",
    "        ...\n",
    "    \n",
    "    def zero_centered_unit_normal(self):\n",
    "        return np.random.normal(loc=0, scale=1)\n",
    "    \n",
    "    def zero_centered_normal(self):\n",
    "        # TODO: Validate parameters\n",
    "        return np.random.normal(loc=0, scale=self.params.y_star_std)"
   ]
  },
  {
   "cell_type": "code",
   "execution_count": null,
   "metadata": {},
   "outputs": [],
   "source": [
    "# TODO: Validate params based on what would be expected for that kind of noise function using pydantic models\n",
    "# TODO: Create an enum of the different types of supported models and add to the else statement\n",
    "\n",
    "class GeneratingFunction:\n",
    "    # def __init__(self, name: str, params: SimpleNamespace) -> None:\n",
    "        # if name == \"linear\":\n",
    "        #     self.linear()\n",
    "        # elif name == \"polynomial\":\n",
    "        #     raise KeyError(\"Polynomial generating functions not yet supported\")\n",
    "        # else:\n",
    "        #     raise KeyError(f\"{name} not supported. Available generating functions: TODO\")\n",
    "    def __init__(self) -> None:\n",
    "        ...\n",
    "    \n",
    "    def linear(self):\n",
    "        # TODO: Validate parameters\n",
    "        return np.random.normal(loc=0, scale=self.params.y_star_std)"
   ]
  },
  {
   "cell_type": "code",
   "execution_count": null,
   "metadata": {},
   "outputs": [],
   "source": [
    "# class Generator:\n",
    "#     # def __init__(self, name: str, params: SimpleNamespace) -> None:\n",
    "#         # if name == \"noisy\":\n",
    "#         #     self.linear(params)\n",
    "#         # elif name == \"deterministic\":\n",
    "#         #     raise KeyError(\"Polynomial generating functions not yet supported\")\n",
    "#         # else:\n",
    "#         #     raise KeyError(f\"{name} not supported. Available generating functions: TODO\")\n",
    "#     def __init__(self) -> None:\n",
    "#         ...\n",
    "    \n",
    "#     def noisy(self, x_star: float) -> float:\n",
    "#         return self._ge(x_star) + self._noise()\n",
    "    \n",
    "#     def deterministic(self) -> float:\n",
    "#         return self._noise()"
   ]
  },
  {
   "cell_type": "code",
   "execution_count": null,
   "metadata": {},
   "outputs": [],
   "source": [
    "class StaticEnvironment:\n",
    "    def __init__(self, params: dict) -> None:\n",
    "        self.params = SimpleNamespace(**params)\n",
    "        noise = Noise().zero_centered_normal\n",
    "        \n",
    "        def generator(self, x_star: float):\n",
    "            noise               = Noise().zero_centered_normal\n",
    "            generating_function = GeneratingFunction().linear(x_star) \n",
    "            \n",
    "            return generating_function + noise"
   ]
  },
  {
   "cell_type": "code",
   "execution_count": 8,
   "metadata": {},
   "outputs": [],
   "source": [
    "env_params = {\n",
    "    \"beta_0_star\" : 3,    # Linear parameter intercept\n",
    "    \"beta_1_star\" : 2,    # Linear parameter slope\n",
    "    \"y_star_std\"  : 0.5   # Standard deviation of sensory data\n",
    "}"
   ]
  },
  {
   "cell_type": "code",
   "execution_count": 12,
   "metadata": {},
   "outputs": [],
   "source": [
    "# TODO: Validate params based on what would be expected for that kind of environment using pydantic models\n",
    "# TODO: Create an enum of the different types of supported models and add to the else statement\n",
    "\n",
    "def create_environment(name: str, params=env_params):\n",
    "    if   name == \"linear_regression\":\n",
    "        raise KeyError(\"Linear regression not yet supported\")\n",
    "    elif name == \"static_linear\":\n",
    "        return StaticLinearEnvironment(params=params)\n",
    "        # return StaticEnvironment(params=params)\n",
    "    else:\n",
    "        raise KeyError(f\"{name} not supported. Available models: TODO\")"
   ]
  },
  {
   "cell_type": "code",
   "execution_count": 13,
   "metadata": {},
   "outputs": [],
   "source": [
    "# Initialize the environment and support of x\n",
    "env = create_environment(name=\"static_linear\")\n",
    "x_range   = np.linspace(start=0.01, stop=5, num=500)\n",
    "\n",
    "# Generate data\n",
    "y = np.zeros(x_range.shape[0])\n",
    "\n",
    "for idx, x in enumerate(x_range):\n",
    "    y[idx] = env.generate(x_star=x)"
   ]
  }
 ],
 "metadata": {
  "kernelspec": {
   "display_name": "base",
   "language": "python",
   "name": "python3"
  },
  "language_info": {
   "codemirror_mode": {
    "name": "ipython",
    "version": 3
   },
   "file_extension": ".py",
   "mimetype": "text/x-python",
   "name": "python",
   "nbconvert_exporter": "python",
   "pygments_lexer": "ipython3",
   "version": "3.9.7"
  }
 },
 "nbformat": 4,
 "nbformat_minor": 2
}
