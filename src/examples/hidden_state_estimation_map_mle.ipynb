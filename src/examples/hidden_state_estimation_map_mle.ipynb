{
 "cells": [
  {
   "cell_type": "markdown",
   "metadata": {},
   "source": [
    "# Hidden state estimation (linear) using MLE/MAP analytic solutions and gradient descent\n",
    "\n",
    "Demonstration of MLE/MAP estimation of the hidden state with a linear generating function using analytic solutions and gradient descent."
   ]
  },
  {
   "cell_type": "code",
   "execution_count": 1,
   "metadata": {},
   "outputs": [],
   "source": [
    "import matplotlib.pyplot as plt\n",
    "import matplotlib as mpl\n",
    "import numpy as np\n",
    "import os\n",
    "import sys\n",
    "import torch\n",
    "\n",
    "module_path = os.path.abspath(os.path.join(os.pardir, os.pardir))\n",
    "if module_path not in sys.path:\n",
    "    sys.path.append(module_path)\n",
    "\n",
    "from src.utils import create_agent, create_environment\n",
    "\n",
    "mpl.style.use(\"seaborn-deep\")"
   ]
  },
  {
   "cell_type": "markdown",
   "metadata": {},
   "source": [
    "## Analytic hidden state estimation"
   ]
  },
  {
   "cell_type": "markdown",
   "metadata": {},
   "source": [
    "### MLE solution"
   ]
  },
  {
   "cell_type": "code",
   "execution_count": 2,
   "metadata": {},
   "outputs": [],
   "source": [
    "# Environment parameters\n",
    "env_params = {\n",
    "    \"beta_0_star\" : 3,    # Linear parameter intercept\n",
    "    \"beta_1_star\" : 2,    # Linear parameter slope\n",
    "    \"y_star_std\"  : 1e-5   # Standard deviation of sensory data\n",
    "}\n",
    "\n",
    "# Initialize environment\n",
    "env = create_environment(name=\"static_linear\", params=env_params)\n",
    "\n",
    "# Generate data\n",
    "x_range = np.linspace(start=0.01, stop=5, num=500)\n",
    "x_star = 2\n",
    "\n",
    "# Build environment and generate data\n",
    "env.build(x_star)\n",
    "y = env.generate()"
   ]
  },
  {
   "cell_type": "code",
   "execution_count": 3,
   "metadata": {},
   "outputs": [
    {
     "name": "stdout",
     "output_type": "stream",
     "text": [
      "The posterior mode is 1.9999975774969858. This is the most likely (expected) food size, the highest probability hidden state estimate, when the observed light intensity is 7.\n"
     ]
    }
   ],
   "source": [
    "# Agent parameters\n",
    "agent_params = {\n",
    "    \"beta_0\" : 3,    # Linear parameter intercept\n",
    "    \"beta_1\" : 2,    # Linear parameter slope\n",
    "}\n",
    "\n",
    "agent = create_agent(name=\"linear_mle_agent\", params=agent_params)\n",
    "\n",
    "# Build model and infer states\n",
    "agent.infer_state(y)\n",
    "agent.store_history()\n",
    "\n",
    "agent_history = agent.get_history()\n",
    "posterior_mode = agent_history.posterior_mode\n",
    "\n",
    "print(f'The posterior mode is {posterior_mode}. This is the most likely (expected) food size, the highest probability hidden state estimate, when the observed light intensity is 7.')"
   ]
  },
  {
   "cell_type": "markdown",
   "metadata": {},
   "source": [
    "### MAP solution"
   ]
  },
  {
   "cell_type": "code",
   "execution_count": 4,
   "metadata": {},
   "outputs": [
    {
     "name": "stdout",
     "output_type": "stream",
     "text": [
      "The posterior mode is 2.3999980619975885. This is the most likely (expected) food size, the highest probability hidden state estimate, when the observed light intensity is 7.\n"
     ]
    }
   ],
   "source": [
    "# Agent parameters\n",
    "agent_params = {\n",
    "    \"beta_0\" : 3,    # Linear parameter intercept\n",
    "    \"beta_1\" : 2,    # Linear parameter slope\n",
    "    \"m_x\"    : 4,    # Prior mean\n",
    "}\n",
    "\n",
    "agent = create_agent(name=\"linear_map_agent\", params=agent_params)\n",
    "\n",
    "# Build model and infer states\n",
    "agent.infer_state(y)\n",
    "agent.store_history()\n",
    "\n",
    "agent_history = agent.get_history()\n",
    "posterior_mode = agent_history.posterior_mode\n",
    "\n",
    "print(f'The posterior mode is {posterior_mode}. This is the most likely (expected) food size, the highest probability hidden state estimate, when the observed light intensity is 7.')"
   ]
  },
  {
   "cell_type": "markdown",
   "metadata": {},
   "source": [
    "## Gradient descent hidden state estimation"
   ]
  },
  {
   "cell_type": "code",
   "execution_count": 5,
   "metadata": {},
   "outputs": [],
   "source": [
    "# Initialize environment and agent\n",
    "env = create_environment(name=\"static_linear\", params=env_params)\n",
    "\n",
    "# Generate data for three different x_star values\n",
    "x_range = np.linspace(start=0.01, stop=5, num=500)   # Range of x_star\n",
    "x_star  = 2                                          # External state\n",
    "N       = 500                                        # Number of samples\n",
    "y       = np.zeros(N)                                # Empty array for i=30 samples\n",
    "\n",
    "# Generate N=30 samples\n",
    "for i in range(N):\n",
    "    env.build(x_star)\n",
    "    y[i] = env.generate()\n",
    "\n",
    "y = torch.tensor(y)"
   ]
  },
  {
   "cell_type": "markdown",
   "metadata": {},
   "source": [
    "### MLE solution"
   ]
  },
  {
   "cell_type": "code",
   "execution_count": 6,
   "metadata": {},
   "outputs": [
    {
     "name": "stdout",
     "output_type": "stream",
     "text": [
      "Initializing x at 5.0.\n",
      "Final value of x: 2.053\n"
     ]
    }
   ],
   "source": [
    "\"\"\" Setup agent and infer hidden states \"\"\"\n",
    "# Agent parameters\n",
    "agent_params = {\n",
    "    \"kappa\"        : 0.00001,\n",
    "    \"n_iterations\" : 100,\n",
    "    \"x_init\"       : 5.,\n",
    "    \"beta_0\"       : 3.,\n",
    "    \"beta_1\"       : 2.,\n",
    "    \"std_y\"        : np.sqrt(0.5)\n",
    "}\n",
    "\n",
    "# Initialize agent\n",
    "agent = create_agent(name=\"linear_gradient_descent_mle_agent\", params=agent_params)\n",
    "\n",
    "# Build model and infer states\n",
    "agent.infer_state(y)\n",
    "agent.store_history()\n",
    "\n",
    "mle_history = agent.get_history()"
   ]
  },
  {
   "cell_type": "markdown",
   "metadata": {},
   "source": [
    "### MAP solution"
   ]
  },
  {
   "cell_type": "code",
   "execution_count": 7,
   "metadata": {},
   "outputs": [
    {
     "name": "stdout",
     "output_type": "stream",
     "text": [
      "Initializing x at 4.0.\n",
      "Final value of x: 2.035\n"
     ]
    }
   ],
   "source": [
    "\"\"\" Setup agent and infer hidden states \"\"\"\n",
    "# Agent parameters\n",
    "agent_params = {\n",
    "    \"kappa\"        : 0.00001,\n",
    "    \"n_iterations\" : 100,\n",
    "    \"x_init\"       : 4.,\n",
    "    \"beta_0\"       : 3.,\n",
    "    \"beta_1\"       : 2.,\n",
    "    \"std_y\"        : np.sqrt(0.5),\n",
    "    \"m_x\"          : 2,\n",
    "    \"s_x\"          : np.sqrt(0.25)\n",
    "}\n",
    "\n",
    "# Initialize agent\n",
    "agent = create_agent(name=\"linear_gradient_descent_map_agent\", params=agent_params)\n",
    "\n",
    "# Build model and infer states\n",
    "agent.infer_state(y)\n",
    "agent.store_history()\n",
    "\n",
    "map_history = agent.get_history()"
   ]
  },
  {
   "cell_type": "code",
   "execution_count": 8,
   "metadata": {},
   "outputs": [],
   "source": [
    "# Assign history to variables for plotting purposes:\n",
    "# Requires detaching gradients from tensor and converting to numpy array\n",
    "mle_x    = mle_history.x_history.detach().numpy()\n",
    "mle_loss = mle_history.loss_history.detach().numpy()\n",
    "map_x    = map_history.x_history.detach().numpy()\n",
    "map_loss = map_history.loss_history.detach().numpy()"
   ]
  },
  {
   "cell_type": "code",
   "execution_count": 9,
   "metadata": {},
   "outputs": [
    {
     "data": {
      "text/plain": [
       "<Figure size 432x288 with 0 Axes>"
      ]
     },
     "metadata": {},
     "output_type": "display_data"
    },
    {
     "data": {
      "image/png": "[encoded data removed]",
      "text/plain": [
       "<Figure size 432x216 with 2 Axes>"
      ]
     },
     "metadata": {},
     "output_type": "display_data"
    }
   ],
   "source": [
    "plt.style.use(\"seaborn-whitegrid\")\n",
    "fig = plt.figure()\n",
    "fig, axes = plt.subplots(1,2, facecolor=(1,1,1), figsize=(6, 3))\n",
    "\n",
    "# Main plot\n",
    "axes[0].plot(range(len(mle_loss)), mle_loss, c=\"#1e90ff\")\n",
    "axes[0].plot(range(len(map_loss)), map_loss, c=\"#ff3030\")\n",
    "axes[1].plot(range(len(mle_x)), mle_x, c=\"#1e90ff\", label=\"MLE\")\n",
    "axes[1].plot(range(len(map_x)), map_x, c=\"#ff3030\", label=\"MAP\")\n",
    "\n",
    "# Titles\n",
    "axes[0].set_title(\"Loss (NLL)\")\n",
    "axes[1].set_title(\"Hidden state estimation\")\n",
    "\n",
    "# Axis labels\n",
    "axes[0].set_ylabel(\"Loss\")\n",
    "axes[1].set_ylabel(\"State estimate\")\n",
    "\n",
    "# Hidden state estimate plot customization\n",
    "axes[1].set_ylim([0, 5.2])\n",
    "axes[1].axhline(y=2, linestyle=\"dashed\", linewidth=1, c=\"#595959\")\n",
    "\n",
    "# Axis global labels\n",
    "fig.supxlabel(\"Iterations\", fontsize=16)\n",
    "\n",
    "# Cosmetic changes \n",
    "for ax in axes:\n",
    "    ax.axes.grid(which=\"major\", axis=\"both\", c=\"#f2f2f2\")\n",
    "    plt.setp(ax.spines.values(), color=\"black\", linewidth=0.5)\n",
    "    ax.tick_params(\n",
    "        axis='both',          \n",
    "        which='major',      \n",
    "        bottom=True,\n",
    "        left=True,\n",
    "        color=\"black\",\n",
    "        width=0.5,\n",
    "        length=3)\n",
    "\n",
    "fig.legend(bbox_to_anchor=(1.14,0.9), loc='upper right', ncol=1)\n",
    "fig.tight_layout()"
   ]
  }
 ],
 "metadata": {
  "kernelspec": {
   "display_name": "base",
   "language": "python",
   "name": "python3"
  },
  "language_info": {
   "codemirror_mode": {
    "name": "ipython",
    "version": 3
   },
   "file_extension": ".py",
   "mimetype": "text/x-python",
   "name": "python",
   "nbconvert_exporter": "python",
   "pygments_lexer": "ipython3",
   "version": "3.9.7"
  }
 },
 "nbformat": 4,
 "nbformat_minor": 2
}
