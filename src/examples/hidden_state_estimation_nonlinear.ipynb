{
 "cells": [
  {
   "cell_type": "markdown",
   "metadata": {},
   "source": [
    "# Nonlinear hidden state estimation\n",
    "\n",
    "Demonstration of hidden state estimation in the deterministic and probabilistic cases with a nonlinear generating function."
   ]
  },
  {
   "cell_type": "code",
   "execution_count": 23,
   "metadata": {},
   "outputs": [],
   "source": [
    "import matplotlib.pyplot as plt\n",
    "import matplotlib as mpl\n",
    "import numpy as np\n",
    "import os\n",
    "import sys\n",
    "\n",
    "module_path = os.path.abspath(os.path.join(os.pardir, os.pardir))\n",
    "if module_path not in sys.path:\n",
    "    sys.path.append(module_path)\n",
    "\n",
    "from src.utils import create_agent, create_environment\n",
    "\n",
    "mpl.style.use(\"seaborn-deep\")"
   ]
  },
  {
   "cell_type": "markdown",
   "metadata": {},
   "source": [
    "## Nonlinear deterministic agent"
   ]
  },
  {
   "cell_type": "code",
   "execution_count": 24,
   "metadata": {},
   "outputs": [],
   "source": [
    "# Environment parameters\n",
    "env_params = {\n",
    "    \"beta_0_star\" : 3,    # Linear parameter intercept\n",
    "    \"beta_1_star\" : 2,    # Linear parameter slope\n",
    "    \"y_star_std\"  : 1e-5  # Standard deviation of sensory data\n",
    "}\n",
    "\n",
    "# Initialize environment and agent\n",
    "env = create_environment(name=\"static_nonlinear\", params=env_params)\n",
    "\n",
    "# Generate data\n",
    "x_range = np.linspace(start=-2.5, stop=2.5, num=500)\n",
    "x_star = 1\n",
    "\n",
    "# Build environment and generate data\n",
    "env.build(x_star)\n",
    "y = env.generate()"
   ]
  },
  {
   "cell_type": "code",
   "execution_count": 25,
   "metadata": {},
   "outputs": [
    {
     "name": "stderr",
     "output_type": "stream",
     "text": [
      "/home/sanjeev/Documents/git_repos/faif-book/src/agents/exact_agents.py:59: RuntimeWarning: divide by zero encountered in log\n",
      "  self.log_model = np.log(self.likelihood) + np.log(self.prior)\n"
     ]
    }
   ],
   "source": [
    "# Agent parameters\n",
    "agent_params = {\n",
    "    \"beta_0\" : 3,              # Linear parameter intercept\n",
    "    \"beta_1\" : 2,              # Linear parameter slope\n",
    "    \"std_y\"  : float(1./100),  # Likelihood standard deviation\n",
    "    \"ax\"     : -2.5,           # Prior uniform lower bound\n",
    "    \"bx\"     : 2.5,            # Prior uniform upper bound\n",
    "    \"x_range\": np.linspace(start=-2.5, stop=2.5, num=500)\n",
    "}\n",
    "\n",
    "# Initialize agent\n",
    "agent = create_agent(name=\"exact_nonlinear_flat_prior\", params=agent_params)\n",
    "\n",
    "# Build model and infer states\n",
    "agent.build(y)\n",
    "agent.infer_state()\n",
    "agent.store_history()\n",
    "\n",
    "agent_history = agent.get_history()"
   ]
  },
  {
   "cell_type": "code",
   "execution_count": 26,
   "metadata": {},
   "outputs": [
    {
     "data": {
      "text/plain": [
       "<Figure size 432x288 with 0 Axes>"
      ]
     },
     "metadata": {},
     "output_type": "display_data"
    },
    {
     "data": {
      "image/png": "[encoded data removed]",
      "text/plain": [
       "<Figure size 576x216 with 3 Axes>"
      ]
     },
     "metadata": {},
     "output_type": "display_data"
    }
   ],
   "source": [
    "plt.style.use(\"seaborn-whitegrid\")\n",
    "fig = plt.figure()\n",
    "fig, axes = plt.subplots(1,3, facecolor=(1,1,1), figsize=(8,3))\n",
    "\n",
    "# Get likelihood and prior from agent\n",
    "likelihood = agent_history.likelihood\n",
    "prior = agent_history.prior\n",
    "posterior = agent_history.posterior\n",
    "\n",
    "# Main plot\n",
    "axes[0].plot(x_range.tolist(), prior, c=\"#1874cd\")        # Prior\n",
    "axes[1].plot(x_range.tolist(), likelihood, c=\"#cd2626\")   # Likelihood\n",
    "axes[2].plot(x_range.tolist(), posterior, c=\"#4eee94\")    # Posterior\n",
    "\n",
    "# Titles\n",
    "axes[0].set_title(\"Prior\")\n",
    "axes[1].set_title(\"Likelihood\")\n",
    "axes[2].set_title(\"Posterior\")\n",
    "\n",
    "# Axis global labels\n",
    "fig.supxlabel(\"Food size\", fontsize=16)\n",
    "fig.supylabel(\"Probability\", fontsize=16)\n",
    "\n",
    "# Cosmetic changes and axes ranges\n",
    "for ax in axes:\n",
    "    ax.set_xlim([-2, 2])\n",
    "    ax.axes.grid(which=\"major\", axis=\"both\", c=\"#f2f2f2\")\n",
    "    plt.setp(ax.spines.values(), color=\"black\", linewidth=0.5)\n",
    "    ax.tick_params(\n",
    "        axis='both',          \n",
    "        which='major',      \n",
    "        bottom=True,\n",
    "        left=True,\n",
    "        color=\"black\",\n",
    "        width=0.5,\n",
    "        length=3)\n",
    "    \n",
    "fig.tight_layout()"
   ]
  },
  {
   "cell_type": "markdown",
   "metadata": {},
   "source": [
    "## Nonlinear probabilistic agent"
   ]
  },
  {
   "cell_type": "code",
   "execution_count": 27,
   "metadata": {},
   "outputs": [],
   "source": [
    "\"\"\" Setup environment and generate data \"\"\"\n",
    "# Environment parameters\n",
    "env_params = {\n",
    "    \"beta_0_star\" : 1,    # Linear parameter intercept\n",
    "    \"beta_1_star\" : 1,    # Linear parameter slope\n",
    "    \"y_star_std\"  : 1e-5  # Standard deviation of sensory data\n",
    "}\n",
    "\n",
    "# Initialize environment\n",
    "env = create_environment(name=\"static_nonlinear\", params=env_params)\n",
    "\n",
    "# Initialize external state and set support\n",
    "x_range = np.linspace(start=-2.5, stop=2.5, num=500)\n",
    "x_star  = np.sqrt(2)\n",
    "\n",
    "# Build environment and generate data\n",
    "env.build(x_star)\n",
    "y = env.generate()"
   ]
  },
  {
   "cell_type": "code",
   "execution_count": 28,
   "metadata": {},
   "outputs": [],
   "source": [
    "\"\"\" Setup agent and infer hidden states \"\"\"\n",
    "# Agent parameters\n",
    "agent_params = {\n",
    "    \"beta_0\" : 1,      # Linear parameter intercept\n",
    "    \"beta_1\" : 1,      # Linear parameter slope\n",
    "    \"std_y\"  : 0.5,    # Likelihood standard deviation\n",
    "    \"m_x\"    : 2,      # Prior mean\n",
    "    \"s_x\"    : 0.5,    # Prior standard deviation\n",
    "    \"x_range\": x_range\n",
    "}\n",
    "\n",
    "# Initialize agent\n",
    "agent = create_agent(name=\"exact_nonlinear\", params=agent_params)\n",
    "\n",
    "# Build model and infer states\n",
    "agent.build(y)\n",
    "agent.infer_state()\n",
    "agent.store_history()\n",
    "\n",
    "agent_history = agent.get_history()"
   ]
  },
  {
   "cell_type": "code",
   "execution_count": 29,
   "metadata": {},
   "outputs": [
    {
     "data": {
      "text/plain": [
       "<Figure size 432x288 with 0 Axes>"
      ]
     },
     "metadata": {},
     "output_type": "display_data"
    },
    {
     "data": {
      "image/png": "[encoded data removed]",
      "text/plain": [
       "<Figure size 576x216 with 3 Axes>"
      ]
     },
     "metadata": {},
     "output_type": "display_data"
    }
   ],
   "source": [
    "plt.style.use(\"seaborn-whitegrid\")\n",
    "fig = plt.figure()\n",
    "fig, axes = plt.subplots(1,3, facecolor=(1,1,1), figsize=(8,3))\n",
    "\n",
    "# Get likelihood and prior from agent\n",
    "likelihood = agent_history.likelihood\n",
    "prior = agent_history.prior\n",
    "posterior = agent_history.posterior\n",
    "\n",
    "# Main plot\n",
    "axes[0].plot(x_range, prior, c=\"#1874cd\")        # Prior\n",
    "axes[1].plot(x_range, likelihood, c=\"#cd2626\")   # Likelihood\n",
    "axes[2].plot(x_range, posterior, c=\"#4eee94\")    # Posterior\n",
    "\n",
    "# Posterior mode and posterior axis\n",
    "axes[2].axvline(x=x_range[np.argmax(posterior)], ls=\"dashed\", lw=1)\n",
    "\n",
    "# Titles\n",
    "axes[0].set_title(\"Prior\")\n",
    "axes[1].set_title(\"Likelihood\")\n",
    "axes[2].set_title(\"Posterior\")\n",
    "\n",
    "# Axis global labels\n",
    "fig.supxlabel(\"Food size\", fontsize=16)\n",
    "fig.supylabel(\"Probability\", fontsize=16)\n",
    "\n",
    "# Cosmetic changes and axes ranges\n",
    "for ax in axes:\n",
    "    ax.xaxis.set_ticks(np.arange(-3, 3, 1))\n",
    "    ax.axes.grid(which=\"major\", axis=\"both\", c=\"#f2f2f2\")\n",
    "    plt.setp(ax.spines.values(), color=\"black\", linewidth=0.5)\n",
    "    ax.tick_params(\n",
    "        axis='both',          \n",
    "        which='major',      \n",
    "        bottom=True,\n",
    "        left=True,\n",
    "        color=\"black\",\n",
    "        width=0.5,\n",
    "        length=3)\n",
    "    \n",
    "fig.tight_layout()"
   ]
  },
  {
   "cell_type": "code",
   "execution_count": 30,
   "metadata": {},
   "outputs": [
    {
     "name": "stdout",
     "output_type": "stream",
     "text": [
      "The posterior mode is 1.478. This is the expected or inferred food size, the hidden state estimate, when the observed light intensity is 3\n"
     ]
    }
   ],
   "source": [
    "mode = np.round(x_range[np.argmax(posterior)], 3)\n",
    "print(f\"The posterior mode is {mode}. This is the expected or inferred food size, the hidden state estimate, when the observed light intensity is 3\")"
   ]
  },
  {
   "cell_type": "markdown",
   "metadata": {},
   "source": [
    "It is also possible to perform inference of this kind with multiple samples. One only needs to ensure that the dimension of the input is of shape `[N, 1]` where $N$ is the number of samples. "
   ]
  },
  {
   "cell_type": "code",
   "execution_count": 31,
   "metadata": {},
   "outputs": [],
   "source": [
    "# Environment parameters\n",
    "env_params = {\n",
    "    \"beta_0_star\" : 1,    # Linear parameter intercept\n",
    "    \"beta_1_star\" : 1,    # Linear parameter slope\n",
    "    \"y_star_std\"  : 1e-5  # Standard deviation of sensory data\n",
    "}\n",
    "\n",
    "# Initialize environment and agent\n",
    "env = create_environment(name=\"static_nonlinear\", params=env_params)\n",
    "\n",
    "# Generate data for three different x_star values\n",
    "x_range = np.linspace(start=-2.5, stop=2.5, num=500) # Range of x_star\n",
    "x_star  = np.sqrt(2)                                 # External state\n",
    "N       = 30                                         # Number of samples\n",
    "y       = np.zeros(N)                                # Empty array for i=30 samples\n",
    "\n",
    "# Generate N=30 samples\n",
    "for i in range(N):\n",
    "    env.build(x_star)\n",
    "    y[i] = env.generate()\n",
    "\n",
    "y = np.expand_dims(y, axis=1)"
   ]
  },
  {
   "cell_type": "code",
   "execution_count": 32,
   "metadata": {},
   "outputs": [],
   "source": [
    "\"\"\" Setup agent and infer hidden states \"\"\"\n",
    "# Agent parameters\n",
    "agent_params = {\n",
    "    \"beta_0\" : 1,      # Linear parameter intercept\n",
    "    \"beta_1\" : 1,      # Linear parameter slope\n",
    "    \"std_y\"  : 0.5,    # Likelihood standard deviation\n",
    "    \"m_x\"    : 2,      # Prior mean\n",
    "    \"s_x\"    : 0.5,    # Prior standard deviation\n",
    "    \"x_range\": x_range\n",
    "}\n",
    "\n",
    "# Initialize agent\n",
    "agent = create_agent(name=\"exact_nonlinear\", params=agent_params)\n",
    "\n",
    "# Build model and infer states\n",
    "agent.build(y)\n",
    "agent.infer_state()\n",
    "agent.store_history()\n",
    "\n",
    "agent_history = agent.get_history()"
   ]
  },
  {
   "cell_type": "code",
   "execution_count": 33,
   "metadata": {},
   "outputs": [
    {
     "data": {
      "text/plain": [
       "<Figure size 432x288 with 0 Axes>"
      ]
     },
     "metadata": {},
     "output_type": "display_data"
    },
    {
     "data": {
      "image/png": "[encoded data removed]",
      "text/plain": [
       "<Figure size 576x216 with 3 Axes>"
      ]
     },
     "metadata": {},
     "output_type": "display_data"
    }
   ],
   "source": [
    "plt.style.use(\"seaborn-whitegrid\")\n",
    "fig = plt.figure()\n",
    "fig, axes = plt.subplots(1,3, facecolor=(1,1,1), figsize=(8,3))\n",
    "\n",
    "# Get likelihood and prior from agent\n",
    "likelihood = agent_history.likelihood\n",
    "prior = agent_history.prior\n",
    "posterior = agent_history.posterior\n",
    "\n",
    "# Main plot\n",
    "axes[0].plot(x_range, prior, c=\"#1874cd\")        # Prior\n",
    "axes[1].plot(x_range, likelihood.sum(axis=0), c=\"#cd2626\")   # Likelihood\n",
    "axes[2].plot(x_range, posterior, c=\"#4eee94\")    # Posterior\n",
    "\n",
    "# Posterior mode and posterior axis\n",
    "axes[2].axvline(x=x_range[np.argmax(posterior)], ls=\"dashed\", lw=1)\n",
    "\n",
    "# Titles\n",
    "axes[0].set_title(\"Prior\")\n",
    "axes[1].set_title(\"Likelihood\")\n",
    "axes[2].set_title(\"Posterior\")\n",
    "\n",
    "# Axis global labels\n",
    "fig.supxlabel(\"Food size\", fontsize=16)\n",
    "fig.supylabel(\"Probability\", fontsize=16)\n",
    "\n",
    "# Cosmetic changes and axes ranges\n",
    "for ax in axes:\n",
    "    ax.xaxis.set_ticks(np.arange(-3, 3, 1))\n",
    "    ax.axes.grid(which=\"major\", axis=\"both\", c=\"#f2f2f2\")\n",
    "    plt.setp(ax.spines.values(), color=\"black\", linewidth=0.5)\n",
    "    ax.tick_params(\n",
    "        axis='both',          \n",
    "        which='major',      \n",
    "        bottom=True,\n",
    "        left=True,\n",
    "        color=\"black\",\n",
    "        width=0.5,\n",
    "        length=3)\n",
    "    \n",
    "fig.tight_layout()"
   ]
  }
 ],
 "metadata": {
  "kernelspec": {
   "display_name": "base",
   "language": "python",
   "name": "python3"
  },
  "language_info": {
   "codemirror_mode": {
    "name": "ipython",
    "version": 3
   },
   "file_extension": ".py",
   "mimetype": "text/x-python",
   "name": "python",
   "nbconvert_exporter": "python",
   "pygments_lexer": "ipython3",
   "version": "3.9.7"
  }
 },
 "nbformat": 4,
 "nbformat_minor": 2
}
