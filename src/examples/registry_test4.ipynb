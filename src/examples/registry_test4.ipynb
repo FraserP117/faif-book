{
 "cells": [
  {
   "cell_type": "code",
   "execution_count": 2,
   "metadata": {},
   "outputs": [],
   "source": [
    "# from enum import Enum\n",
    "\n",
    "# class EnvironmentRegistry(Enum):\n",
    "#     static_linear = \"static_linear\"\n",
    "#     static_nonlinear = \"static_nonlinear\"\n",
    "\n",
    "# class AgentRegistry(Enum):\n",
    "#     exact_linear = \"exact_linear\"\n",
    "#     exact_linear_flat_prior = \"exact_linear_flat_prior\"\n",
    "#     exact_nonlinear = \"exact_nonlinear\"\n",
    "#     exact_nonlinear_flat_prior = \"exact_nonlinear_flat_prior\"\n",
    "#     linear_mle_agent = \"linear_mle_agent\"\n",
    "#     linear_map_agent = \"linear_map_agent\"\n",
    "#     linear_gradient_descent_mle_agent = \"linear_gradient_descent_mle_agent\"\n",
    "#     linear_gradient_descent_map_agent = \"linear_gradient_descent_map_agent\""
   ]
  },
  {
   "cell_type": "code",
   "execution_count": 7,
   "metadata": {},
   "outputs": [],
   "source": [
    "# name = \"fdf\"\n",
    "# if name == EnvironmentRegistry.static_linear.value:\n",
    "#     print(\"True\")"
   ]
  },
  {
   "cell_type": "code",
   "execution_count": 4,
   "metadata": {},
   "outputs": [
    {
     "data": {
      "text/plain": [
       "'static_linear'"
      ]
     },
     "execution_count": 4,
     "metadata": {},
     "output_type": "execute_result"
    }
   ],
   "source": [
    "# EnvironmentRegistry.static_linear.value"
   ]
  },
  {
   "cell_type": "code",
   "execution_count": 12,
   "metadata": {},
   "outputs": [
    {
     "data": {
      "text/plain": [
       "['exact_linear',\n",
       " 'exact_linear_flat_prior',\n",
       " 'exact_nonlinear',\n",
       " 'exact_nonlinear_flat_prior',\n",
       " 'linear_mle_agent',\n",
       " 'linear_map_agent',\n",
       " 'linear_gradient_descent_mle_agent',\n",
       " 'linear_gradient_descent_map_agent']"
      ]
     },
     "execution_count": 12,
     "metadata": {},
     "output_type": "execute_result"
    }
   ],
   "source": [
    "# [agent_name.value for agent_name in AgentRegistry]"
   ]
  },
  {
   "cell_type": "code",
   "execution_count": 1,
   "metadata": {},
   "outputs": [
    {
     "ename": "KeyError",
     "evalue": "\"Agent name 'ff' not supported. Available agents: ['exact_linear', 'exact_linear_flat_prior', 'exact_nonlinear', 'exact_nonlinear_flat_prior', 'linear_mle_agent', 'linear_map_agent', 'linear_gradient_descent_mle_agent', 'linear_gradient_descent_map_agent']\"",
     "output_type": "error",
     "traceback": [
      "\u001b[0;31m---------------------------------------------------------------------------\u001b[0m",
      "\u001b[0;31mKeyError\u001b[0m                                  Traceback (most recent call last)",
      "\u001b[0;32m/tmp/ipykernel_472385/830584935.py\u001b[0m in \u001b[0;36m<module>\u001b[0;34m\u001b[0m\n\u001b[1;32m      8\u001b[0m \u001b[0;32mfrom\u001b[0m \u001b[0msrc\u001b[0m\u001b[0;34m.\u001b[0m\u001b[0mutils\u001b[0m \u001b[0;32mimport\u001b[0m \u001b[0mcreate_agent\u001b[0m\u001b[0;34m,\u001b[0m \u001b[0mcreate_environment\u001b[0m\u001b[0;34m\u001b[0m\u001b[0;34m\u001b[0m\u001b[0m\n\u001b[1;32m      9\u001b[0m \u001b[0;34m\u001b[0m\u001b[0m\n\u001b[0;32m---> 10\u001b[0;31m \u001b[0mcreate_agent\u001b[0m\u001b[0;34m(\u001b[0m\u001b[0mname\u001b[0m\u001b[0;34m=\u001b[0m\u001b[0;34m\"ff\"\u001b[0m\u001b[0;34m,\u001b[0m \u001b[0mparams\u001b[0m\u001b[0;34m=\u001b[0m\u001b[0;34m{\u001b[0m\u001b[0;34m}\u001b[0m\u001b[0;34m)\u001b[0m\u001b[0;34m\u001b[0m\u001b[0;34m\u001b[0m\u001b[0m\n\u001b[0m",
      "\u001b[0;32m~/Documents/git_repos/faif-book/src/utils.py\u001b[0m in \u001b[0;36mcreate_agent\u001b[0;34m(name, params)\u001b[0m\n\u001b[1;32m     45\u001b[0m \u001b[0;34m\u001b[0m\u001b[0m\n\u001b[1;32m     46\u001b[0m     \u001b[0;32melse\u001b[0m\u001b[0;34m:\u001b[0m\u001b[0;34m\u001b[0m\u001b[0;34m\u001b[0m\u001b[0m\n\u001b[0;32m---> 47\u001b[0;31m         \u001b[0;32mraise\u001b[0m \u001b[0mKeyError\u001b[0m\u001b[0;34m(\u001b[0m\u001b[0;34mf\"Agent name '{name}' not supported. Available agents: {AGENT_REGISTRY}\"\u001b[0m\u001b[0;34m)\u001b[0m\u001b[0;34m\u001b[0m\u001b[0;34m\u001b[0m\u001b[0m\n\u001b[0m\u001b[1;32m     48\u001b[0m \u001b[0;34m\u001b[0m\u001b[0m\n\u001b[1;32m     49\u001b[0m \u001b[0;32mdef\u001b[0m \u001b[0mvalidate_parameters\u001b[0m\u001b[0;34m(\u001b[0m\u001b[0;34m)\u001b[0m\u001b[0;34m:\u001b[0m\u001b[0;34m\u001b[0m\u001b[0;34m\u001b[0m\u001b[0m\n",
      "\u001b[0;31mKeyError\u001b[0m: \"Agent name 'ff' not supported. Available agents: ['exact_linear', 'exact_linear_flat_prior', 'exact_nonlinear', 'exact_nonlinear_flat_prior', 'linear_mle_agent', 'linear_map_agent', 'linear_gradient_descent_mle_agent', 'linear_gradient_descent_map_agent']\""
     ]
    }
   ],
   "source": [
    "import os\n",
    "import sys\n",
    "\n",
    "module_path = os.path.abspath(os.path.join(os.pardir, os.pardir))\n",
    "if module_path not in sys.path:\n",
    "    sys.path.append(module_path)\n",
    "\n",
    "from src.utils import create_agent, create_environment\n",
    "\n",
    "create_agent(name=\"ff\", params={})"
   ]
  }
 ],
 "metadata": {
  "kernelspec": {
   "display_name": "base",
   "language": "python",
   "name": "python3"
  },
  "language_info": {
   "codemirror_mode": {
    "name": "ipython",
    "version": 3
   },
   "file_extension": ".py",
   "mimetype": "text/x-python",
   "name": "python",
   "nbconvert_exporter": "python",
   "pygments_lexer": "ipython3",
   "version": "3.9.7"
  }
 },
 "nbformat": 4,
 "nbformat_minor": 2
}
